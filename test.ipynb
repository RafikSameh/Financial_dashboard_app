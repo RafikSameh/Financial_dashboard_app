{
 "cells": [
  {
   "cell_type": "code",
   "execution_count": 27,
   "id": "829c03d4",
   "metadata": {},
   "outputs": [],
   "source": [
    "import pandas as pd\n",
    "import numpy as np"
   ]
  },
  {
   "cell_type": "code",
   "execution_count": 28,
   "id": "0c49d019",
   "metadata": {},
   "outputs": [],
   "source": [
    "database = pd.read_excel(\"Cash flow Forecasting. Yomn - RS.xlsx\",sheet_name=\"DataBase\")"
   ]
  },
  {
   "cell_type": "code",
   "execution_count": 29,
   "id": "c10218cc",
   "metadata": {},
   "outputs": [
    {
     "data": {
      "text/html": [
       "<div>\n",
       "<style scoped>\n",
       "    .dataframe tbody tr th:only-of-type {\n",
       "        vertical-align: middle;\n",
       "    }\n",
       "\n",
       "    .dataframe tbody tr th {\n",
       "        vertical-align: top;\n",
       "    }\n",
       "\n",
       "    .dataframe thead th {\n",
       "        text-align: right;\n",
       "    }\n",
       "</style>\n",
       "<table border=\"1\" class=\"dataframe\">\n",
       "  <thead>\n",
       "    <tr style=\"text-align: right;\">\n",
       "      <th></th>\n",
       "      <th>Country</th>\n",
       "      <th>Cash Flow Type</th>\n",
       "      <th>Category</th>\n",
       "      <th>Item</th>\n",
       "      <th>Date</th>\n",
       "      <th>Total</th>\n",
       "      <th>Section</th>\n",
       "      <th>Direction</th>\n",
       "      <th>Beginning Cash Balance</th>\n",
       "      <th>Month</th>\n",
       "    </tr>\n",
       "  </thead>\n",
       "  <tbody>\n",
       "    <tr>\n",
       "      <th>0</th>\n",
       "      <td>Egypt</td>\n",
       "      <td>Operating Cash Outflow</td>\n",
       "      <td>Accounting Exp</td>\n",
       "      <td>EGY Accountant: Delta</td>\n",
       "      <td>2026-01-01</td>\n",
       "      <td>-1500.0</td>\n",
       "      <td>Operating</td>\n",
       "      <td>Outflow</td>\n",
       "      <td>2.205264e+03</td>\n",
       "      <td>Jan 26</td>\n",
       "    </tr>\n",
       "    <tr>\n",
       "      <th>1</th>\n",
       "      <td>Egypt</td>\n",
       "      <td>Operating Cash Outflow</td>\n",
       "      <td>Accounting Exp</td>\n",
       "      <td>EGY Accountant: Delta</td>\n",
       "      <td>2026-02-01</td>\n",
       "      <td>-1500.0</td>\n",
       "      <td>Operating</td>\n",
       "      <td>Outflow</td>\n",
       "      <td>-1.082833e+05</td>\n",
       "      <td>Feb 26</td>\n",
       "    </tr>\n",
       "    <tr>\n",
       "      <th>2</th>\n",
       "      <td>Egypt</td>\n",
       "      <td>Operating Cash Outflow</td>\n",
       "      <td>Accounting Exp</td>\n",
       "      <td>EGY Accountant: Delta</td>\n",
       "      <td>2026-03-01</td>\n",
       "      <td>-4800.0</td>\n",
       "      <td>Operating</td>\n",
       "      <td>Outflow</td>\n",
       "      <td>-1.415264e+06</td>\n",
       "      <td>Mar 26</td>\n",
       "    </tr>\n",
       "    <tr>\n",
       "      <th>3</th>\n",
       "      <td>Egypt</td>\n",
       "      <td>Operating Cash Outflow</td>\n",
       "      <td>Accounting Exp</td>\n",
       "      <td>EGY Accountant: Delta</td>\n",
       "      <td>2026-04-01</td>\n",
       "      <td>-1500.0</td>\n",
       "      <td>Operating</td>\n",
       "      <td>Outflow</td>\n",
       "      <td>-1.413195e+06</td>\n",
       "      <td>Apr 26</td>\n",
       "    </tr>\n",
       "    <tr>\n",
       "      <th>4</th>\n",
       "      <td>Egypt</td>\n",
       "      <td>Operating Cash Outflow</td>\n",
       "      <td>Accounting Exp</td>\n",
       "      <td>EGY Accountant: Delta</td>\n",
       "      <td>2026-05-01</td>\n",
       "      <td>-1500.0</td>\n",
       "      <td>Operating</td>\n",
       "      <td>Outflow</td>\n",
       "      <td>-1.627724e+06</td>\n",
       "      <td>May 26</td>\n",
       "    </tr>\n",
       "    <tr>\n",
       "      <th>...</th>\n",
       "      <td>...</td>\n",
       "      <td>...</td>\n",
       "      <td>...</td>\n",
       "      <td>...</td>\n",
       "      <td>...</td>\n",
       "      <td>...</td>\n",
       "      <td>...</td>\n",
       "      <td>...</td>\n",
       "      <td>...</td>\n",
       "      <td>...</td>\n",
       "    </tr>\n",
       "    <tr>\n",
       "      <th>457</th>\n",
       "      <td>KSA</td>\n",
       "      <td>Financing Cashflow</td>\n",
       "      <td>Repayment</td>\n",
       "      <td>Repayment of loan -Riyadh Bank</td>\n",
       "      <td>2025-08-01</td>\n",
       "      <td>0.0</td>\n",
       "      <td>Financing</td>\n",
       "      <td>Inflow</td>\n",
       "      <td>1.578021e+05</td>\n",
       "      <td>Aug 25</td>\n",
       "    </tr>\n",
       "    <tr>\n",
       "      <th>458</th>\n",
       "      <td>KSA</td>\n",
       "      <td>Financing Cashflow</td>\n",
       "      <td>Repayment</td>\n",
       "      <td>Repayment of loan -Riyadh Bank</td>\n",
       "      <td>2025-09-01</td>\n",
       "      <td>0.0</td>\n",
       "      <td>Financing</td>\n",
       "      <td>Inflow</td>\n",
       "      <td>1.258979e+06</td>\n",
       "      <td>Sep 25</td>\n",
       "    </tr>\n",
       "    <tr>\n",
       "      <th>459</th>\n",
       "      <td>KSA</td>\n",
       "      <td>Financing Cashflow</td>\n",
       "      <td>Repayment</td>\n",
       "      <td>Repayment of loan -Riyadh Bank</td>\n",
       "      <td>2025-10-01</td>\n",
       "      <td>-609485.0</td>\n",
       "      <td>Financing</td>\n",
       "      <td>Outflow</td>\n",
       "      <td>-1.760380e+05</td>\n",
       "      <td>Oct 25</td>\n",
       "    </tr>\n",
       "    <tr>\n",
       "      <th>460</th>\n",
       "      <td>KSA</td>\n",
       "      <td>Financing Cashflow</td>\n",
       "      <td>Repayment</td>\n",
       "      <td>Repayment of loan -Riyadh Bank</td>\n",
       "      <td>2025-11-01</td>\n",
       "      <td>0.0</td>\n",
       "      <td>Financing</td>\n",
       "      <td>Inflow</td>\n",
       "      <td>1.228442e+05</td>\n",
       "      <td>Nov 25</td>\n",
       "    </tr>\n",
       "    <tr>\n",
       "      <th>461</th>\n",
       "      <td>KSA</td>\n",
       "      <td>Financing Cashflow</td>\n",
       "      <td>Repayment</td>\n",
       "      <td>Repayment of loan -Riyadh Bank</td>\n",
       "      <td>2025-12-01</td>\n",
       "      <td>0.0</td>\n",
       "      <td>Financing</td>\n",
       "      <td>Inflow</td>\n",
       "      <td>6.434624e+04</td>\n",
       "      <td>Dec 25</td>\n",
       "    </tr>\n",
       "  </tbody>\n",
       "</table>\n",
       "<p>462 rows × 10 columns</p>\n",
       "</div>"
      ],
      "text/plain": [
       "    Country          Cash Flow Type         Category  \\\n",
       "0     Egypt  Operating Cash Outflow  Accounting Exp    \n",
       "1     Egypt  Operating Cash Outflow  Accounting Exp    \n",
       "2     Egypt  Operating Cash Outflow  Accounting Exp    \n",
       "3     Egypt  Operating Cash Outflow  Accounting Exp    \n",
       "4     Egypt  Operating Cash Outflow  Accounting Exp    \n",
       "..      ...                     ...              ...   \n",
       "457     KSA      Financing Cashflow        Repayment   \n",
       "458     KSA      Financing Cashflow        Repayment   \n",
       "459     KSA      Financing Cashflow        Repayment   \n",
       "460     KSA      Financing Cashflow        Repayment   \n",
       "461     KSA      Financing Cashflow        Repayment   \n",
       "\n",
       "                                Item      Date      Total    Section  \\\n",
       "0              EGY Accountant: Delta 2026-01-01   -1500.0  Operating   \n",
       "1              EGY Accountant: Delta 2026-02-01   -1500.0  Operating   \n",
       "2              EGY Accountant: Delta 2026-03-01   -4800.0  Operating   \n",
       "3              EGY Accountant: Delta 2026-04-01   -1500.0  Operating   \n",
       "4              EGY Accountant: Delta 2026-05-01   -1500.0  Operating   \n",
       "..                               ...        ...       ...        ...   \n",
       "457  Repayment of loan -Riyadh Bank  2025-08-01       0.0  Financing   \n",
       "458  Repayment of loan -Riyadh Bank  2025-09-01       0.0  Financing   \n",
       "459  Repayment of loan -Riyadh Bank  2025-10-01 -609485.0  Financing   \n",
       "460  Repayment of loan -Riyadh Bank  2025-11-01       0.0  Financing   \n",
       "461  Repayment of loan -Riyadh Bank  2025-12-01       0.0  Financing   \n",
       "\n",
       "    Direction  Beginning Cash Balance   Month  \n",
       "0     Outflow            2.205264e+03  Jan 26  \n",
       "1     Outflow           -1.082833e+05  Feb 26  \n",
       "2     Outflow           -1.415264e+06  Mar 26  \n",
       "3     Outflow           -1.413195e+06  Apr 26  \n",
       "4     Outflow           -1.627724e+06  May 26  \n",
       "..        ...                     ...     ...  \n",
       "457    Inflow            1.578021e+05  Aug 25  \n",
       "458    Inflow            1.258979e+06  Sep 25  \n",
       "459   Outflow           -1.760380e+05  Oct 25  \n",
       "460    Inflow            1.228442e+05  Nov 25  \n",
       "461    Inflow            6.434624e+04  Dec 25  \n",
       "\n",
       "[462 rows x 10 columns]"
      ]
     },
     "execution_count": 29,
     "metadata": {},
     "output_type": "execute_result"
    }
   ],
   "source": [
    "database"
   ]
  },
  {
   "cell_type": "markdown",
   "id": "410fe956",
   "metadata": {},
   "source": [
    "# Excel sheet handler"
   ]
  },
  {
   "cell_type": "code",
   "execution_count": 30,
   "id": "d9cc4d45",
   "metadata": {},
   "outputs": [
    {
     "data": {
      "text/html": [
       "<div>\n",
       "<style scoped>\n",
       "    .dataframe tbody tr th:only-of-type {\n",
       "        vertical-align: middle;\n",
       "    }\n",
       "\n",
       "    .dataframe tbody tr th {\n",
       "        vertical-align: top;\n",
       "    }\n",
       "\n",
       "    .dataframe thead th {\n",
       "        text-align: right;\n",
       "    }\n",
       "</style>\n",
       "<table border=\"1\" class=\"dataframe\">\n",
       "  <thead>\n",
       "    <tr style=\"text-align: right;\">\n",
       "      <th></th>\n",
       "      <th>Country</th>\n",
       "      <th>Cash Flow Type</th>\n",
       "      <th>Category</th>\n",
       "      <th>Item</th>\n",
       "      <th>2025-08-01 00:00:00</th>\n",
       "      <th>2025-09-01 00:00:00</th>\n",
       "      <th>2025-10-01 00:00:00</th>\n",
       "      <th>2025-11-01 00:00:00</th>\n",
       "      <th>2025-12-01 00:00:00</th>\n",
       "      <th>2026-01-01 00:00:00</th>\n",
       "      <th>2026-02-01 00:00:00</th>\n",
       "      <th>2026-03-01 00:00:00</th>\n",
       "      <th>2026-04-01 00:00:00</th>\n",
       "      <th>2026-05-01 00:00:00</th>\n",
       "      <th>2026-06-01 00:00:00</th>\n",
       "    </tr>\n",
       "  </thead>\n",
       "  <tbody>\n",
       "    <tr>\n",
       "      <th>3</th>\n",
       "      <td>NaN</td>\n",
       "      <td>NaN</td>\n",
       "      <td>1</td>\n",
       "      <td>Operating Cash Inflow</td>\n",
       "      <td>NaN</td>\n",
       "      <td>NaN</td>\n",
       "      <td>NaN</td>\n",
       "      <td>NaN</td>\n",
       "      <td>NaN</td>\n",
       "      <td>NaN</td>\n",
       "      <td>NaN</td>\n",
       "      <td>NaN</td>\n",
       "      <td>NaN</td>\n",
       "      <td>NaN</td>\n",
       "      <td>NaN</td>\n",
       "    </tr>\n",
       "    <tr>\n",
       "      <th>4</th>\n",
       "      <td>KSA</td>\n",
       "      <td>Operating Cash Inflow</td>\n",
       "      <td>NWC Project</td>\n",
       "      <td>NWC Project - Consulting</td>\n",
       "      <td>NaN</td>\n",
       "      <td>94764.6</td>\n",
       "      <td>1000000</td>\n",
       "      <td>300000</td>\n",
       "      <td>300000</td>\n",
       "      <td>300000</td>\n",
       "      <td>300000</td>\n",
       "      <td>300000</td>\n",
       "      <td>300000</td>\n",
       "      <td>300000</td>\n",
       "      <td>300000</td>\n",
       "    </tr>\n",
       "    <tr>\n",
       "      <th>5</th>\n",
       "      <td>KSA</td>\n",
       "      <td>Operating Cash Inflow</td>\n",
       "      <td>NWC Project</td>\n",
       "      <td>NWC Project - Non-Consulting</td>\n",
       "      <td>NaN</td>\n",
       "      <td>NaN</td>\n",
       "      <td>NaN</td>\n",
       "      <td>NaN</td>\n",
       "      <td>NaN</td>\n",
       "      <td>NaN</td>\n",
       "      <td>NaN</td>\n",
       "      <td>NaN</td>\n",
       "      <td>NaN</td>\n",
       "      <td>NaN</td>\n",
       "      <td>NaN</td>\n",
       "    </tr>\n",
       "    <tr>\n",
       "      <th>6</th>\n",
       "      <td>KSA</td>\n",
       "      <td>Operating Cash Inflow</td>\n",
       "      <td>NWC Project</td>\n",
       "      <td>NWC Project - Consulting and Non-Consulting</td>\n",
       "      <td>NaN</td>\n",
       "      <td>NaN</td>\n",
       "      <td>161462</td>\n",
       "      <td>NaN</td>\n",
       "      <td>NaN</td>\n",
       "      <td>NaN</td>\n",
       "      <td>NaN</td>\n",
       "      <td>NaN</td>\n",
       "      <td>NaN</td>\n",
       "      <td>NaN</td>\n",
       "      <td>NaN</td>\n",
       "    </tr>\n",
       "    <tr>\n",
       "      <th>7</th>\n",
       "      <td>KSA</td>\n",
       "      <td>Operating Cash Inflow</td>\n",
       "      <td>MWAN Project</td>\n",
       "      <td>MWAN Project</td>\n",
       "      <td>NaN</td>\n",
       "      <td>NaN</td>\n",
       "      <td>194977</td>\n",
       "      <td>NaN</td>\n",
       "      <td>NaN</td>\n",
       "      <td>NaN</td>\n",
       "      <td>NaN</td>\n",
       "      <td>NaN</td>\n",
       "      <td>NaN</td>\n",
       "      <td>NaN</td>\n",
       "      <td>NaN</td>\n",
       "    </tr>\n",
       "    <tr>\n",
       "      <th>8</th>\n",
       "      <td>KSA</td>\n",
       "      <td>Operating Cash Inflow</td>\n",
       "      <td>MWAN Project</td>\n",
       "      <td>MWAN Project - LG refund</td>\n",
       "      <td>NaN</td>\n",
       "      <td>NaN</td>\n",
       "      <td>NaN</td>\n",
       "      <td>NaN</td>\n",
       "      <td>75000</td>\n",
       "      <td>NaN</td>\n",
       "      <td>NaN</td>\n",
       "      <td>NaN</td>\n",
       "      <td>NaN</td>\n",
       "      <td>NaN</td>\n",
       "      <td>NaN</td>\n",
       "    </tr>\n",
       "    <tr>\n",
       "      <th>9</th>\n",
       "      <td>NaN</td>\n",
       "      <td>NaN</td>\n",
       "      <td>NaN</td>\n",
       "      <td>Total Operating Cash Inflow</td>\n",
       "      <td>0</td>\n",
       "      <td>94764.6</td>\n",
       "      <td>1356439</td>\n",
       "      <td>300000</td>\n",
       "      <td>375000</td>\n",
       "      <td>300000</td>\n",
       "      <td>300000</td>\n",
       "      <td>300000</td>\n",
       "      <td>300000</td>\n",
       "      <td>300000</td>\n",
       "      <td>300000</td>\n",
       "    </tr>\n",
       "    <tr>\n",
       "      <th>10</th>\n",
       "      <td>NaN</td>\n",
       "      <td>NaN</td>\n",
       "      <td>2</td>\n",
       "      <td>Operating Cash Outflow</td>\n",
       "      <td>NaN</td>\n",
       "      <td>NaN</td>\n",
       "      <td>NaN</td>\n",
       "      <td>NaN</td>\n",
       "      <td>NaN</td>\n",
       "      <td>NaN</td>\n",
       "      <td>NaN</td>\n",
       "      <td>NaN</td>\n",
       "      <td>NaN</td>\n",
       "      <td>NaN</td>\n",
       "      <td>NaN</td>\n",
       "    </tr>\n",
       "    <tr>\n",
       "      <th>11</th>\n",
       "      <td>KSA</td>\n",
       "      <td>Operating Cash Outflow</td>\n",
       "      <td>Personnel</td>\n",
       "      <td>Salaries</td>\n",
       "      <td>NaN</td>\n",
       "      <td>-191500</td>\n",
       "      <td>-136000</td>\n",
       "      <td>-136000</td>\n",
       "      <td>-136000</td>\n",
       "      <td>-136000</td>\n",
       "      <td>-136000</td>\n",
       "      <td>-128000</td>\n",
       "      <td>-128000</td>\n",
       "      <td>-128000</td>\n",
       "      <td>-128000</td>\n",
       "    </tr>\n",
       "    <tr>\n",
       "      <th>12</th>\n",
       "      <td>KSA</td>\n",
       "      <td>Operating Cash Outflow</td>\n",
       "      <td>Personnel</td>\n",
       "      <td>End Of Services</td>\n",
       "      <td>NaN</td>\n",
       "      <td>-47248.33</td>\n",
       "      <td>-63766.83</td>\n",
       "      <td>0</td>\n",
       "      <td>0</td>\n",
       "      <td>0</td>\n",
       "      <td>0</td>\n",
       "      <td>0</td>\n",
       "      <td>0</td>\n",
       "      <td>0</td>\n",
       "      <td>0</td>\n",
       "    </tr>\n",
       "    <tr>\n",
       "      <th>13</th>\n",
       "      <td>KSA</td>\n",
       "      <td>Operating Cash Outflow</td>\n",
       "      <td>Personnel</td>\n",
       "      <td>GOSI</td>\n",
       "      <td>NaN</td>\n",
       "      <td>-10036.63</td>\n",
       "      <td>-10036.63</td>\n",
       "      <td>-10036.63</td>\n",
       "      <td>-10036.63</td>\n",
       "      <td>-10036.63</td>\n",
       "      <td>-10036.63</td>\n",
       "      <td>-10036.63</td>\n",
       "      <td>-10036.63</td>\n",
       "      <td>-10036.63</td>\n",
       "      <td>-10036.63</td>\n",
       "    </tr>\n",
       "    <tr>\n",
       "      <th>14</th>\n",
       "      <td>KSA</td>\n",
       "      <td>Operating Cash Outflow</td>\n",
       "      <td>Personnel</td>\n",
       "      <td>Iqama renewal</td>\n",
       "      <td>NaN</td>\n",
       "      <td>NaN</td>\n",
       "      <td>NaN</td>\n",
       "      <td>-9150</td>\n",
       "      <td>-9150</td>\n",
       "      <td>NaN</td>\n",
       "      <td>NaN</td>\n",
       "      <td>NaN</td>\n",
       "      <td>NaN</td>\n",
       "      <td>NaN</td>\n",
       "      <td>NaN</td>\n",
       "    </tr>\n",
       "    <tr>\n",
       "      <th>15</th>\n",
       "      <td>KSA</td>\n",
       "      <td>Operating Cash Outflow</td>\n",
       "      <td>Personnel</td>\n",
       "      <td>Medical Insurance</td>\n",
       "      <td>NaN</td>\n",
       "      <td>NaN</td>\n",
       "      <td>NaN</td>\n",
       "      <td>NaN</td>\n",
       "      <td>-67101</td>\n",
       "      <td>NaN</td>\n",
       "      <td>NaN</td>\n",
       "      <td>NaN</td>\n",
       "      <td>NaN</td>\n",
       "      <td>NaN</td>\n",
       "      <td>NaN</td>\n",
       "    </tr>\n",
       "    <tr>\n",
       "      <th>16</th>\n",
       "      <td>KSA</td>\n",
       "      <td>Operating Cash Outflow</td>\n",
       "      <td>Personnel</td>\n",
       "      <td>Ahmed Gharawy - Benefits -Tickets</td>\n",
       "      <td>NaN</td>\n",
       "      <td>NaN</td>\n",
       "      <td>NaN</td>\n",
       "      <td>NaN</td>\n",
       "      <td>NaN</td>\n",
       "      <td>NaN</td>\n",
       "      <td>NaN</td>\n",
       "      <td>NaN</td>\n",
       "      <td>NaN</td>\n",
       "      <td>-9600</td>\n",
       "      <td>NaN</td>\n",
       "    </tr>\n",
       "    <tr>\n",
       "      <th>17</th>\n",
       "      <td>KSA</td>\n",
       "      <td>Operating Cash Outflow</td>\n",
       "      <td>Personnel</td>\n",
       "      <td>KSA Accountant - general:</td>\n",
       "      <td>NaN</td>\n",
       "      <td>-6000</td>\n",
       "      <td>-6000</td>\n",
       "      <td>-6000</td>\n",
       "      <td>-6000</td>\n",
       "      <td>-6000</td>\n",
       "      <td>-6000</td>\n",
       "      <td>-6000</td>\n",
       "      <td>-6000</td>\n",
       "      <td>-6000</td>\n",
       "      <td>-6000</td>\n",
       "    </tr>\n",
       "    <tr>\n",
       "      <th>18</th>\n",
       "      <td>KSA</td>\n",
       "      <td>Operating Cash Outflow</td>\n",
       "      <td>Recruitment</td>\n",
       "      <td>Linkedin Exp</td>\n",
       "      <td>NaN</td>\n",
       "      <td>-10000</td>\n",
       "      <td>-5000</td>\n",
       "      <td>-5000</td>\n",
       "      <td>-5000</td>\n",
       "      <td>-5000</td>\n",
       "      <td>-5000</td>\n",
       "      <td>-5000</td>\n",
       "      <td>-5000</td>\n",
       "      <td>-5000</td>\n",
       "      <td>-5000</td>\n",
       "    </tr>\n",
       "    <tr>\n",
       "      <th>19</th>\n",
       "      <td>KSA</td>\n",
       "      <td>Operating Cash Outflow</td>\n",
       "      <td>Vendor</td>\n",
       "      <td>La Aseer Project - Vendor</td>\n",
       "      <td>-18692.2</td>\n",
       "      <td>-18692.2</td>\n",
       "      <td>-18692.2</td>\n",
       "      <td>-18692.2</td>\n",
       "      <td>-18692.2</td>\n",
       "      <td>NaN</td>\n",
       "      <td>NaN</td>\n",
       "      <td>NaN</td>\n",
       "      <td>NaN</td>\n",
       "      <td>NaN</td>\n",
       "      <td>NaN</td>\n",
       "    </tr>\n",
       "    <tr>\n",
       "      <th>20</th>\n",
       "      <td>KSA</td>\n",
       "      <td>Operating Cash Outflow</td>\n",
       "      <td>Vendor</td>\n",
       "      <td>La Aseer Project - Vendor</td>\n",
       "      <td>-8675.6</td>\n",
       "      <td>-8675.6</td>\n",
       "      <td>-8675.6</td>\n",
       "      <td>-8675.6</td>\n",
       "      <td>-8675.6</td>\n",
       "      <td>NaN</td>\n",
       "      <td>NaN</td>\n",
       "      <td>NaN</td>\n",
       "      <td>NaN</td>\n",
       "      <td>NaN</td>\n",
       "      <td>NaN</td>\n",
       "    </tr>\n",
       "    <tr>\n",
       "      <th>21</th>\n",
       "      <td>KSA</td>\n",
       "      <td>Operating Cash Outflow</td>\n",
       "      <td>Vendor</td>\n",
       "      <td>MWAN Project -Ata allah Photographer</td>\n",
       "      <td>-15000</td>\n",
       "      <td>-15000</td>\n",
       "      <td>-15000</td>\n",
       "      <td>NaN</td>\n",
       "      <td>NaN</td>\n",
       "      <td>NaN</td>\n",
       "      <td>NaN</td>\n",
       "      <td>NaN</td>\n",
       "      <td>NaN</td>\n",
       "      <td>NaN</td>\n",
       "      <td>NaN</td>\n",
       "    </tr>\n",
       "    <tr>\n",
       "      <th>22</th>\n",
       "      <td>KSA</td>\n",
       "      <td>Operating Cash Outflow</td>\n",
       "      <td>Vendor</td>\n",
       "      <td>MWAN Project -Dar Nassah</td>\n",
       "      <td>-19481</td>\n",
       "      <td>-19481</td>\n",
       "      <td>-19481</td>\n",
       "      <td>-19481</td>\n",
       "      <td>-19481</td>\n",
       "      <td>NaN</td>\n",
       "      <td>NaN</td>\n",
       "      <td>NaN</td>\n",
       "      <td>NaN</td>\n",
       "      <td>NaN</td>\n",
       "      <td>NaN</td>\n",
       "    </tr>\n",
       "    <tr>\n",
       "      <th>23</th>\n",
       "      <td>KSA</td>\n",
       "      <td>Operating Cash Outflow</td>\n",
       "      <td>Vendor</td>\n",
       "      <td>NWC Vendor</td>\n",
       "      <td>-26000</td>\n",
       "      <td>NaN</td>\n",
       "      <td>NaN</td>\n",
       "      <td>NaN</td>\n",
       "      <td>NaN</td>\n",
       "      <td>NaN</td>\n",
       "      <td>NaN</td>\n",
       "      <td>NaN</td>\n",
       "      <td>NaN</td>\n",
       "      <td>NaN</td>\n",
       "      <td>NaN</td>\n",
       "    </tr>\n",
       "    <tr>\n",
       "      <th>24</th>\n",
       "      <td>KSA</td>\n",
       "      <td>Operating Cash Outflow</td>\n",
       "      <td>Subscriptions</td>\n",
       "      <td>Microsoft 365</td>\n",
       "      <td>NaN</td>\n",
       "      <td>-1000</td>\n",
       "      <td>-1000</td>\n",
       "      <td>-1000</td>\n",
       "      <td>-1000</td>\n",
       "      <td>-1000</td>\n",
       "      <td>-1000</td>\n",
       "      <td>-1000</td>\n",
       "      <td>-1000</td>\n",
       "      <td>-1000</td>\n",
       "      <td>-1000</td>\n",
       "    </tr>\n",
       "    <tr>\n",
       "      <th>25</th>\n",
       "      <td>KSA</td>\n",
       "      <td>Operating Cash Outflow</td>\n",
       "      <td>Subscriptions</td>\n",
       "      <td>PalmHR</td>\n",
       "      <td>NaN</td>\n",
       "      <td>-2975.625</td>\n",
       "      <td>-2975.625</td>\n",
       "      <td>-2975.625</td>\n",
       "      <td>-2975.625</td>\n",
       "      <td>-2975.625</td>\n",
       "      <td>-2975.625</td>\n",
       "      <td>-2975.625</td>\n",
       "      <td>-2975.625</td>\n",
       "      <td>-2975.625</td>\n",
       "      <td>-2975.625</td>\n",
       "    </tr>\n",
       "    <tr>\n",
       "      <th>26</th>\n",
       "      <td>KSA</td>\n",
       "      <td>Operating Cash Outflow</td>\n",
       "      <td>Subscriptions</td>\n",
       "      <td>Mix (ChatGPT, Antivirus…)</td>\n",
       "      <td>NaN</td>\n",
       "      <td>-700</td>\n",
       "      <td>-700</td>\n",
       "      <td>-700</td>\n",
       "      <td>-700</td>\n",
       "      <td>-700</td>\n",
       "      <td>-700</td>\n",
       "      <td>-700</td>\n",
       "      <td>-700</td>\n",
       "      <td>-700</td>\n",
       "      <td>-700</td>\n",
       "    </tr>\n",
       "    <tr>\n",
       "      <th>27</th>\n",
       "      <td>KSA</td>\n",
       "      <td>Operating Cash Outflow</td>\n",
       "      <td>Travel Exp</td>\n",
       "      <td>Travel Exp</td>\n",
       "      <td>NaN</td>\n",
       "      <td>-3000</td>\n",
       "      <td>-3000</td>\n",
       "      <td>-3000</td>\n",
       "      <td>-3000</td>\n",
       "      <td>-3000</td>\n",
       "      <td>-3000</td>\n",
       "      <td>-3000</td>\n",
       "      <td>-3000</td>\n",
       "      <td>-3000</td>\n",
       "      <td>-3000</td>\n",
       "    </tr>\n",
       "    <tr>\n",
       "      <th>28</th>\n",
       "      <td>KSA</td>\n",
       "      <td>Operating Cash Outflow</td>\n",
       "      <td>Travel Exp</td>\n",
       "      <td>NWC Traveling Exp</td>\n",
       "      <td>NaN</td>\n",
       "      <td>-13000</td>\n",
       "      <td>-13000</td>\n",
       "      <td>-13000</td>\n",
       "      <td>-13000</td>\n",
       "      <td>-13000</td>\n",
       "      <td>-13000</td>\n",
       "      <td>-13000</td>\n",
       "      <td>-13000</td>\n",
       "      <td>-13000</td>\n",
       "      <td>-13000</td>\n",
       "    </tr>\n",
       "    <tr>\n",
       "      <th>29</th>\n",
       "      <td>KSA</td>\n",
       "      <td>Operating Cash Outflow</td>\n",
       "      <td>Marketing</td>\n",
       "      <td>Marketing</td>\n",
       "      <td>NaN</td>\n",
       "      <td>-4000</td>\n",
       "      <td>-4000</td>\n",
       "      <td>-4000</td>\n",
       "      <td>-4000</td>\n",
       "      <td>-4000</td>\n",
       "      <td>-4000</td>\n",
       "      <td>-4000</td>\n",
       "      <td>-4000</td>\n",
       "      <td>-4000</td>\n",
       "      <td>-4000</td>\n",
       "    </tr>\n",
       "    <tr>\n",
       "      <th>30</th>\n",
       "      <td>KSA</td>\n",
       "      <td>Operating Cash Outflow</td>\n",
       "      <td>Rent</td>\n",
       "      <td>Office Rent</td>\n",
       "      <td>NaN</td>\n",
       "      <td>NaN</td>\n",
       "      <td>-6250</td>\n",
       "      <td>NaN</td>\n",
       "      <td>NaN</td>\n",
       "      <td>-6250</td>\n",
       "      <td>NaN</td>\n",
       "      <td>NaN</td>\n",
       "      <td>-6250</td>\n",
       "      <td>NaN</td>\n",
       "      <td>NaN</td>\n",
       "    </tr>\n",
       "    <tr>\n",
       "      <th>31</th>\n",
       "      <td>KSA</td>\n",
       "      <td>Operating Cash Outflow</td>\n",
       "      <td>Government Exp</td>\n",
       "      <td>Gov Fees</td>\n",
       "      <td>NaN</td>\n",
       "      <td>-4000</td>\n",
       "      <td>-4000</td>\n",
       "      <td>-4000</td>\n",
       "      <td>-4000</td>\n",
       "      <td>-4000</td>\n",
       "      <td>-4000</td>\n",
       "      <td>-4000</td>\n",
       "      <td>-4000</td>\n",
       "      <td>-4000</td>\n",
       "      <td>-4000</td>\n",
       "    </tr>\n",
       "    <tr>\n",
       "      <th>32</th>\n",
       "      <td>KSA</td>\n",
       "      <td>Operating Cash Outflow</td>\n",
       "      <td>Bank Charges</td>\n",
       "      <td>Bank Charges &amp; Fees</td>\n",
       "      <td>NaN</td>\n",
       "      <td>-500</td>\n",
       "      <td>-500</td>\n",
       "      <td>-500</td>\n",
       "      <td>-500</td>\n",
       "      <td>-500</td>\n",
       "      <td>-500</td>\n",
       "      <td>-500</td>\n",
       "      <td>-500</td>\n",
       "      <td>-500</td>\n",
       "      <td>-500</td>\n",
       "    </tr>\n",
       "    <tr>\n",
       "      <th>33</th>\n",
       "      <td>KSA</td>\n",
       "      <td>Operating Cash Outflow</td>\n",
       "      <td>Zakat</td>\n",
       "      <td>Zakat 2024</td>\n",
       "      <td>NaN</td>\n",
       "      <td>NaN</td>\n",
       "      <td>NaN</td>\n",
       "      <td>NaN</td>\n",
       "      <td>NaN</td>\n",
       "      <td>NaN</td>\n",
       "      <td>NaN</td>\n",
       "      <td>NaN</td>\n",
       "      <td>-100000</td>\n",
       "      <td>NaN</td>\n",
       "      <td>NaN</td>\n",
       "    </tr>\n",
       "    <tr>\n",
       "      <th>34</th>\n",
       "      <td>KSA</td>\n",
       "      <td>Operating Cash Outflow</td>\n",
       "      <td>VAT and Taxes</td>\n",
       "      <td>VAT &amp; withholding tax</td>\n",
       "      <td>NaN</td>\n",
       "      <td>-300000</td>\n",
       "      <td>-600</td>\n",
       "      <td>-600</td>\n",
       "      <td>-600</td>\n",
       "      <td>-100000</td>\n",
       "      <td>-600</td>\n",
       "      <td>-600</td>\n",
       "      <td>-100000</td>\n",
       "      <td>-600</td>\n",
       "      <td>-600</td>\n",
       "    </tr>\n",
       "    <tr>\n",
       "      <th>35</th>\n",
       "      <td>KSA</td>\n",
       "      <td>Operating Cash Outflow</td>\n",
       "      <td>Audit Fees</td>\n",
       "      <td>KSA Accountant - auditor: Hammam Salama</td>\n",
       "      <td>NaN</td>\n",
       "      <td>NaN</td>\n",
       "      <td>NaN</td>\n",
       "      <td>NaN</td>\n",
       "      <td>-10000</td>\n",
       "      <td>NaN</td>\n",
       "      <td>NaN</td>\n",
       "      <td>NaN</td>\n",
       "      <td>-10000</td>\n",
       "      <td>NaN</td>\n",
       "      <td>NaN</td>\n",
       "    </tr>\n",
       "    <tr>\n",
       "      <th>36</th>\n",
       "      <td>KSA</td>\n",
       "      <td>Operating Cash Outflow</td>\n",
       "      <td>Lawyer Fees</td>\n",
       "      <td>KSA Lawyer: Sahel</td>\n",
       "      <td>NaN</td>\n",
       "      <td>-7820.0</td>\n",
       "      <td>-7820.0</td>\n",
       "      <td>-7820.0</td>\n",
       "      <td>-7820.0</td>\n",
       "      <td>-7820.0</td>\n",
       "      <td>-7820.0</td>\n",
       "      <td>-7820.0</td>\n",
       "      <td>-7820.0</td>\n",
       "      <td>-7820.0</td>\n",
       "      <td>-7820.0</td>\n",
       "    </tr>\n",
       "    <tr>\n",
       "      <th>37</th>\n",
       "      <td>KSA</td>\n",
       "      <td>Operating Cash Outflow</td>\n",
       "      <td>Contingency + Misc.</td>\n",
       "      <td>Contingency + Misc.</td>\n",
       "      <td>-2061.295703</td>\n",
       "      <td>-29995.718372</td>\n",
       "      <td>-20736.408372</td>\n",
       "      <td>-7029.371772</td>\n",
       "      <td>-8571.391772</td>\n",
       "      <td>-8048.795772</td>\n",
       "      <td>-31509.419372</td>\n",
       "      <td>-5841.795772</td>\n",
       "      <td>-10088.795772</td>\n",
       "      <td>-5967.795772</td>\n",
       "      <td>-5775.795772</td>\n",
       "    </tr>\n",
       "    <tr>\n",
       "      <th>38</th>\n",
       "      <td>NaN</td>\n",
       "      <td>NaN</td>\n",
       "      <td>NaN</td>\n",
       "      <td>Total Cash outflow For KSA</td>\n",
       "      <td>-89910.095703</td>\n",
       "      <td>-693625.103372</td>\n",
       "      <td>-347234.293372</td>\n",
       "      <td>-257660.426772</td>\n",
       "      <td>-336303.446772</td>\n",
       "      <td>-308331.050772</td>\n",
       "      <td>-226141.674372</td>\n",
       "      <td>-192474.050772</td>\n",
       "      <td>-412371.050772</td>\n",
       "      <td>-202200.050772</td>\n",
       "      <td>-192408.050772</td>\n",
       "    </tr>\n",
       "    <tr>\n",
       "      <th>39</th>\n",
       "      <td>Egypt</td>\n",
       "      <td>Operating Cash Outflow</td>\n",
       "      <td>Personnel</td>\n",
       "      <td>Salaries</td>\n",
       "      <td>NaN</td>\n",
       "      <td>-75734.408611</td>\n",
       "      <td>-75734.408611</td>\n",
       "      <td>-75734.408611</td>\n",
       "      <td>-75734.408611</td>\n",
       "      <td>-77054.408611</td>\n",
       "      <td>-77054.408611</td>\n",
       "      <td>-77054.408611</td>\n",
       "      <td>-77054.408611</td>\n",
       "      <td>-77054.408611</td>\n",
       "      <td>-77054.408611</td>\n",
       "    </tr>\n",
       "    <tr>\n",
       "      <th>40</th>\n",
       "      <td>Egypt</td>\n",
       "      <td>Operating Cash Outflow</td>\n",
       "      <td>Accounting Exp</td>\n",
       "      <td>EGY Accountant: Delta</td>\n",
       "      <td>-1500</td>\n",
       "      <td>-1500</td>\n",
       "      <td>-1500</td>\n",
       "      <td>-1500</td>\n",
       "      <td>-1500</td>\n",
       "      <td>-1500</td>\n",
       "      <td>-1500</td>\n",
       "      <td>-4800</td>\n",
       "      <td>-1500</td>\n",
       "      <td>-1500</td>\n",
       "      <td>-1500</td>\n",
       "    </tr>\n",
       "    <tr>\n",
       "      <th>41</th>\n",
       "      <td>Egypt</td>\n",
       "      <td>Operating Cash Outflow</td>\n",
       "      <td>Rent</td>\n",
       "      <td>Office Rent</td>\n",
       "      <td>NaN</td>\n",
       "      <td>-3828.125</td>\n",
       "      <td>-3828.125</td>\n",
       "      <td>-3828.125</td>\n",
       "      <td>-3828.125</td>\n",
       "      <td>-3828.125</td>\n",
       "      <td>-3828.125</td>\n",
       "      <td>-3828.125</td>\n",
       "      <td>-3828.125</td>\n",
       "      <td>-3828.125</td>\n",
       "      <td>-3828.125</td>\n",
       "    </tr>\n",
       "    <tr>\n",
       "      <th>42</th>\n",
       "      <td>Egypt</td>\n",
       "      <td>Operating Cash Outflow</td>\n",
       "      <td>Taxs &amp; Social insurance</td>\n",
       "      <td>Taxs &amp; Social insurance</td>\n",
       "      <td>-11840.985156</td>\n",
       "      <td>-13400</td>\n",
       "      <td>-13400</td>\n",
       "      <td>-13400</td>\n",
       "      <td>-13400</td>\n",
       "      <td>-13400</td>\n",
       "      <td>-13400</td>\n",
       "      <td>-13400</td>\n",
       "      <td>-13400</td>\n",
       "      <td>-13400</td>\n",
       "      <td>-13400</td>\n",
       "    </tr>\n",
       "    <tr>\n",
       "      <th>43</th>\n",
       "      <td>Egypt</td>\n",
       "      <td>Operating Cash Outflow</td>\n",
       "      <td>Legal Exp</td>\n",
       "      <td>EGY Lawyer: S&amp;P</td>\n",
       "      <td>-1875</td>\n",
       "      <td>-1875</td>\n",
       "      <td>-1875</td>\n",
       "      <td>-1875</td>\n",
       "      <td>-1875</td>\n",
       "      <td>-1875</td>\n",
       "      <td>-1875</td>\n",
       "      <td>-1875</td>\n",
       "      <td>-1875</td>\n",
       "      <td>-1875</td>\n",
       "      <td>-1875</td>\n",
       "    </tr>\n",
       "    <tr>\n",
       "      <th>44</th>\n",
       "      <td>Egypt</td>\n",
       "      <td>Operating Cash Outflow</td>\n",
       "      <td>Petty cash</td>\n",
       "      <td>Petty Cash</td>\n",
       "      <td>NaN</td>\n",
       "      <td>-1000</td>\n",
       "      <td>-1000</td>\n",
       "      <td>-1000</td>\n",
       "      <td>-1000</td>\n",
       "      <td>-1000</td>\n",
       "      <td>-1000</td>\n",
       "      <td>-1000</td>\n",
       "      <td>-1000</td>\n",
       "      <td>-1000</td>\n",
       "      <td>-1000</td>\n",
       "    </tr>\n",
       "    <tr>\n",
       "      <th>45</th>\n",
       "      <td>NaN</td>\n",
       "      <td>NaN</td>\n",
       "      <td>NaN</td>\n",
       "      <td>Total Cash outflow For Egypt</td>\n",
       "      <td>-15215.985156</td>\n",
       "      <td>-97337.533611</td>\n",
       "      <td>-97337.533611</td>\n",
       "      <td>-97337.533611</td>\n",
       "      <td>-97337.533611</td>\n",
       "      <td>-98657.533611</td>\n",
       "      <td>-98657.533611</td>\n",
       "      <td>-101957.533611</td>\n",
       "      <td>-98657.533611</td>\n",
       "      <td>-98657.533611</td>\n",
       "      <td>-98657.533611</td>\n",
       "    </tr>\n",
       "    <tr>\n",
       "      <th>46</th>\n",
       "      <td>NaN</td>\n",
       "      <td>NaN</td>\n",
       "      <td>NaN</td>\n",
       "      <td>Total Operating Cash Outflow</td>\n",
       "      <td>-105126.080859</td>\n",
       "      <td>-790962.636983</td>\n",
       "      <td>-444571.826983</td>\n",
       "      <td>-354997.960383</td>\n",
       "      <td>-433640.980383</td>\n",
       "      <td>-406988.584383</td>\n",
       "      <td>-324799.207983</td>\n",
       "      <td>-294431.584383</td>\n",
       "      <td>-511028.584383</td>\n",
       "      <td>-300857.584383</td>\n",
       "      <td>-291065.584383</td>\n",
       "    </tr>\n",
       "    <tr>\n",
       "      <th>47</th>\n",
       "      <td>NaN</td>\n",
       "      <td>NaN</td>\n",
       "      <td>NaN</td>\n",
       "      <td>Net Cash Provided by Operating Activities</td>\n",
       "      <td>105126.080859</td>\n",
       "      <td>885727.236983</td>\n",
       "      <td>1801010.826983</td>\n",
       "      <td>654997.960383</td>\n",
       "      <td>808640.980383</td>\n",
       "      <td>706988.584383</td>\n",
       "      <td>624799.207983</td>\n",
       "      <td>594431.584383</td>\n",
       "      <td>811028.584383</td>\n",
       "      <td>600857.584383</td>\n",
       "      <td>591065.584383</td>\n",
       "    </tr>\n",
       "    <tr>\n",
       "      <th>48</th>\n",
       "      <td>NaN</td>\n",
       "      <td>NaN</td>\n",
       "      <td>3</td>\n",
       "      <td>Investing Cash Outflow</td>\n",
       "      <td>NaN</td>\n",
       "      <td>NaN</td>\n",
       "      <td>NaN</td>\n",
       "      <td>NaN</td>\n",
       "      <td>NaN</td>\n",
       "      <td>NaN</td>\n",
       "      <td>NaN</td>\n",
       "      <td>NaN</td>\n",
       "      <td>NaN</td>\n",
       "      <td>NaN</td>\n",
       "      <td>NaN</td>\n",
       "    </tr>\n",
       "    <tr>\n",
       "      <th>49</th>\n",
       "      <td>Egypt</td>\n",
       "      <td>Investing Cash Outflow</td>\n",
       "      <td>Assets</td>\n",
       "      <td>Laptops &amp; other</td>\n",
       "      <td>NaN</td>\n",
       "      <td>-3500</td>\n",
       "      <td>-3500</td>\n",
       "      <td>-3500</td>\n",
       "      <td>-3500</td>\n",
       "      <td>-3500</td>\n",
       "      <td>-3500</td>\n",
       "      <td>-3500</td>\n",
       "      <td>-3500</td>\n",
       "      <td>-3500</td>\n",
       "      <td>-3500</td>\n",
       "    </tr>\n",
       "    <tr>\n",
       "      <th>50</th>\n",
       "      <td>NaN</td>\n",
       "      <td>NaN</td>\n",
       "      <td>NaN</td>\n",
       "      <td>Total Investing Cash Outflow</td>\n",
       "      <td>0</td>\n",
       "      <td>-3500</td>\n",
       "      <td>-3500</td>\n",
       "      <td>-3500</td>\n",
       "      <td>-3500</td>\n",
       "      <td>-3500</td>\n",
       "      <td>-3500</td>\n",
       "      <td>-3500</td>\n",
       "      <td>-3500</td>\n",
       "      <td>-3500</td>\n",
       "      <td>-3500</td>\n",
       "    </tr>\n",
       "    <tr>\n",
       "      <th>51</th>\n",
       "      <td>NaN</td>\n",
       "      <td>NaN</td>\n",
       "      <td>4</td>\n",
       "      <td>Financing Cashflow</td>\n",
       "      <td>NaN</td>\n",
       "      <td>NaN</td>\n",
       "      <td>NaN</td>\n",
       "      <td>NaN</td>\n",
       "      <td>NaN</td>\n",
       "      <td>NaN</td>\n",
       "      <td>NaN</td>\n",
       "      <td>NaN</td>\n",
       "      <td>NaN</td>\n",
       "      <td>NaN</td>\n",
       "      <td>NaN</td>\n",
       "    </tr>\n",
       "    <tr>\n",
       "      <th>52</th>\n",
       "      <td>KSA</td>\n",
       "      <td>Financing Cashflow</td>\n",
       "      <td>Loan</td>\n",
       "      <td>New Loan -Al anmaa Bank</td>\n",
       "      <td>1206303</td>\n",
       "      <td>NaN</td>\n",
       "      <td>NaN</td>\n",
       "      <td>NaN</td>\n",
       "      <td>NaN</td>\n",
       "      <td>NaN</td>\n",
       "      <td>NaN</td>\n",
       "      <td>NaN</td>\n",
       "      <td>NaN</td>\n",
       "      <td>NaN</td>\n",
       "      <td>NaN</td>\n",
       "    </tr>\n",
       "    <tr>\n",
       "      <th>53</th>\n",
       "      <td>KSA</td>\n",
       "      <td>Financing Cashflow</td>\n",
       "      <td>Loan</td>\n",
       "      <td>New Loan -Riyadh Bank</td>\n",
       "      <td>NaN</td>\n",
       "      <td>NaN</td>\n",
       "      <td>NaN</td>\n",
       "      <td>NaN</td>\n",
       "      <td>NaN</td>\n",
       "      <td>NaN</td>\n",
       "      <td>NaN</td>\n",
       "      <td>NaN</td>\n",
       "      <td>NaN</td>\n",
       "      <td>NaN</td>\n",
       "      <td>NaN</td>\n",
       "    </tr>\n",
       "    <tr>\n",
       "      <th>54</th>\n",
       "      <td>KSA</td>\n",
       "      <td>Financing Cashflow</td>\n",
       "      <td>Repayment</td>\n",
       "      <td>Repayment of loan -Al anmaa Bank</td>\n",
       "      <td>NaN</td>\n",
       "      <td>-735319</td>\n",
       "      <td>NaN</td>\n",
       "      <td>NaN</td>\n",
       "      <td>NaN</td>\n",
       "      <td>NaN</td>\n",
       "      <td>-1278681.18</td>\n",
       "      <td>NaN</td>\n",
       "      <td>NaN</td>\n",
       "      <td>NaN</td>\n",
       "      <td>NaN</td>\n",
       "    </tr>\n",
       "    <tr>\n",
       "      <th>55</th>\n",
       "      <td>KSA</td>\n",
       "      <td>Financing Cashflow</td>\n",
       "      <td>Repayment</td>\n",
       "      <td>Repayment of loan -Riyadh Bank</td>\n",
       "      <td>NaN</td>\n",
       "      <td>NaN</td>\n",
       "      <td>-609485</td>\n",
       "      <td>NaN</td>\n",
       "      <td>NaN</td>\n",
       "      <td>NaN</td>\n",
       "      <td>NaN</td>\n",
       "      <td>NaN</td>\n",
       "      <td>NaN</td>\n",
       "      <td>NaN</td>\n",
       "      <td>NaN</td>\n",
       "    </tr>\n",
       "    <tr>\n",
       "      <th>56</th>\n",
       "      <td>NaN</td>\n",
       "      <td>NaN</td>\n",
       "      <td>NaN</td>\n",
       "      <td>Total Cash outflow from Financing</td>\n",
       "      <td>1206303</td>\n",
       "      <td>-735319</td>\n",
       "      <td>-609485</td>\n",
       "      <td>0</td>\n",
       "      <td>0</td>\n",
       "      <td>0</td>\n",
       "      <td>-1278681.18</td>\n",
       "      <td>0</td>\n",
       "      <td>0</td>\n",
       "      <td>0</td>\n",
       "      <td>0</td>\n",
       "    </tr>\n",
       "    <tr>\n",
       "      <th>57</th>\n",
       "      <td>NaN</td>\n",
       "      <td>NaN</td>\n",
       "      <td>NaN</td>\n",
       "      <td>NaN</td>\n",
       "      <td>2025-08-01 00:00:00</td>\n",
       "      <td>2025-09-01 00:00:00</td>\n",
       "      <td>2025-10-01 00:00:00</td>\n",
       "      <td>2025-11-01 00:00:00</td>\n",
       "      <td>2025-12-01 00:00:00</td>\n",
       "      <td>2026-01-01 00:00:00</td>\n",
       "      <td>2026-02-01 00:00:00</td>\n",
       "      <td>2026-03-01 00:00:00</td>\n",
       "      <td>2026-04-01 00:00:00</td>\n",
       "      <td>2026-05-01 00:00:00</td>\n",
       "      <td>2026-06-01 00:00:00</td>\n",
       "    </tr>\n",
       "    <tr>\n",
       "      <th>58</th>\n",
       "      <td>NaN</td>\n",
       "      <td>NaN</td>\n",
       "      <td>NaN</td>\n",
       "      <td>Total Change in cash</td>\n",
       "      <td>1101176.919141</td>\n",
       "      <td>-1435017.036983</td>\n",
       "      <td>298882.173017</td>\n",
       "      <td>-58497.960383</td>\n",
       "      <td>-62140.980383</td>\n",
       "      <td>-110488.584383</td>\n",
       "      <td>-1306980.387983</td>\n",
       "      <td>2068.415617</td>\n",
       "      <td>-214528.584383</td>\n",
       "      <td>-4357.584383</td>\n",
       "      <td>5434.415617</td>\n",
       "    </tr>\n",
       "    <tr>\n",
       "      <th>59</th>\n",
       "      <td>NaN</td>\n",
       "      <td>NaN</td>\n",
       "      <td>NaN</td>\n",
       "      <td>Cash Beginning Balance</td>\n",
       "      <td>157802.15</td>\n",
       "      <td>1258979.069141</td>\n",
       "      <td>-176037.967843</td>\n",
       "      <td>122844.205174</td>\n",
       "      <td>64346.244791</td>\n",
       "      <td>2205.264407</td>\n",
       "      <td>-108283.319976</td>\n",
       "      <td>-1415263.707959</td>\n",
       "      <td>-1413195.292343</td>\n",
       "      <td>-1627723.876726</td>\n",
       "      <td>-1632081.461109</td>\n",
       "    </tr>\n",
       "    <tr>\n",
       "      <th>60</th>\n",
       "      <td>NaN</td>\n",
       "      <td>NaN</td>\n",
       "      <td>NaN</td>\n",
       "      <td>Cash Ending Balance</td>\n",
       "      <td>1258979.069141</td>\n",
       "      <td>-176037.967843</td>\n",
       "      <td>122844.205174</td>\n",
       "      <td>64346.244791</td>\n",
       "      <td>2205.264407</td>\n",
       "      <td>-108283.319976</td>\n",
       "      <td>-1415263.707959</td>\n",
       "      <td>-1413195.292343</td>\n",
       "      <td>-1627723.876726</td>\n",
       "      <td>-1632081.461109</td>\n",
       "      <td>-1626647.045493</td>\n",
       "    </tr>\n",
       "  </tbody>\n",
       "</table>\n",
       "</div>"
      ],
      "text/plain": [
       "   Country          Cash Flow Type                 Category  \\\n",
       "3      NaN                     NaN                        1   \n",
       "4      KSA   Operating Cash Inflow              NWC Project   \n",
       "5      KSA   Operating Cash Inflow              NWC Project   \n",
       "6      KSA   Operating Cash Inflow              NWC Project   \n",
       "7      KSA   Operating Cash Inflow            MWAN Project    \n",
       "8      KSA   Operating Cash Inflow            MWAN Project    \n",
       "9      NaN                     NaN                      NaN   \n",
       "10     NaN                     NaN                        2   \n",
       "11     KSA  Operating Cash Outflow               Personnel    \n",
       "12     KSA  Operating Cash Outflow               Personnel    \n",
       "13     KSA  Operating Cash Outflow               Personnel    \n",
       "14     KSA  Operating Cash Outflow               Personnel    \n",
       "15     KSA  Operating Cash Outflow               Personnel    \n",
       "16     KSA  Operating Cash Outflow               Personnel    \n",
       "17     KSA  Operating Cash Outflow               Personnel    \n",
       "18     KSA  Operating Cash Outflow              Recruitment   \n",
       "19     KSA  Operating Cash Outflow                   Vendor   \n",
       "20     KSA  Operating Cash Outflow                   Vendor   \n",
       "21     KSA  Operating Cash Outflow                   Vendor   \n",
       "22     KSA  Operating Cash Outflow                   Vendor   \n",
       "23     KSA  Operating Cash Outflow                   Vendor   \n",
       "24     KSA  Operating Cash Outflow           Subscriptions    \n",
       "25     KSA  Operating Cash Outflow           Subscriptions    \n",
       "26     KSA  Operating Cash Outflow           Subscriptions    \n",
       "27     KSA  Operating Cash Outflow              Travel Exp    \n",
       "28     KSA  Operating Cash Outflow              Travel Exp    \n",
       "29     KSA  Operating Cash Outflow               Marketing    \n",
       "30     KSA  Operating Cash Outflow                    Rent    \n",
       "31     KSA  Operating Cash Outflow          Government Exp    \n",
       "32     KSA  Operating Cash Outflow            Bank Charges    \n",
       "33     KSA  Operating Cash Outflow                   Zakat    \n",
       "34     KSA  Operating Cash Outflow           VAT and Taxes    \n",
       "35     KSA  Operating Cash Outflow              Audit Fees    \n",
       "36     KSA  Operating Cash Outflow             Lawyer Fees    \n",
       "37     KSA  Operating Cash Outflow      Contingency + Misc.   \n",
       "38     NaN                     NaN                      NaN   \n",
       "39   Egypt  Operating Cash Outflow               Personnel    \n",
       "40   Egypt  Operating Cash Outflow          Accounting Exp    \n",
       "41   Egypt  Operating Cash Outflow                    Rent    \n",
       "42   Egypt  Operating Cash Outflow  Taxs & Social insurance   \n",
       "43   Egypt  Operating Cash Outflow               Legal Exp    \n",
       "44   Egypt  Operating Cash Outflow              Petty cash    \n",
       "45     NaN                     NaN                      NaN   \n",
       "46     NaN                     NaN                      NaN   \n",
       "47     NaN                     NaN                      NaN   \n",
       "48     NaN                     NaN                        3   \n",
       "49   Egypt  Investing Cash Outflow                  Assets    \n",
       "50     NaN                     NaN                      NaN   \n",
       "51     NaN                     NaN                        4   \n",
       "52     KSA      Financing Cashflow                     Loan   \n",
       "53     KSA      Financing Cashflow                     Loan   \n",
       "54     KSA      Financing Cashflow                Repayment   \n",
       "55     KSA      Financing Cashflow                Repayment   \n",
       "56     NaN                     NaN                      NaN   \n",
       "57     NaN                     NaN                      NaN   \n",
       "58     NaN                     NaN                      NaN   \n",
       "59     NaN                     NaN                      NaN   \n",
       "60     NaN                     NaN                      NaN   \n",
       "\n",
       "                                           Item  2025-08-01 00:00:00  \\\n",
       "3                         Operating Cash Inflow                  NaN   \n",
       "4                     NWC Project - Consulting                   NaN   \n",
       "5                  NWC Project - Non-Consulting                  NaN   \n",
       "6   NWC Project - Consulting and Non-Consulting                  NaN   \n",
       "7                                 MWAN Project                   NaN   \n",
       "8                      MWAN Project - LG refund                  NaN   \n",
       "9                   Total Operating Cash Inflow                    0   \n",
       "10                       Operating Cash Outflow                  NaN   \n",
       "11                                    Salaries                   NaN   \n",
       "12                             End Of Services                   NaN   \n",
       "13                                        GOSI                   NaN   \n",
       "14                                Iqama renewal                  NaN   \n",
       "15                           Medical Insurance                   NaN   \n",
       "16           Ahmed Gharawy - Benefits -Tickets                   NaN   \n",
       "17                    KSA Accountant - general:                  NaN   \n",
       "18                                Linkedin Exp                   NaN   \n",
       "19                   La Aseer Project - Vendor              -18692.2   \n",
       "20                   La Aseer Project - Vendor               -8675.6   \n",
       "21         MWAN Project -Ata allah Photographer               -15000   \n",
       "22                     MWAN Project -Dar Nassah               -19481   \n",
       "23                                  NWC Vendor                -26000   \n",
       "24                                Microsoft 365                  NaN   \n",
       "25                                       PalmHR                  NaN   \n",
       "26                    Mix (ChatGPT, Antivirus…)                  NaN   \n",
       "27                                  Travel Exp                   NaN   \n",
       "28                           NWC Traveling Exp                   NaN   \n",
       "29                                    Marketing                  NaN   \n",
       "30                                 Office Rent                   NaN   \n",
       "31                                    Gov Fees                   NaN   \n",
       "32                          Bank Charges & Fees                  NaN   \n",
       "33                                   Zakat 2024                  NaN   \n",
       "34                        VAT & withholding tax                  NaN   \n",
       "35      KSA Accountant - auditor: Hammam Salama                  NaN   \n",
       "36                            KSA Lawyer: Sahel                  NaN   \n",
       "37                          Contingency + Misc.         -2061.295703   \n",
       "38                   Total Cash outflow For KSA        -89910.095703   \n",
       "39                                    Salaries                   NaN   \n",
       "40                        EGY Accountant: Delta                -1500   \n",
       "41                                 Office Rent                   NaN   \n",
       "42                      Taxs & Social insurance        -11840.985156   \n",
       "43                              EGY Lawyer: S&P                -1875   \n",
       "44                                  Petty Cash                   NaN   \n",
       "45                Total Cash outflow For Egypt         -15215.985156   \n",
       "46                 Total Operating Cash Outflow       -105126.080859   \n",
       "47    Net Cash Provided by Operating Activities        105126.080859   \n",
       "48                       Investing Cash Outflow                  NaN   \n",
       "49                              Laptops & other                  NaN   \n",
       "50                 Total Investing Cash Outflow                    0   \n",
       "51                           Financing Cashflow                  NaN   \n",
       "52                     New Loan -Al anmaa Bank               1206303   \n",
       "53                       New Loan -Riyadh Bank                   NaN   \n",
       "54            Repayment of loan -Al anmaa Bank                   NaN   \n",
       "55              Repayment of loan -Riyadh Bank                   NaN   \n",
       "56           Total Cash outflow from Financing               1206303   \n",
       "57                                          NaN  2025-08-01 00:00:00   \n",
       "58                         Total Change in cash       1101176.919141   \n",
       "59                       Cash Beginning Balance            157802.15   \n",
       "60                          Cash Ending Balance       1258979.069141   \n",
       "\n",
       "    2025-09-01 00:00:00  2025-10-01 00:00:00  2025-11-01 00:00:00  \\\n",
       "3                   NaN                  NaN                  NaN   \n",
       "4               94764.6              1000000               300000   \n",
       "5                   NaN                  NaN                  NaN   \n",
       "6                   NaN               161462                  NaN   \n",
       "7                   NaN               194977                  NaN   \n",
       "8                   NaN                  NaN                  NaN   \n",
       "9               94764.6              1356439               300000   \n",
       "10                  NaN                  NaN                  NaN   \n",
       "11              -191500              -136000              -136000   \n",
       "12            -47248.33            -63766.83                    0   \n",
       "13            -10036.63            -10036.63            -10036.63   \n",
       "14                  NaN                  NaN                -9150   \n",
       "15                  NaN                  NaN                  NaN   \n",
       "16                  NaN                  NaN                  NaN   \n",
       "17                -6000                -6000                -6000   \n",
       "18               -10000                -5000                -5000   \n",
       "19             -18692.2             -18692.2             -18692.2   \n",
       "20              -8675.6              -8675.6              -8675.6   \n",
       "21               -15000               -15000                  NaN   \n",
       "22               -19481               -19481               -19481   \n",
       "23                  NaN                  NaN                  NaN   \n",
       "24                -1000                -1000                -1000   \n",
       "25            -2975.625            -2975.625            -2975.625   \n",
       "26                 -700                 -700                 -700   \n",
       "27                -3000                -3000                -3000   \n",
       "28               -13000               -13000               -13000   \n",
       "29                -4000                -4000                -4000   \n",
       "30                  NaN                -6250                  NaN   \n",
       "31                -4000                -4000                -4000   \n",
       "32                 -500                 -500                 -500   \n",
       "33                  NaN                  NaN                  NaN   \n",
       "34              -300000                 -600                 -600   \n",
       "35                  NaN                  NaN                  NaN   \n",
       "36              -7820.0              -7820.0              -7820.0   \n",
       "37        -29995.718372        -20736.408372         -7029.371772   \n",
       "38       -693625.103372       -347234.293372       -257660.426772   \n",
       "39        -75734.408611        -75734.408611        -75734.408611   \n",
       "40                -1500                -1500                -1500   \n",
       "41            -3828.125            -3828.125            -3828.125   \n",
       "42               -13400               -13400               -13400   \n",
       "43                -1875                -1875                -1875   \n",
       "44                -1000                -1000                -1000   \n",
       "45        -97337.533611        -97337.533611        -97337.533611   \n",
       "46       -790962.636983       -444571.826983       -354997.960383   \n",
       "47        885727.236983       1801010.826983        654997.960383   \n",
       "48                  NaN                  NaN                  NaN   \n",
       "49                -3500                -3500                -3500   \n",
       "50                -3500                -3500                -3500   \n",
       "51                  NaN                  NaN                  NaN   \n",
       "52                  NaN                  NaN                  NaN   \n",
       "53                  NaN                  NaN                  NaN   \n",
       "54              -735319                  NaN                  NaN   \n",
       "55                  NaN              -609485                  NaN   \n",
       "56              -735319              -609485                    0   \n",
       "57  2025-09-01 00:00:00  2025-10-01 00:00:00  2025-11-01 00:00:00   \n",
       "58      -1435017.036983        298882.173017        -58497.960383   \n",
       "59       1258979.069141       -176037.967843        122844.205174   \n",
       "60       -176037.967843        122844.205174         64346.244791   \n",
       "\n",
       "    2025-12-01 00:00:00  2026-01-01 00:00:00  2026-02-01 00:00:00  \\\n",
       "3                   NaN                  NaN                  NaN   \n",
       "4                300000               300000               300000   \n",
       "5                   NaN                  NaN                  NaN   \n",
       "6                   NaN                  NaN                  NaN   \n",
       "7                   NaN                  NaN                  NaN   \n",
       "8                 75000                  NaN                  NaN   \n",
       "9                375000               300000               300000   \n",
       "10                  NaN                  NaN                  NaN   \n",
       "11              -136000              -136000              -136000   \n",
       "12                    0                    0                    0   \n",
       "13            -10036.63            -10036.63            -10036.63   \n",
       "14                -9150                  NaN                  NaN   \n",
       "15               -67101                  NaN                  NaN   \n",
       "16                  NaN                  NaN                  NaN   \n",
       "17                -6000                -6000                -6000   \n",
       "18                -5000                -5000                -5000   \n",
       "19             -18692.2                  NaN                  NaN   \n",
       "20              -8675.6                  NaN                  NaN   \n",
       "21                  NaN                  NaN                  NaN   \n",
       "22               -19481                  NaN                  NaN   \n",
       "23                  NaN                  NaN                  NaN   \n",
       "24                -1000                -1000                -1000   \n",
       "25            -2975.625            -2975.625            -2975.625   \n",
       "26                 -700                 -700                 -700   \n",
       "27                -3000                -3000                -3000   \n",
       "28               -13000               -13000               -13000   \n",
       "29                -4000                -4000                -4000   \n",
       "30                  NaN                -6250                  NaN   \n",
       "31                -4000                -4000                -4000   \n",
       "32                 -500                 -500                 -500   \n",
       "33                  NaN                  NaN                  NaN   \n",
       "34                 -600              -100000                 -600   \n",
       "35               -10000                  NaN                  NaN   \n",
       "36              -7820.0              -7820.0              -7820.0   \n",
       "37         -8571.391772         -8048.795772        -31509.419372   \n",
       "38       -336303.446772       -308331.050772       -226141.674372   \n",
       "39        -75734.408611        -77054.408611        -77054.408611   \n",
       "40                -1500                -1500                -1500   \n",
       "41            -3828.125            -3828.125            -3828.125   \n",
       "42               -13400               -13400               -13400   \n",
       "43                -1875                -1875                -1875   \n",
       "44                -1000                -1000                -1000   \n",
       "45        -97337.533611        -98657.533611        -98657.533611   \n",
       "46       -433640.980383       -406988.584383       -324799.207983   \n",
       "47        808640.980383        706988.584383        624799.207983   \n",
       "48                  NaN                  NaN                  NaN   \n",
       "49                -3500                -3500                -3500   \n",
       "50                -3500                -3500                -3500   \n",
       "51                  NaN                  NaN                  NaN   \n",
       "52                  NaN                  NaN                  NaN   \n",
       "53                  NaN                  NaN                  NaN   \n",
       "54                  NaN                  NaN          -1278681.18   \n",
       "55                  NaN                  NaN                  NaN   \n",
       "56                    0                    0          -1278681.18   \n",
       "57  2025-12-01 00:00:00  2026-01-01 00:00:00  2026-02-01 00:00:00   \n",
       "58        -62140.980383       -110488.584383      -1306980.387983   \n",
       "59         64346.244791          2205.264407       -108283.319976   \n",
       "60          2205.264407       -108283.319976      -1415263.707959   \n",
       "\n",
       "    2026-03-01 00:00:00  2026-04-01 00:00:00  2026-05-01 00:00:00  \\\n",
       "3                   NaN                  NaN                  NaN   \n",
       "4                300000               300000               300000   \n",
       "5                   NaN                  NaN                  NaN   \n",
       "6                   NaN                  NaN                  NaN   \n",
       "7                   NaN                  NaN                  NaN   \n",
       "8                   NaN                  NaN                  NaN   \n",
       "9                300000               300000               300000   \n",
       "10                  NaN                  NaN                  NaN   \n",
       "11              -128000              -128000              -128000   \n",
       "12                    0                    0                    0   \n",
       "13            -10036.63            -10036.63            -10036.63   \n",
       "14                  NaN                  NaN                  NaN   \n",
       "15                  NaN                  NaN                  NaN   \n",
       "16                  NaN                  NaN                -9600   \n",
       "17                -6000                -6000                -6000   \n",
       "18                -5000                -5000                -5000   \n",
       "19                  NaN                  NaN                  NaN   \n",
       "20                  NaN                  NaN                  NaN   \n",
       "21                  NaN                  NaN                  NaN   \n",
       "22                  NaN                  NaN                  NaN   \n",
       "23                  NaN                  NaN                  NaN   \n",
       "24                -1000                -1000                -1000   \n",
       "25            -2975.625            -2975.625            -2975.625   \n",
       "26                 -700                 -700                 -700   \n",
       "27                -3000                -3000                -3000   \n",
       "28               -13000               -13000               -13000   \n",
       "29                -4000                -4000                -4000   \n",
       "30                  NaN                -6250                  NaN   \n",
       "31                -4000                -4000                -4000   \n",
       "32                 -500                 -500                 -500   \n",
       "33                  NaN              -100000                  NaN   \n",
       "34                 -600              -100000                 -600   \n",
       "35                  NaN               -10000                  NaN   \n",
       "36              -7820.0              -7820.0              -7820.0   \n",
       "37         -5841.795772        -10088.795772         -5967.795772   \n",
       "38       -192474.050772       -412371.050772       -202200.050772   \n",
       "39        -77054.408611        -77054.408611        -77054.408611   \n",
       "40                -4800                -1500                -1500   \n",
       "41            -3828.125            -3828.125            -3828.125   \n",
       "42               -13400               -13400               -13400   \n",
       "43                -1875                -1875                -1875   \n",
       "44                -1000                -1000                -1000   \n",
       "45       -101957.533611        -98657.533611        -98657.533611   \n",
       "46       -294431.584383       -511028.584383       -300857.584383   \n",
       "47        594431.584383        811028.584383        600857.584383   \n",
       "48                  NaN                  NaN                  NaN   \n",
       "49                -3500                -3500                -3500   \n",
       "50                -3500                -3500                -3500   \n",
       "51                  NaN                  NaN                  NaN   \n",
       "52                  NaN                  NaN                  NaN   \n",
       "53                  NaN                  NaN                  NaN   \n",
       "54                  NaN                  NaN                  NaN   \n",
       "55                  NaN                  NaN                  NaN   \n",
       "56                    0                    0                    0   \n",
       "57  2026-03-01 00:00:00  2026-04-01 00:00:00  2026-05-01 00:00:00   \n",
       "58          2068.415617       -214528.584383         -4357.584383   \n",
       "59      -1415263.707959      -1413195.292343      -1627723.876726   \n",
       "60      -1413195.292343      -1627723.876726      -1632081.461109   \n",
       "\n",
       "    2026-06-01 00:00:00  \n",
       "3                   NaN  \n",
       "4                300000  \n",
       "5                   NaN  \n",
       "6                   NaN  \n",
       "7                   NaN  \n",
       "8                   NaN  \n",
       "9                300000  \n",
       "10                  NaN  \n",
       "11              -128000  \n",
       "12                    0  \n",
       "13            -10036.63  \n",
       "14                  NaN  \n",
       "15                  NaN  \n",
       "16                  NaN  \n",
       "17                -6000  \n",
       "18                -5000  \n",
       "19                  NaN  \n",
       "20                  NaN  \n",
       "21                  NaN  \n",
       "22                  NaN  \n",
       "23                  NaN  \n",
       "24                -1000  \n",
       "25            -2975.625  \n",
       "26                 -700  \n",
       "27                -3000  \n",
       "28               -13000  \n",
       "29                -4000  \n",
       "30                  NaN  \n",
       "31                -4000  \n",
       "32                 -500  \n",
       "33                  NaN  \n",
       "34                 -600  \n",
       "35                  NaN  \n",
       "36              -7820.0  \n",
       "37         -5775.795772  \n",
       "38       -192408.050772  \n",
       "39        -77054.408611  \n",
       "40                -1500  \n",
       "41            -3828.125  \n",
       "42               -13400  \n",
       "43                -1875  \n",
       "44                -1000  \n",
       "45        -98657.533611  \n",
       "46       -291065.584383  \n",
       "47        591065.584383  \n",
       "48                  NaN  \n",
       "49                -3500  \n",
       "50                -3500  \n",
       "51                  NaN  \n",
       "52                  NaN  \n",
       "53                  NaN  \n",
       "54                  NaN  \n",
       "55                  NaN  \n",
       "56                    0  \n",
       "57  2026-06-01 00:00:00  \n",
       "58          5434.415617  \n",
       "59      -1632081.461109  \n",
       "60      -1626647.045493  "
      ]
     },
     "execution_count": 30,
     "metadata": {},
     "output_type": "execute_result"
    }
   ],
   "source": [
    "def excel_sheet_handler():\n",
    "    CashFlow = pd.read_excel(\"Cash flow Forecasting. Yomn - RS.xlsx\",sheet_name=\"Cash Flow - User Input\")\n",
    "    CashFlow.drop(axis=0,labels=[0,1],inplace=True)\n",
    "    CashFlow.drop(axis=1,labels=[\"Unnamed: 0\"],inplace=True)\n",
    "    CashFlow.columns =CashFlow.iloc[0].values\n",
    "    CashFlow.drop(axis=0,labels=[2],inplace=True)\n",
    "    return CashFlow\n",
    "CashFlow = excel_sheet_handler()\n",
    "CashFlow"
   ]
  },
  {
   "cell_type": "code",
   "execution_count": 31,
   "id": "e61a224a",
   "metadata": {},
   "outputs": [],
   "source": [
    "operating_cf_in = None\n",
    "operating_cf_out = None\n",
    "investing_cf_out = None\n",
    "financing_cf = None"
   ]
  },
  {
   "cell_type": "code",
   "execution_count": 32,
   "id": "5a2c3dfa",
   "metadata": {},
   "outputs": [],
   "source": [
    "for i in range(1,5):\n",
    "    start_idx = CashFlow[CashFlow['Category'] == i].index[0]\n",
    "    if i == 4:\n",
    "        end_idx = CashFlow[CashFlow['Item'] == \"Total Cash outflow from Financing \"].index[0]\n",
    "    else:\n",
    "        end_idx = CashFlow[CashFlow['Category'] == i+1].index[0]\n",
    "    if i == 1:\n",
    "        operating_cf_in = CashFlow.loc[start_idx:end_idx-1]\n",
    "    elif i == 2:\n",
    "        operating_cf_out = CashFlow.loc[start_idx:end_idx-1]\n",
    "    elif i == 3:\n",
    "        investing_cf_out = CashFlow.loc[start_idx:end_idx-1]\n",
    "    elif i == 4:\n",
    "        financing_cf = CashFlow.loc[start_idx:end_idx]"
   ]
  },
  {
   "cell_type": "code",
   "execution_count": 33,
   "id": "88f60fb8",
   "metadata": {},
   "outputs": [
    {
     "data": {
      "text/html": [
       "<div>\n",
       "<style scoped>\n",
       "    .dataframe tbody tr th:only-of-type {\n",
       "        vertical-align: middle;\n",
       "    }\n",
       "\n",
       "    .dataframe tbody tr th {\n",
       "        vertical-align: top;\n",
       "    }\n",
       "\n",
       "    .dataframe thead th {\n",
       "        text-align: right;\n",
       "    }\n",
       "</style>\n",
       "<table border=\"1\" class=\"dataframe\">\n",
       "  <thead>\n",
       "    <tr style=\"text-align: right;\">\n",
       "      <th></th>\n",
       "      <th>Country</th>\n",
       "      <th>Cash Flow Type</th>\n",
       "      <th>Category</th>\n",
       "      <th>Item</th>\n",
       "      <th>2025-08-01 00:00:00</th>\n",
       "      <th>2025-09-01 00:00:00</th>\n",
       "      <th>2025-10-01 00:00:00</th>\n",
       "      <th>2025-11-01 00:00:00</th>\n",
       "      <th>2025-12-01 00:00:00</th>\n",
       "      <th>2026-01-01 00:00:00</th>\n",
       "      <th>2026-02-01 00:00:00</th>\n",
       "      <th>2026-03-01 00:00:00</th>\n",
       "      <th>2026-04-01 00:00:00</th>\n",
       "      <th>2026-05-01 00:00:00</th>\n",
       "      <th>2026-06-01 00:00:00</th>\n",
       "    </tr>\n",
       "  </thead>\n",
       "  <tbody>\n",
       "    <tr>\n",
       "      <th>58</th>\n",
       "      <td>NaN</td>\n",
       "      <td>NaN</td>\n",
       "      <td>NaN</td>\n",
       "      <td>Total Change in cash</td>\n",
       "      <td>1101176.919141</td>\n",
       "      <td>-1435017.036983</td>\n",
       "      <td>298882.173017</td>\n",
       "      <td>-58497.960383</td>\n",
       "      <td>-62140.980383</td>\n",
       "      <td>-110488.584383</td>\n",
       "      <td>-1306980.387983</td>\n",
       "      <td>2068.415617</td>\n",
       "      <td>-214528.584383</td>\n",
       "      <td>-4357.584383</td>\n",
       "      <td>5434.415617</td>\n",
       "    </tr>\n",
       "    <tr>\n",
       "      <th>59</th>\n",
       "      <td>NaN</td>\n",
       "      <td>NaN</td>\n",
       "      <td>NaN</td>\n",
       "      <td>Cash Beginning Balance</td>\n",
       "      <td>157802.15</td>\n",
       "      <td>1258979.069141</td>\n",
       "      <td>-176037.967843</td>\n",
       "      <td>122844.205174</td>\n",
       "      <td>64346.244791</td>\n",
       "      <td>2205.264407</td>\n",
       "      <td>-108283.319976</td>\n",
       "      <td>-1415263.707959</td>\n",
       "      <td>-1413195.292343</td>\n",
       "      <td>-1627723.876726</td>\n",
       "      <td>-1632081.461109</td>\n",
       "    </tr>\n",
       "    <tr>\n",
       "      <th>60</th>\n",
       "      <td>NaN</td>\n",
       "      <td>NaN</td>\n",
       "      <td>NaN</td>\n",
       "      <td>Cash Ending Balance</td>\n",
       "      <td>1258979.069141</td>\n",
       "      <td>-176037.967843</td>\n",
       "      <td>122844.205174</td>\n",
       "      <td>64346.244791</td>\n",
       "      <td>2205.264407</td>\n",
       "      <td>-108283.319976</td>\n",
       "      <td>-1415263.707959</td>\n",
       "      <td>-1413195.292343</td>\n",
       "      <td>-1627723.876726</td>\n",
       "      <td>-1632081.461109</td>\n",
       "      <td>-1626647.045493</td>\n",
       "    </tr>\n",
       "  </tbody>\n",
       "</table>\n",
       "</div>"
      ],
      "text/plain": [
       "   Country Cash Flow Type Category                    Item  \\\n",
       "58     NaN            NaN      NaN    Total Change in cash   \n",
       "59     NaN            NaN      NaN  Cash Beginning Balance   \n",
       "60     NaN            NaN      NaN     Cash Ending Balance   \n",
       "\n",
       "   2025-08-01 00:00:00 2025-09-01 00:00:00 2025-10-01 00:00:00  \\\n",
       "58      1101176.919141     -1435017.036983       298882.173017   \n",
       "59           157802.15      1258979.069141      -176037.967843   \n",
       "60      1258979.069141      -176037.967843       122844.205174   \n",
       "\n",
       "   2025-11-01 00:00:00 2025-12-01 00:00:00 2026-01-01 00:00:00  \\\n",
       "58       -58497.960383       -62140.980383      -110488.584383   \n",
       "59       122844.205174        64346.244791         2205.264407   \n",
       "60        64346.244791         2205.264407      -108283.319976   \n",
       "\n",
       "   2026-02-01 00:00:00 2026-03-01 00:00:00 2026-04-01 00:00:00  \\\n",
       "58     -1306980.387983         2068.415617      -214528.584383   \n",
       "59      -108283.319976     -1415263.707959     -1413195.292343   \n",
       "60     -1415263.707959     -1413195.292343     -1627723.876726   \n",
       "\n",
       "   2026-05-01 00:00:00 2026-06-01 00:00:00  \n",
       "58        -4357.584383         5434.415617  \n",
       "59     -1627723.876726     -1632081.461109  \n",
       "60     -1632081.461109     -1626647.045493  "
      ]
     },
     "execution_count": 33,
     "metadata": {},
     "output_type": "execute_result"
    }
   ],
   "source": [
    "total_cash = CashFlow[55:58]\n",
    "total_cash"
   ]
  },
  {
   "cell_type": "markdown",
   "id": "36588459",
   "metadata": {},
   "source": [
    "# Total Calculations"
   ]
  },
  {
   "cell_type": "code",
   "execution_count": 34,
   "id": "bf556124",
   "metadata": {},
   "outputs": [],
   "source": [
    "def total_calculations(CashFlow):\n",
    "    cash_beginning_balance = CashFlow[CashFlow['Item'].str.strip() == 'Cash Beginning Balance'].iloc[: , 4:5].values[0][0]\n",
    "    cash_ending_balance = CashFlow[CashFlow['Item'].str.strip() == 'Cash Ending Balance'].iloc[: , -1].values[0]\n",
    "    totals = CashFlow[CashFlow['Item'].str.startswith(\"Total\") == True]\n",
    "    dict = {}\n",
    "    dict['Cash Beginning Balance'] = cash_beginning_balance\n",
    "\n",
    "    for i in range(len(totals)):\n",
    "        dict[totals['Item'].iloc[i]] = totals.iloc[i, 4:].apply(pd.to_numeric, errors='coerce').sum()\n",
    "    dict.pop('Total Operating Cash Outflow', None)\n",
    "    dict.pop('Total Change in cash', None)\n",
    "    dict['Cash Ending Balance'] = cash_ending_balance\n",
    "    return dict"
   ]
  },
  {
   "cell_type": "code",
   "execution_count": 35,
   "id": "2884ee5f",
   "metadata": {},
   "outputs": [],
   "source": [
    "dict = total_calculations(CashFlow)"
   ]
  },
  {
   "cell_type": "code",
   "execution_count": 36,
   "id": "c618898e",
   "metadata": {},
   "outputs": [],
   "source": [
    "cash_beginning_balance = CashFlow[CashFlow['Item'].str.strip() == 'Cash Beginning Balance'].iloc[: , 4:5].values[0][0]\n",
    "cash_ending_balance = CashFlow[CashFlow['Item'].str.strip() == 'Cash Ending Balance'].iloc[: , -1].values[0]\n",
    "totals = CashFlow[CashFlow['Item'].str.startswith(\"Total\") == True]\n",
    "dict = {}\n",
    "dict['Cash Beginning Balance'] = cash_beginning_balance\n",
    "for i in range(len(totals)):\n",
    "    dict[totals['Item'].iloc[i]] = totals.iloc[i, 4:].apply(pd.to_numeric, errors='coerce').sum()\n",
    "dict.pop('Total Operating Cash Outflow', None)\n",
    "dict.pop('Total Change in cash', None)\n",
    "dict['Cash Ending Balance'] = cash_ending_balance"
   ]
  },
  {
   "cell_type": "markdown",
   "id": "bca773b6",
   "metadata": {},
   "source": [
    "# Waterfall dashboard"
   ]
  },
  {
   "cell_type": "code",
   "execution_count": 37,
   "id": "47d0d80e",
   "metadata": {},
   "outputs": [
    {
     "data": {
      "application/vnd.plotly.v1+json": {
       "config": {
        "plotlyServerURL": "https://plot.ly"
       },
       "data": [
        {
         "connector": {
          "line": {
           "color": "rgb(63, 63, 63)"
          }
         },
         "decreasing": {
          "marker": {
           "color": "#dc3545"
          }
         },
         "increasing": {
          "marker": {
           "color": "#28a745"
          }
         },
         "totals": {
          "marker": {
           "color": "#0066cc"
          }
         },
         "type": "waterfall",
         "x": [
          "Cash Beginning Balance",
          "Total Operating Cash Inflow",
          "Total Cash outflow For KSA",
          "Total Cash outflow For Egypt ",
          "Total Investing Cash Outflow",
          "Total Cash outflow from Financing ",
          "Cash Ending Balance"
         ],
         "y": [
          157802.15,
          3926203.6,
          -3258659.2942253477,
          -999811.321267361,
          -35000,
          -1417182.18,
          -1626647.0454927087
         ]
        }
       ],
       "layout": {
        "autosize": true,
        "template": {
         "data": {
          "bar": [
           {
            "error_x": {
             "color": "#2a3f5f"
            },
            "error_y": {
             "color": "#2a3f5f"
            },
            "marker": {
             "line": {
              "color": "#E5ECF6",
              "width": 0.5
             },
             "pattern": {
              "fillmode": "overlay",
              "size": 10,
              "solidity": 0.2
             }
            },
            "type": "bar"
           }
          ],
          "barpolar": [
           {
            "marker": {
             "line": {
              "color": "#E5ECF6",
              "width": 0.5
             },
             "pattern": {
              "fillmode": "overlay",
              "size": 10,
              "solidity": 0.2
             }
            },
            "type": "barpolar"
           }
          ],
          "carpet": [
           {
            "aaxis": {
             "endlinecolor": "#2a3f5f",
             "gridcolor": "white",
             "linecolor": "white",
             "minorgridcolor": "white",
             "startlinecolor": "#2a3f5f"
            },
            "baxis": {
             "endlinecolor": "#2a3f5f",
             "gridcolor": "white",
             "linecolor": "white",
             "minorgridcolor": "white",
             "startlinecolor": "#2a3f5f"
            },
            "type": "carpet"
           }
          ],
          "choropleth": [
           {
            "colorbar": {
             "outlinewidth": 0,
             "ticks": ""
            },
            "type": "choropleth"
           }
          ],
          "contour": [
           {
            "colorbar": {
             "outlinewidth": 0,
             "ticks": ""
            },
            "colorscale": [
             [
              0,
              "#0d0887"
             ],
             [
              0.1111111111111111,
              "#46039f"
             ],
             [
              0.2222222222222222,
              "#7201a8"
             ],
             [
              0.3333333333333333,
              "#9c179e"
             ],
             [
              0.4444444444444444,
              "#bd3786"
             ],
             [
              0.5555555555555556,
              "#d8576b"
             ],
             [
              0.6666666666666666,
              "#ed7953"
             ],
             [
              0.7777777777777778,
              "#fb9f3a"
             ],
             [
              0.8888888888888888,
              "#fdca26"
             ],
             [
              1,
              "#f0f921"
             ]
            ],
            "type": "contour"
           }
          ],
          "contourcarpet": [
           {
            "colorbar": {
             "outlinewidth": 0,
             "ticks": ""
            },
            "type": "contourcarpet"
           }
          ],
          "heatmap": [
           {
            "colorbar": {
             "outlinewidth": 0,
             "ticks": ""
            },
            "colorscale": [
             [
              0,
              "#0d0887"
             ],
             [
              0.1111111111111111,
              "#46039f"
             ],
             [
              0.2222222222222222,
              "#7201a8"
             ],
             [
              0.3333333333333333,
              "#9c179e"
             ],
             [
              0.4444444444444444,
              "#bd3786"
             ],
             [
              0.5555555555555556,
              "#d8576b"
             ],
             [
              0.6666666666666666,
              "#ed7953"
             ],
             [
              0.7777777777777778,
              "#fb9f3a"
             ],
             [
              0.8888888888888888,
              "#fdca26"
             ],
             [
              1,
              "#f0f921"
             ]
            ],
            "type": "heatmap"
           }
          ],
          "heatmapgl": [
           {
            "colorbar": {
             "outlinewidth": 0,
             "ticks": ""
            },
            "colorscale": [
             [
              0,
              "#0d0887"
             ],
             [
              0.1111111111111111,
              "#46039f"
             ],
             [
              0.2222222222222222,
              "#7201a8"
             ],
             [
              0.3333333333333333,
              "#9c179e"
             ],
             [
              0.4444444444444444,
              "#bd3786"
             ],
             [
              0.5555555555555556,
              "#d8576b"
             ],
             [
              0.6666666666666666,
              "#ed7953"
             ],
             [
              0.7777777777777778,
              "#fb9f3a"
             ],
             [
              0.8888888888888888,
              "#fdca26"
             ],
             [
              1,
              "#f0f921"
             ]
            ],
            "type": "heatmapgl"
           }
          ],
          "histogram": [
           {
            "marker": {
             "pattern": {
              "fillmode": "overlay",
              "size": 10,
              "solidity": 0.2
             }
            },
            "type": "histogram"
           }
          ],
          "histogram2d": [
           {
            "colorbar": {
             "outlinewidth": 0,
             "ticks": ""
            },
            "colorscale": [
             [
              0,
              "#0d0887"
             ],
             [
              0.1111111111111111,
              "#46039f"
             ],
             [
              0.2222222222222222,
              "#7201a8"
             ],
             [
              0.3333333333333333,
              "#9c179e"
             ],
             [
              0.4444444444444444,
              "#bd3786"
             ],
             [
              0.5555555555555556,
              "#d8576b"
             ],
             [
              0.6666666666666666,
              "#ed7953"
             ],
             [
              0.7777777777777778,
              "#fb9f3a"
             ],
             [
              0.8888888888888888,
              "#fdca26"
             ],
             [
              1,
              "#f0f921"
             ]
            ],
            "type": "histogram2d"
           }
          ],
          "histogram2dcontour": [
           {
            "colorbar": {
             "outlinewidth": 0,
             "ticks": ""
            },
            "colorscale": [
             [
              0,
              "#0d0887"
             ],
             [
              0.1111111111111111,
              "#46039f"
             ],
             [
              0.2222222222222222,
              "#7201a8"
             ],
             [
              0.3333333333333333,
              "#9c179e"
             ],
             [
              0.4444444444444444,
              "#bd3786"
             ],
             [
              0.5555555555555556,
              "#d8576b"
             ],
             [
              0.6666666666666666,
              "#ed7953"
             ],
             [
              0.7777777777777778,
              "#fb9f3a"
             ],
             [
              0.8888888888888888,
              "#fdca26"
             ],
             [
              1,
              "#f0f921"
             ]
            ],
            "type": "histogram2dcontour"
           }
          ],
          "mesh3d": [
           {
            "colorbar": {
             "outlinewidth": 0,
             "ticks": ""
            },
            "type": "mesh3d"
           }
          ],
          "parcoords": [
           {
            "line": {
             "colorbar": {
              "outlinewidth": 0,
              "ticks": ""
             }
            },
            "type": "parcoords"
           }
          ],
          "pie": [
           {
            "automargin": true,
            "type": "pie"
           }
          ],
          "scatter": [
           {
            "fillpattern": {
             "fillmode": "overlay",
             "size": 10,
             "solidity": 0.2
            },
            "type": "scatter"
           }
          ],
          "scatter3d": [
           {
            "line": {
             "colorbar": {
              "outlinewidth": 0,
              "ticks": ""
             }
            },
            "marker": {
             "colorbar": {
              "outlinewidth": 0,
              "ticks": ""
             }
            },
            "type": "scatter3d"
           }
          ],
          "scattercarpet": [
           {
            "marker": {
             "colorbar": {
              "outlinewidth": 0,
              "ticks": ""
             }
            },
            "type": "scattercarpet"
           }
          ],
          "scattergeo": [
           {
            "marker": {
             "colorbar": {
              "outlinewidth": 0,
              "ticks": ""
             }
            },
            "type": "scattergeo"
           }
          ],
          "scattergl": [
           {
            "marker": {
             "colorbar": {
              "outlinewidth": 0,
              "ticks": ""
             }
            },
            "type": "scattergl"
           }
          ],
          "scattermapbox": [
           {
            "marker": {
             "colorbar": {
              "outlinewidth": 0,
              "ticks": ""
             }
            },
            "type": "scattermapbox"
           }
          ],
          "scatterpolar": [
           {
            "marker": {
             "colorbar": {
              "outlinewidth": 0,
              "ticks": ""
             }
            },
            "type": "scatterpolar"
           }
          ],
          "scatterpolargl": [
           {
            "marker": {
             "colorbar": {
              "outlinewidth": 0,
              "ticks": ""
             }
            },
            "type": "scatterpolargl"
           }
          ],
          "scatterternary": [
           {
            "marker": {
             "colorbar": {
              "outlinewidth": 0,
              "ticks": ""
             }
            },
            "type": "scatterternary"
           }
          ],
          "surface": [
           {
            "colorbar": {
             "outlinewidth": 0,
             "ticks": ""
            },
            "colorscale": [
             [
              0,
              "#0d0887"
             ],
             [
              0.1111111111111111,
              "#46039f"
             ],
             [
              0.2222222222222222,
              "#7201a8"
             ],
             [
              0.3333333333333333,
              "#9c179e"
             ],
             [
              0.4444444444444444,
              "#bd3786"
             ],
             [
              0.5555555555555556,
              "#d8576b"
             ],
             [
              0.6666666666666666,
              "#ed7953"
             ],
             [
              0.7777777777777778,
              "#fb9f3a"
             ],
             [
              0.8888888888888888,
              "#fdca26"
             ],
             [
              1,
              "#f0f921"
             ]
            ],
            "type": "surface"
           }
          ],
          "table": [
           {
            "cells": {
             "fill": {
              "color": "#EBF0F8"
             },
             "line": {
              "color": "white"
             }
            },
            "header": {
             "fill": {
              "color": "#C8D4E3"
             },
             "line": {
              "color": "white"
             }
            },
            "type": "table"
           }
          ]
         },
         "layout": {
          "annotationdefaults": {
           "arrowcolor": "#2a3f5f",
           "arrowhead": 0,
           "arrowwidth": 1
          },
          "autotypenumbers": "strict",
          "coloraxis": {
           "colorbar": {
            "outlinewidth": 0,
            "ticks": ""
           }
          },
          "colorscale": {
           "diverging": [
            [
             0,
             "#8e0152"
            ],
            [
             0.1,
             "#c51b7d"
            ],
            [
             0.2,
             "#de77ae"
            ],
            [
             0.3,
             "#f1b6da"
            ],
            [
             0.4,
             "#fde0ef"
            ],
            [
             0.5,
             "#f7f7f7"
            ],
            [
             0.6,
             "#e6f5d0"
            ],
            [
             0.7,
             "#b8e186"
            ],
            [
             0.8,
             "#7fbc41"
            ],
            [
             0.9,
             "#4d9221"
            ],
            [
             1,
             "#276419"
            ]
           ],
           "sequential": [
            [
             0,
             "#0d0887"
            ],
            [
             0.1111111111111111,
             "#46039f"
            ],
            [
             0.2222222222222222,
             "#7201a8"
            ],
            [
             0.3333333333333333,
             "#9c179e"
            ],
            [
             0.4444444444444444,
             "#bd3786"
            ],
            [
             0.5555555555555556,
             "#d8576b"
            ],
            [
             0.6666666666666666,
             "#ed7953"
            ],
            [
             0.7777777777777778,
             "#fb9f3a"
            ],
            [
             0.8888888888888888,
             "#fdca26"
            ],
            [
             1,
             "#f0f921"
            ]
           ],
           "sequentialminus": [
            [
             0,
             "#0d0887"
            ],
            [
             0.1111111111111111,
             "#46039f"
            ],
            [
             0.2222222222222222,
             "#7201a8"
            ],
            [
             0.3333333333333333,
             "#9c179e"
            ],
            [
             0.4444444444444444,
             "#bd3786"
            ],
            [
             0.5555555555555556,
             "#d8576b"
            ],
            [
             0.6666666666666666,
             "#ed7953"
            ],
            [
             0.7777777777777778,
             "#fb9f3a"
            ],
            [
             0.8888888888888888,
             "#fdca26"
            ],
            [
             1,
             "#f0f921"
            ]
           ]
          },
          "colorway": [
           "#636efa",
           "#EF553B",
           "#00cc96",
           "#ab63fa",
           "#FFA15A",
           "#19d3f3",
           "#FF6692",
           "#B6E880",
           "#FF97FF",
           "#FECB52"
          ],
          "font": {
           "color": "#2a3f5f"
          },
          "geo": {
           "bgcolor": "white",
           "lakecolor": "white",
           "landcolor": "#E5ECF6",
           "showlakes": true,
           "showland": true,
           "subunitcolor": "white"
          },
          "hoverlabel": {
           "align": "left"
          },
          "hovermode": "closest",
          "mapbox": {
           "style": "light"
          },
          "paper_bgcolor": "white",
          "plot_bgcolor": "#E5ECF6",
          "polar": {
           "angularaxis": {
            "gridcolor": "white",
            "linecolor": "white",
            "ticks": ""
           },
           "bgcolor": "#E5ECF6",
           "radialaxis": {
            "gridcolor": "white",
            "linecolor": "white",
            "ticks": ""
           }
          },
          "scene": {
           "xaxis": {
            "backgroundcolor": "#E5ECF6",
            "gridcolor": "white",
            "gridwidth": 2,
            "linecolor": "white",
            "showbackground": true,
            "ticks": "",
            "zerolinecolor": "white"
           },
           "yaxis": {
            "backgroundcolor": "#E5ECF6",
            "gridcolor": "white",
            "gridwidth": 2,
            "linecolor": "white",
            "showbackground": true,
            "ticks": "",
            "zerolinecolor": "white"
           },
           "zaxis": {
            "backgroundcolor": "#E5ECF6",
            "gridcolor": "white",
            "gridwidth": 2,
            "linecolor": "white",
            "showbackground": true,
            "ticks": "",
            "zerolinecolor": "white"
           }
          },
          "shapedefaults": {
           "line": {
            "color": "#2a3f5f"
           }
          },
          "ternary": {
           "aaxis": {
            "gridcolor": "white",
            "linecolor": "white",
            "ticks": ""
           },
           "baxis": {
            "gridcolor": "white",
            "linecolor": "white",
            "ticks": ""
           },
           "bgcolor": "#E5ECF6",
           "caxis": {
            "gridcolor": "white",
            "linecolor": "white",
            "ticks": ""
           }
          },
          "title": {
           "x": 0.05
          },
          "xaxis": {
           "automargin": true,
           "gridcolor": "white",
           "linecolor": "white",
           "ticks": "",
           "title": {
            "standoff": 15
           },
           "zerolinecolor": "white",
           "zerolinewidth": 2
          },
          "yaxis": {
           "automargin": true,
           "gridcolor": "white",
           "linecolor": "white",
           "ticks": "",
           "title": {
            "standoff": 15
           },
           "zerolinecolor": "white",
           "zerolinewidth": 2
          }
         }
        },
        "title": {
         "text": "Cash Movement Summary Water Fall (000s SAR)"
        },
        "xaxis": {
         "title": {
          "text": "Category"
         }
        },
        "yaxis": {
         "title": {
          "text": "Amount (000s SAR)"
         }
        }
       }
      }
     },
     "metadata": {},
     "output_type": "display_data"
    }
   ],
   "source": [
    "import plotly.io as pio\n",
    "from plotly.graph_objs import Figure, Waterfall\n",
    "\n",
    "fig = Figure(\n",
    "    data=[\n",
    "        Waterfall(\n",
    "            x=list(dict.keys()),\n",
    "            y=list(dict.values()),\n",
    "            connector={\"line\": {\"color\": \"rgb(63, 63, 63)\"}},\n",
    "            increasing={\"marker\": {\"color\": \"#28a745\"}},\n",
    "            decreasing={\"marker\": {\"color\": \"#dc3545\"}},\n",
    "            totals={\"marker\": {\"color\": \"#0066cc\"}}\n",
    "        )\n",
    "    ]\n",
    ")\n",
    "fig.update_layout(\n",
    "    title=\"Cash Movement Summary Water Fall (000s SAR)\",\n",
    "    yaxis_title=\"Amount (000s SAR)\",\n",
    "    xaxis_title=\"Category\",\n",
    "    autosize=True\n",
    ")\n",
    "fig.show()"
   ]
  },
  {
   "cell_type": "markdown",
   "id": "80df2c48",
   "metadata": {},
   "source": [
    "# Monthly cash flow"
   ]
  },
  {
   "cell_type": "code",
   "execution_count": 38,
   "id": "1ed3f0f3",
   "metadata": {},
   "outputs": [
    {
     "data": {
      "text/html": [
       "<div>\n",
       "<style scoped>\n",
       "    .dataframe tbody tr th:only-of-type {\n",
       "        vertical-align: middle;\n",
       "    }\n",
       "\n",
       "    .dataframe tbody tr th {\n",
       "        vertical-align: top;\n",
       "    }\n",
       "\n",
       "    .dataframe thead th {\n",
       "        text-align: right;\n",
       "    }\n",
       "</style>\n",
       "<table border=\"1\" class=\"dataframe\">\n",
       "  <thead>\n",
       "    <tr style=\"text-align: right;\">\n",
       "      <th></th>\n",
       "      <th>Country</th>\n",
       "      <th>Cash Flow Type</th>\n",
       "      <th>Category</th>\n",
       "      <th>Item</th>\n",
       "      <th>2025-08-01 00:00:00</th>\n",
       "      <th>2025-09-01 00:00:00</th>\n",
       "      <th>2025-10-01 00:00:00</th>\n",
       "      <th>2025-11-01 00:00:00</th>\n",
       "      <th>2025-12-01 00:00:00</th>\n",
       "      <th>2026-01-01 00:00:00</th>\n",
       "      <th>2026-02-01 00:00:00</th>\n",
       "      <th>2026-03-01 00:00:00</th>\n",
       "      <th>2026-04-01 00:00:00</th>\n",
       "      <th>2026-05-01 00:00:00</th>\n",
       "      <th>2026-06-01 00:00:00</th>\n",
       "    </tr>\n",
       "  </thead>\n",
       "  <tbody>\n",
       "    <tr>\n",
       "      <th>9</th>\n",
       "      <td>NaN</td>\n",
       "      <td>NaN</td>\n",
       "      <td>NaN</td>\n",
       "      <td>Total Operating Cash Inflow</td>\n",
       "      <td>0</td>\n",
       "      <td>94764.6</td>\n",
       "      <td>1356439</td>\n",
       "      <td>300000</td>\n",
       "      <td>375000</td>\n",
       "      <td>300000</td>\n",
       "      <td>300000</td>\n",
       "      <td>300000</td>\n",
       "      <td>300000</td>\n",
       "      <td>300000</td>\n",
       "      <td>300000</td>\n",
       "    </tr>\n",
       "    <tr>\n",
       "      <th>38</th>\n",
       "      <td>NaN</td>\n",
       "      <td>NaN</td>\n",
       "      <td>NaN</td>\n",
       "      <td>Total Cash outflow For KSA</td>\n",
       "      <td>-89910.095703</td>\n",
       "      <td>-693625.103372</td>\n",
       "      <td>-347234.293372</td>\n",
       "      <td>-257660.426772</td>\n",
       "      <td>-336303.446772</td>\n",
       "      <td>-308331.050772</td>\n",
       "      <td>-226141.674372</td>\n",
       "      <td>-192474.050772</td>\n",
       "      <td>-412371.050772</td>\n",
       "      <td>-202200.050772</td>\n",
       "      <td>-192408.050772</td>\n",
       "    </tr>\n",
       "    <tr>\n",
       "      <th>45</th>\n",
       "      <td>NaN</td>\n",
       "      <td>NaN</td>\n",
       "      <td>NaN</td>\n",
       "      <td>Total Cash outflow For Egypt</td>\n",
       "      <td>-15215.985156</td>\n",
       "      <td>-97337.533611</td>\n",
       "      <td>-97337.533611</td>\n",
       "      <td>-97337.533611</td>\n",
       "      <td>-97337.533611</td>\n",
       "      <td>-98657.533611</td>\n",
       "      <td>-98657.533611</td>\n",
       "      <td>-101957.533611</td>\n",
       "      <td>-98657.533611</td>\n",
       "      <td>-98657.533611</td>\n",
       "      <td>-98657.533611</td>\n",
       "    </tr>\n",
       "    <tr>\n",
       "      <th>46</th>\n",
       "      <td>NaN</td>\n",
       "      <td>NaN</td>\n",
       "      <td>NaN</td>\n",
       "      <td>Total Operating Cash Outflow</td>\n",
       "      <td>-105126.080859</td>\n",
       "      <td>-790962.636983</td>\n",
       "      <td>-444571.826983</td>\n",
       "      <td>-354997.960383</td>\n",
       "      <td>-433640.980383</td>\n",
       "      <td>-406988.584383</td>\n",
       "      <td>-324799.207983</td>\n",
       "      <td>-294431.584383</td>\n",
       "      <td>-511028.584383</td>\n",
       "      <td>-300857.584383</td>\n",
       "      <td>-291065.584383</td>\n",
       "    </tr>\n",
       "    <tr>\n",
       "      <th>50</th>\n",
       "      <td>NaN</td>\n",
       "      <td>NaN</td>\n",
       "      <td>NaN</td>\n",
       "      <td>Total Investing Cash Outflow</td>\n",
       "      <td>0</td>\n",
       "      <td>-3500</td>\n",
       "      <td>-3500</td>\n",
       "      <td>-3500</td>\n",
       "      <td>-3500</td>\n",
       "      <td>-3500</td>\n",
       "      <td>-3500</td>\n",
       "      <td>-3500</td>\n",
       "      <td>-3500</td>\n",
       "      <td>-3500</td>\n",
       "      <td>-3500</td>\n",
       "    </tr>\n",
       "    <tr>\n",
       "      <th>56</th>\n",
       "      <td>NaN</td>\n",
       "      <td>NaN</td>\n",
       "      <td>NaN</td>\n",
       "      <td>Total Cash outflow from Financing</td>\n",
       "      <td>1206303</td>\n",
       "      <td>-735319</td>\n",
       "      <td>-609485</td>\n",
       "      <td>0</td>\n",
       "      <td>0</td>\n",
       "      <td>0</td>\n",
       "      <td>-1278681.18</td>\n",
       "      <td>0</td>\n",
       "      <td>0</td>\n",
       "      <td>0</td>\n",
       "      <td>0</td>\n",
       "    </tr>\n",
       "    <tr>\n",
       "      <th>58</th>\n",
       "      <td>NaN</td>\n",
       "      <td>NaN</td>\n",
       "      <td>NaN</td>\n",
       "      <td>Total Change in cash</td>\n",
       "      <td>1101176.919141</td>\n",
       "      <td>-1435017.036983</td>\n",
       "      <td>298882.173017</td>\n",
       "      <td>-58497.960383</td>\n",
       "      <td>-62140.980383</td>\n",
       "      <td>-110488.584383</td>\n",
       "      <td>-1306980.387983</td>\n",
       "      <td>2068.415617</td>\n",
       "      <td>-214528.584383</td>\n",
       "      <td>-4357.584383</td>\n",
       "      <td>5434.415617</td>\n",
       "    </tr>\n",
       "  </tbody>\n",
       "</table>\n",
       "</div>"
      ],
      "text/plain": [
       "   Country Cash Flow Type Category                                Item  \\\n",
       "9      NaN            NaN      NaN         Total Operating Cash Inflow   \n",
       "38     NaN            NaN      NaN          Total Cash outflow For KSA   \n",
       "45     NaN            NaN      NaN       Total Cash outflow For Egypt    \n",
       "46     NaN            NaN      NaN        Total Operating Cash Outflow   \n",
       "50     NaN            NaN      NaN        Total Investing Cash Outflow   \n",
       "56     NaN            NaN      NaN  Total Cash outflow from Financing    \n",
       "58     NaN            NaN      NaN                Total Change in cash   \n",
       "\n",
       "   2025-08-01 00:00:00 2025-09-01 00:00:00 2025-10-01 00:00:00  \\\n",
       "9                    0             94764.6             1356439   \n",
       "38       -89910.095703      -693625.103372      -347234.293372   \n",
       "45       -15215.985156       -97337.533611       -97337.533611   \n",
       "46      -105126.080859      -790962.636983      -444571.826983   \n",
       "50                   0               -3500               -3500   \n",
       "56             1206303             -735319             -609485   \n",
       "58      1101176.919141     -1435017.036983       298882.173017   \n",
       "\n",
       "   2025-11-01 00:00:00 2025-12-01 00:00:00 2026-01-01 00:00:00  \\\n",
       "9               300000              375000              300000   \n",
       "38      -257660.426772      -336303.446772      -308331.050772   \n",
       "45       -97337.533611       -97337.533611       -98657.533611   \n",
       "46      -354997.960383      -433640.980383      -406988.584383   \n",
       "50               -3500               -3500               -3500   \n",
       "56                   0                   0                   0   \n",
       "58       -58497.960383       -62140.980383      -110488.584383   \n",
       "\n",
       "   2026-02-01 00:00:00 2026-03-01 00:00:00 2026-04-01 00:00:00  \\\n",
       "9               300000              300000              300000   \n",
       "38      -226141.674372      -192474.050772      -412371.050772   \n",
       "45       -98657.533611      -101957.533611       -98657.533611   \n",
       "46      -324799.207983      -294431.584383      -511028.584383   \n",
       "50               -3500               -3500               -3500   \n",
       "56         -1278681.18                   0                   0   \n",
       "58     -1306980.387983         2068.415617      -214528.584383   \n",
       "\n",
       "   2026-05-01 00:00:00 2026-06-01 00:00:00  \n",
       "9               300000              300000  \n",
       "38      -202200.050772      -192408.050772  \n",
       "45       -98657.533611       -98657.533611  \n",
       "46      -300857.584383      -291065.584383  \n",
       "50               -3500               -3500  \n",
       "56                   0                   0  \n",
       "58        -4357.584383         5434.415617  "
      ]
     },
     "execution_count": 38,
     "metadata": {},
     "output_type": "execute_result"
    }
   ],
   "source": [
    "totals"
   ]
  },
  {
   "cell_type": "code",
   "execution_count": 39,
   "id": "b951ebf8",
   "metadata": {},
   "outputs": [
    {
     "data": {
      "application/vnd.plotly.v1+json": {
       "config": {
        "plotlyServerURL": "https://plot.ly"
       },
       "data": [
        {
         "name": "Total Operating Cash Inflow",
         "type": "bar",
         "x": [
          "2025-08-01T00:00:00",
          "2025-09-01T00:00:00",
          "2025-10-01T00:00:00",
          "2025-11-01T00:00:00",
          "2025-12-01T00:00:00",
          "2026-01-01T00:00:00",
          "2026-02-01T00:00:00",
          "2026-03-01T00:00:00",
          "2026-04-01T00:00:00",
          "2026-05-01T00:00:00",
          "2026-06-01T00:00:00"
         ],
         "y": [
          0,
          94.7646,
          1356.439,
          300,
          375,
          300,
          300,
          300,
          300,
          300,
          300
         ]
        },
        {
         "name": "Total Operating Cash Outflow",
         "type": "bar",
         "x": [
          "2025-08-01T00:00:00",
          "2025-09-01T00:00:00",
          "2025-10-01T00:00:00",
          "2025-11-01T00:00:00",
          "2025-12-01T00:00:00",
          "2026-01-01T00:00:00",
          "2026-02-01T00:00:00",
          "2026-03-01T00:00:00",
          "2026-04-01T00:00:00",
          "2026-05-01T00:00:00",
          "2026-06-01T00:00:00"
         ],
         "y": [
          -105.126080859375,
          -790.9626369833334,
          -444.5718269833333,
          -354.9979603833334,
          -433.6409803833334,
          -406.9885843833333,
          -324.7992079833333,
          -294.43158438333336,
          -511.02858438333334,
          -300.85758438333335,
          -291.0655843833333
         ]
        },
        {
         "name": "Total Investing Cash Outflow",
         "type": "bar",
         "x": [
          "2025-08-01T00:00:00",
          "2025-09-01T00:00:00",
          "2025-10-01T00:00:00",
          "2025-11-01T00:00:00",
          "2025-12-01T00:00:00",
          "2026-01-01T00:00:00",
          "2026-02-01T00:00:00",
          "2026-03-01T00:00:00",
          "2026-04-01T00:00:00",
          "2026-05-01T00:00:00",
          "2026-06-01T00:00:00"
         ],
         "y": [
          0,
          -3.5,
          -3.5,
          -3.5,
          -3.5,
          -3.5,
          -3.5,
          -3.5,
          -3.5,
          -3.5,
          -3.5
         ]
        },
        {
         "name": "Total Cash outflow from Financing",
         "type": "bar",
         "x": [
          "2025-08-01T00:00:00",
          "2025-09-01T00:00:00",
          "2025-10-01T00:00:00",
          "2025-11-01T00:00:00",
          "2025-12-01T00:00:00",
          "2026-01-01T00:00:00",
          "2026-02-01T00:00:00",
          "2026-03-01T00:00:00",
          "2026-04-01T00:00:00",
          "2026-05-01T00:00:00",
          "2026-06-01T00:00:00"
         ],
         "y": [
          1206.303,
          -735.319,
          -609.485,
          0,
          0,
          0,
          -1278.68118,
          0,
          0,
          0,
          0
         ]
        },
        {
         "mode": "lines+markers",
         "name": "Ending Cash Balance",
         "text": [
          1206303,
          -735319,
          -609485,
          0,
          0,
          0,
          -1278681.18,
          0,
          0,
          0,
          0
         ],
         "textposition": "top center",
         "type": "scatter",
         "x": [
          "2025-08-01T00:00:00",
          "2025-09-01T00:00:00",
          "2025-10-01T00:00:00",
          "2025-11-01T00:00:00",
          "2025-12-01T00:00:00",
          "2026-01-01T00:00:00",
          "2026-02-01T00:00:00",
          "2026-03-01T00:00:00",
          "2026-04-01T00:00:00",
          "2026-05-01T00:00:00",
          "2026-06-01T00:00:00"
         ],
         "y": [
          1258.979069140625,
          -176.03796784270858,
          122.84420517395809,
          64.34624479062471,
          2.20526440729131,
          -108.28331997604202,
          -1415.2637079593753,
          -1413.1952923427086,
          -1627.723876726042,
          -1632.0814611093754,
          -1626.6470454927087
         ],
         "yaxis": "y"
        }
       ],
       "layout": {
        "annotations": [
         {
          "font": {
           "color": "green",
           "size": 14
          },
          "showarrow": false,
          "text": "1,259",
          "x": "2025-08-01T00:00:00",
          "y": 1258.979069140625,
          "yanchor": "bottom"
         },
         {
          "font": {
           "color": "red",
           "size": 14
          },
          "showarrow": false,
          "text": "-176",
          "x": "2025-09-01T00:00:00",
          "y": 0,
          "yanchor": "top"
         },
         {
          "font": {
           "color": "green",
           "size": 14
          },
          "showarrow": false,
          "text": "123",
          "x": "2025-10-01T00:00:00",
          "y": 122.84420517395809,
          "yanchor": "bottom"
         },
         {
          "font": {
           "color": "green",
           "size": 14
          },
          "showarrow": false,
          "text": "64",
          "x": "2025-11-01T00:00:00",
          "y": 64.34624479062471,
          "yanchor": "bottom"
         },
         {
          "font": {
           "color": "green",
           "size": 14
          },
          "showarrow": false,
          "text": "2",
          "x": "2025-12-01T00:00:00",
          "y": 2.20526440729131,
          "yanchor": "bottom"
         },
         {
          "font": {
           "color": "red",
           "size": 14
          },
          "showarrow": false,
          "text": "-108",
          "x": "2026-01-01T00:00:00",
          "y": 0,
          "yanchor": "top"
         },
         {
          "font": {
           "color": "red",
           "size": 14
          },
          "showarrow": false,
          "text": "-1,415",
          "x": "2026-02-01T00:00:00",
          "y": 0,
          "yanchor": "top"
         },
         {
          "font": {
           "color": "red",
           "size": 14
          },
          "showarrow": false,
          "text": "-1,413",
          "x": "2026-03-01T00:00:00",
          "y": 0,
          "yanchor": "top"
         },
         {
          "font": {
           "color": "red",
           "size": 14
          },
          "showarrow": false,
          "text": "-1,628",
          "x": "2026-04-01T00:00:00",
          "y": 0,
          "yanchor": "top"
         },
         {
          "font": {
           "color": "red",
           "size": 14
          },
          "showarrow": false,
          "text": "-1,632",
          "x": "2026-05-01T00:00:00",
          "y": 0,
          "yanchor": "top"
         },
         {
          "font": {
           "color": "red",
           "size": 14
          },
          "showarrow": false,
          "text": "-1,627",
          "x": "2026-06-01T00:00:00",
          "y": 0,
          "yanchor": "top"
         }
        ],
        "autosize": true,
        "barmode": "stack",
        "legend": {
         "title": {
          "text": "Category"
         }
        },
        "template": {
         "data": {
          "bar": [
           {
            "error_x": {
             "color": "#2a3f5f"
            },
            "error_y": {
             "color": "#2a3f5f"
            },
            "marker": {
             "line": {
              "color": "#E5ECF6",
              "width": 0.5
             },
             "pattern": {
              "fillmode": "overlay",
              "size": 10,
              "solidity": 0.2
             }
            },
            "type": "bar"
           }
          ],
          "barpolar": [
           {
            "marker": {
             "line": {
              "color": "#E5ECF6",
              "width": 0.5
             },
             "pattern": {
              "fillmode": "overlay",
              "size": 10,
              "solidity": 0.2
             }
            },
            "type": "barpolar"
           }
          ],
          "carpet": [
           {
            "aaxis": {
             "endlinecolor": "#2a3f5f",
             "gridcolor": "white",
             "linecolor": "white",
             "minorgridcolor": "white",
             "startlinecolor": "#2a3f5f"
            },
            "baxis": {
             "endlinecolor": "#2a3f5f",
             "gridcolor": "white",
             "linecolor": "white",
             "minorgridcolor": "white",
             "startlinecolor": "#2a3f5f"
            },
            "type": "carpet"
           }
          ],
          "choropleth": [
           {
            "colorbar": {
             "outlinewidth": 0,
             "ticks": ""
            },
            "type": "choropleth"
           }
          ],
          "contour": [
           {
            "colorbar": {
             "outlinewidth": 0,
             "ticks": ""
            },
            "colorscale": [
             [
              0,
              "#0d0887"
             ],
             [
              0.1111111111111111,
              "#46039f"
             ],
             [
              0.2222222222222222,
              "#7201a8"
             ],
             [
              0.3333333333333333,
              "#9c179e"
             ],
             [
              0.4444444444444444,
              "#bd3786"
             ],
             [
              0.5555555555555556,
              "#d8576b"
             ],
             [
              0.6666666666666666,
              "#ed7953"
             ],
             [
              0.7777777777777778,
              "#fb9f3a"
             ],
             [
              0.8888888888888888,
              "#fdca26"
             ],
             [
              1,
              "#f0f921"
             ]
            ],
            "type": "contour"
           }
          ],
          "contourcarpet": [
           {
            "colorbar": {
             "outlinewidth": 0,
             "ticks": ""
            },
            "type": "contourcarpet"
           }
          ],
          "heatmap": [
           {
            "colorbar": {
             "outlinewidth": 0,
             "ticks": ""
            },
            "colorscale": [
             [
              0,
              "#0d0887"
             ],
             [
              0.1111111111111111,
              "#46039f"
             ],
             [
              0.2222222222222222,
              "#7201a8"
             ],
             [
              0.3333333333333333,
              "#9c179e"
             ],
             [
              0.4444444444444444,
              "#bd3786"
             ],
             [
              0.5555555555555556,
              "#d8576b"
             ],
             [
              0.6666666666666666,
              "#ed7953"
             ],
             [
              0.7777777777777778,
              "#fb9f3a"
             ],
             [
              0.8888888888888888,
              "#fdca26"
             ],
             [
              1,
              "#f0f921"
             ]
            ],
            "type": "heatmap"
           }
          ],
          "heatmapgl": [
           {
            "colorbar": {
             "outlinewidth": 0,
             "ticks": ""
            },
            "colorscale": [
             [
              0,
              "#0d0887"
             ],
             [
              0.1111111111111111,
              "#46039f"
             ],
             [
              0.2222222222222222,
              "#7201a8"
             ],
             [
              0.3333333333333333,
              "#9c179e"
             ],
             [
              0.4444444444444444,
              "#bd3786"
             ],
             [
              0.5555555555555556,
              "#d8576b"
             ],
             [
              0.6666666666666666,
              "#ed7953"
             ],
             [
              0.7777777777777778,
              "#fb9f3a"
             ],
             [
              0.8888888888888888,
              "#fdca26"
             ],
             [
              1,
              "#f0f921"
             ]
            ],
            "type": "heatmapgl"
           }
          ],
          "histogram": [
           {
            "marker": {
             "pattern": {
              "fillmode": "overlay",
              "size": 10,
              "solidity": 0.2
             }
            },
            "type": "histogram"
           }
          ],
          "histogram2d": [
           {
            "colorbar": {
             "outlinewidth": 0,
             "ticks": ""
            },
            "colorscale": [
             [
              0,
              "#0d0887"
             ],
             [
              0.1111111111111111,
              "#46039f"
             ],
             [
              0.2222222222222222,
              "#7201a8"
             ],
             [
              0.3333333333333333,
              "#9c179e"
             ],
             [
              0.4444444444444444,
              "#bd3786"
             ],
             [
              0.5555555555555556,
              "#d8576b"
             ],
             [
              0.6666666666666666,
              "#ed7953"
             ],
             [
              0.7777777777777778,
              "#fb9f3a"
             ],
             [
              0.8888888888888888,
              "#fdca26"
             ],
             [
              1,
              "#f0f921"
             ]
            ],
            "type": "histogram2d"
           }
          ],
          "histogram2dcontour": [
           {
            "colorbar": {
             "outlinewidth": 0,
             "ticks": ""
            },
            "colorscale": [
             [
              0,
              "#0d0887"
             ],
             [
              0.1111111111111111,
              "#46039f"
             ],
             [
              0.2222222222222222,
              "#7201a8"
             ],
             [
              0.3333333333333333,
              "#9c179e"
             ],
             [
              0.4444444444444444,
              "#bd3786"
             ],
             [
              0.5555555555555556,
              "#d8576b"
             ],
             [
              0.6666666666666666,
              "#ed7953"
             ],
             [
              0.7777777777777778,
              "#fb9f3a"
             ],
             [
              0.8888888888888888,
              "#fdca26"
             ],
             [
              1,
              "#f0f921"
             ]
            ],
            "type": "histogram2dcontour"
           }
          ],
          "mesh3d": [
           {
            "colorbar": {
             "outlinewidth": 0,
             "ticks": ""
            },
            "type": "mesh3d"
           }
          ],
          "parcoords": [
           {
            "line": {
             "colorbar": {
              "outlinewidth": 0,
              "ticks": ""
             }
            },
            "type": "parcoords"
           }
          ],
          "pie": [
           {
            "automargin": true,
            "type": "pie"
           }
          ],
          "scatter": [
           {
            "fillpattern": {
             "fillmode": "overlay",
             "size": 10,
             "solidity": 0.2
            },
            "type": "scatter"
           }
          ],
          "scatter3d": [
           {
            "line": {
             "colorbar": {
              "outlinewidth": 0,
              "ticks": ""
             }
            },
            "marker": {
             "colorbar": {
              "outlinewidth": 0,
              "ticks": ""
             }
            },
            "type": "scatter3d"
           }
          ],
          "scattercarpet": [
           {
            "marker": {
             "colorbar": {
              "outlinewidth": 0,
              "ticks": ""
             }
            },
            "type": "scattercarpet"
           }
          ],
          "scattergeo": [
           {
            "marker": {
             "colorbar": {
              "outlinewidth": 0,
              "ticks": ""
             }
            },
            "type": "scattergeo"
           }
          ],
          "scattergl": [
           {
            "marker": {
             "colorbar": {
              "outlinewidth": 0,
              "ticks": ""
             }
            },
            "type": "scattergl"
           }
          ],
          "scattermapbox": [
           {
            "marker": {
             "colorbar": {
              "outlinewidth": 0,
              "ticks": ""
             }
            },
            "type": "scattermapbox"
           }
          ],
          "scatterpolar": [
           {
            "marker": {
             "colorbar": {
              "outlinewidth": 0,
              "ticks": ""
             }
            },
            "type": "scatterpolar"
           }
          ],
          "scatterpolargl": [
           {
            "marker": {
             "colorbar": {
              "outlinewidth": 0,
              "ticks": ""
             }
            },
            "type": "scatterpolargl"
           }
          ],
          "scatterternary": [
           {
            "marker": {
             "colorbar": {
              "outlinewidth": 0,
              "ticks": ""
             }
            },
            "type": "scatterternary"
           }
          ],
          "surface": [
           {
            "colorbar": {
             "outlinewidth": 0,
             "ticks": ""
            },
            "colorscale": [
             [
              0,
              "#0d0887"
             ],
             [
              0.1111111111111111,
              "#46039f"
             ],
             [
              0.2222222222222222,
              "#7201a8"
             ],
             [
              0.3333333333333333,
              "#9c179e"
             ],
             [
              0.4444444444444444,
              "#bd3786"
             ],
             [
              0.5555555555555556,
              "#d8576b"
             ],
             [
              0.6666666666666666,
              "#ed7953"
             ],
             [
              0.7777777777777778,
              "#fb9f3a"
             ],
             [
              0.8888888888888888,
              "#fdca26"
             ],
             [
              1,
              "#f0f921"
             ]
            ],
            "type": "surface"
           }
          ],
          "table": [
           {
            "cells": {
             "fill": {
              "color": "#EBF0F8"
             },
             "line": {
              "color": "white"
             }
            },
            "header": {
             "fill": {
              "color": "#C8D4E3"
             },
             "line": {
              "color": "white"
             }
            },
            "type": "table"
           }
          ]
         },
         "layout": {
          "annotationdefaults": {
           "arrowcolor": "#2a3f5f",
           "arrowhead": 0,
           "arrowwidth": 1
          },
          "autotypenumbers": "strict",
          "coloraxis": {
           "colorbar": {
            "outlinewidth": 0,
            "ticks": ""
           }
          },
          "colorscale": {
           "diverging": [
            [
             0,
             "#8e0152"
            ],
            [
             0.1,
             "#c51b7d"
            ],
            [
             0.2,
             "#de77ae"
            ],
            [
             0.3,
             "#f1b6da"
            ],
            [
             0.4,
             "#fde0ef"
            ],
            [
             0.5,
             "#f7f7f7"
            ],
            [
             0.6,
             "#e6f5d0"
            ],
            [
             0.7,
             "#b8e186"
            ],
            [
             0.8,
             "#7fbc41"
            ],
            [
             0.9,
             "#4d9221"
            ],
            [
             1,
             "#276419"
            ]
           ],
           "sequential": [
            [
             0,
             "#0d0887"
            ],
            [
             0.1111111111111111,
             "#46039f"
            ],
            [
             0.2222222222222222,
             "#7201a8"
            ],
            [
             0.3333333333333333,
             "#9c179e"
            ],
            [
             0.4444444444444444,
             "#bd3786"
            ],
            [
             0.5555555555555556,
             "#d8576b"
            ],
            [
             0.6666666666666666,
             "#ed7953"
            ],
            [
             0.7777777777777778,
             "#fb9f3a"
            ],
            [
             0.8888888888888888,
             "#fdca26"
            ],
            [
             1,
             "#f0f921"
            ]
           ],
           "sequentialminus": [
            [
             0,
             "#0d0887"
            ],
            [
             0.1111111111111111,
             "#46039f"
            ],
            [
             0.2222222222222222,
             "#7201a8"
            ],
            [
             0.3333333333333333,
             "#9c179e"
            ],
            [
             0.4444444444444444,
             "#bd3786"
            ],
            [
             0.5555555555555556,
             "#d8576b"
            ],
            [
             0.6666666666666666,
             "#ed7953"
            ],
            [
             0.7777777777777778,
             "#fb9f3a"
            ],
            [
             0.8888888888888888,
             "#fdca26"
            ],
            [
             1,
             "#f0f921"
            ]
           ]
          },
          "colorway": [
           "#636efa",
           "#EF553B",
           "#00cc96",
           "#ab63fa",
           "#FFA15A",
           "#19d3f3",
           "#FF6692",
           "#B6E880",
           "#FF97FF",
           "#FECB52"
          ],
          "font": {
           "color": "#2a3f5f"
          },
          "geo": {
           "bgcolor": "white",
           "lakecolor": "white",
           "landcolor": "#E5ECF6",
           "showlakes": true,
           "showland": true,
           "subunitcolor": "white"
          },
          "hoverlabel": {
           "align": "left"
          },
          "hovermode": "closest",
          "mapbox": {
           "style": "light"
          },
          "paper_bgcolor": "white",
          "plot_bgcolor": "#E5ECF6",
          "polar": {
           "angularaxis": {
            "gridcolor": "white",
            "linecolor": "white",
            "ticks": ""
           },
           "bgcolor": "#E5ECF6",
           "radialaxis": {
            "gridcolor": "white",
            "linecolor": "white",
            "ticks": ""
           }
          },
          "scene": {
           "xaxis": {
            "backgroundcolor": "#E5ECF6",
            "gridcolor": "white",
            "gridwidth": 2,
            "linecolor": "white",
            "showbackground": true,
            "ticks": "",
            "zerolinecolor": "white"
           },
           "yaxis": {
            "backgroundcolor": "#E5ECF6",
            "gridcolor": "white",
            "gridwidth": 2,
            "linecolor": "white",
            "showbackground": true,
            "ticks": "",
            "zerolinecolor": "white"
           },
           "zaxis": {
            "backgroundcolor": "#E5ECF6",
            "gridcolor": "white",
            "gridwidth": 2,
            "linecolor": "white",
            "showbackground": true,
            "ticks": "",
            "zerolinecolor": "white"
           }
          },
          "shapedefaults": {
           "line": {
            "color": "#2a3f5f"
           }
          },
          "ternary": {
           "aaxis": {
            "gridcolor": "white",
            "linecolor": "white",
            "ticks": ""
           },
           "baxis": {
            "gridcolor": "white",
            "linecolor": "white",
            "ticks": ""
           },
           "bgcolor": "#E5ECF6",
           "caxis": {
            "gridcolor": "white",
            "linecolor": "white",
            "ticks": ""
           }
          },
          "title": {
           "x": 0.05
          },
          "xaxis": {
           "automargin": true,
           "gridcolor": "white",
           "linecolor": "white",
           "ticks": "",
           "title": {
            "standoff": 15
           },
           "zerolinecolor": "white",
           "zerolinewidth": 2
          },
          "yaxis": {
           "automargin": true,
           "gridcolor": "white",
           "linecolor": "white",
           "ticks": "",
           "title": {
            "standoff": 15
           },
           "zerolinecolor": "white",
           "zerolinewidth": 2
          }
         }
        },
        "title": {
         "text": "Monthly Cash Flow by Category"
        },
        "xaxis": {
         "title": {
          "text": "Month"
         }
        },
        "yaxis": {
         "title": {
          "text": "Amount (000s SAR)"
         }
        }
       }
      }
     },
     "metadata": {},
     "output_type": "display_data"
    }
   ],
   "source": [
    "import plotly.graph_objs as go\n",
    "\n",
    "# Extract month columns (assuming columns 4 onward are months)\n",
    "months = totals.columns[4:]\n",
    "categories = ['Total Operating Cash Inflow', 'Total Operating Cash Outflow', 'Total Investing Cash Outflow', 'Total Cash outflow from Financing']\n",
    "\n",
    "# Prepare data for each category using only the 'totals' DataFrame\n",
    "data = []\n",
    "for cat in categories:\n",
    "    # Find the row in totals where the category name appears in the 'Item' column\n",
    "    row = totals[totals['Item'].str.contains(cat, case=False, na=False)]\n",
    "    if not row.empty:\n",
    "        y = row.iloc[0, 4:].apply(pd.to_numeric, errors='coerce')\n",
    "        bar = go.Bar(\n",
    "            name=cat,\n",
    "            x=months,\n",
    "            y=y/1000,\n",
    "        )\n",
    "        data.append(bar)\n",
    "\n",
    "\n",
    "\n",
    "# Add ending cash balance as a line\n",
    "ending_balance_row = CashFlow[CashFlow['Item'].str.strip() == 'Cash Ending Balance']\n",
    "if not ending_balance_row.empty:\n",
    "    ending_balance = ending_balance_row.iloc[0, 4:].apply(pd.to_numeric, errors='coerce') / 1000\n",
    "    line = go.Scatter(\n",
    "        name='Ending Cash Balance',\n",
    "        x=months,\n",
    "        y=ending_balance,\n",
    "        mode='lines+markers',\n",
    "        yaxis='y',\n",
    "        text=y,\n",
    "        textposition='top center',  \n",
    "    )\n",
    "    data.append(line)\n",
    "# Calculate overall total for each month and add as text annotations\n",
    "annotations = []\n",
    "for i, val in enumerate(ending_balance):\n",
    "    color = 'green' if val >= 0 else 'red'\n",
    "    annotations.append(\n",
    "        {\n",
    "            \"x\": months[i],\n",
    "            \"y\": val if val >= 0 else 0,  # Place label above zero for negative values\n",
    "            \"text\": f'{val:,.0f}',\n",
    "            \"showarrow\": False,\n",
    "            \"font\": {\"color\": color, \"size\": 14},\n",
    "            \"yanchor\": 'bottom' if val >= 0 else 'top'\n",
    "        }\n",
    "    )\n",
    "fig = go.Figure(data=data)\n",
    "fig.update_layout(\n",
    "    barmode='stack',\n",
    "    title='Monthly Cash Flow by Category',\n",
    "    xaxis_title='Month',\n",
    "    yaxis_title='Amount (000s SAR)',\n",
    "    autosize=True,\n",
    "    legend_title='Category',\n",
    "    annotations=annotations,\n",
    ")\n",
    "fig.show()"
   ]
  },
  {
   "cell_type": "code",
   "execution_count": null,
   "id": "32f3a33f",
   "metadata": {},
   "outputs": [],
   "source": []
  },
  {
   "cell_type": "markdown",
   "id": "6010e204",
   "metadata": {},
   "source": [
    "# Cashflow forecast table"
   ]
  },
  {
   "cell_type": "code",
   "execution_count": 40,
   "id": "96dd6ab0",
   "metadata": {},
   "outputs": [
    {
     "data": {
      "text/html": [
       "<div>\n",
       "<style scoped>\n",
       "    .dataframe tbody tr th:only-of-type {\n",
       "        vertical-align: middle;\n",
       "    }\n",
       "\n",
       "    .dataframe tbody tr th {\n",
       "        vertical-align: top;\n",
       "    }\n",
       "\n",
       "    .dataframe thead th {\n",
       "        text-align: right;\n",
       "    }\n",
       "</style>\n",
       "<table border=\"1\" class=\"dataframe\">\n",
       "  <thead>\n",
       "    <tr style=\"text-align: right;\">\n",
       "      <th></th>\n",
       "      <th>Country</th>\n",
       "      <th>Cash Flow Type</th>\n",
       "      <th>Category</th>\n",
       "      <th>Item</th>\n",
       "      <th>2025-08-01 00:00:00</th>\n",
       "      <th>2025-09-01 00:00:00</th>\n",
       "      <th>2025-10-01 00:00:00</th>\n",
       "      <th>2025-11-01 00:00:00</th>\n",
       "      <th>2025-12-01 00:00:00</th>\n",
       "      <th>2026-01-01 00:00:00</th>\n",
       "      <th>2026-02-01 00:00:00</th>\n",
       "      <th>2026-03-01 00:00:00</th>\n",
       "      <th>2026-04-01 00:00:00</th>\n",
       "      <th>2026-05-01 00:00:00</th>\n",
       "      <th>2026-06-01 00:00:00</th>\n",
       "    </tr>\n",
       "  </thead>\n",
       "  <tbody>\n",
       "    <tr>\n",
       "      <th>10</th>\n",
       "      <td>NaN</td>\n",
       "      <td>NaN</td>\n",
       "      <td>2</td>\n",
       "      <td>Operating Cash Outflow</td>\n",
       "      <td>NaN</td>\n",
       "      <td>NaN</td>\n",
       "      <td>NaN</td>\n",
       "      <td>NaN</td>\n",
       "      <td>NaN</td>\n",
       "      <td>NaN</td>\n",
       "      <td>NaN</td>\n",
       "      <td>NaN</td>\n",
       "      <td>NaN</td>\n",
       "      <td>NaN</td>\n",
       "      <td>NaN</td>\n",
       "    </tr>\n",
       "    <tr>\n",
       "      <th>11</th>\n",
       "      <td>KSA</td>\n",
       "      <td>Operating Cash Outflow</td>\n",
       "      <td>Personnel</td>\n",
       "      <td>Salaries</td>\n",
       "      <td>NaN</td>\n",
       "      <td>-191500</td>\n",
       "      <td>-136000</td>\n",
       "      <td>-136000</td>\n",
       "      <td>-136000</td>\n",
       "      <td>-136000</td>\n",
       "      <td>-136000</td>\n",
       "      <td>-128000</td>\n",
       "      <td>-128000</td>\n",
       "      <td>-128000</td>\n",
       "      <td>-128000</td>\n",
       "    </tr>\n",
       "    <tr>\n",
       "      <th>12</th>\n",
       "      <td>KSA</td>\n",
       "      <td>Operating Cash Outflow</td>\n",
       "      <td>Personnel</td>\n",
       "      <td>End Of Services</td>\n",
       "      <td>NaN</td>\n",
       "      <td>-47248.33</td>\n",
       "      <td>-63766.83</td>\n",
       "      <td>0</td>\n",
       "      <td>0</td>\n",
       "      <td>0</td>\n",
       "      <td>0</td>\n",
       "      <td>0</td>\n",
       "      <td>0</td>\n",
       "      <td>0</td>\n",
       "      <td>0</td>\n",
       "    </tr>\n",
       "    <tr>\n",
       "      <th>13</th>\n",
       "      <td>KSA</td>\n",
       "      <td>Operating Cash Outflow</td>\n",
       "      <td>Personnel</td>\n",
       "      <td>GOSI</td>\n",
       "      <td>NaN</td>\n",
       "      <td>-10036.63</td>\n",
       "      <td>-10036.63</td>\n",
       "      <td>-10036.63</td>\n",
       "      <td>-10036.63</td>\n",
       "      <td>-10036.63</td>\n",
       "      <td>-10036.63</td>\n",
       "      <td>-10036.63</td>\n",
       "      <td>-10036.63</td>\n",
       "      <td>-10036.63</td>\n",
       "      <td>-10036.63</td>\n",
       "    </tr>\n",
       "    <tr>\n",
       "      <th>14</th>\n",
       "      <td>KSA</td>\n",
       "      <td>Operating Cash Outflow</td>\n",
       "      <td>Personnel</td>\n",
       "      <td>Iqama renewal</td>\n",
       "      <td>NaN</td>\n",
       "      <td>NaN</td>\n",
       "      <td>NaN</td>\n",
       "      <td>-9150</td>\n",
       "      <td>-9150</td>\n",
       "      <td>NaN</td>\n",
       "      <td>NaN</td>\n",
       "      <td>NaN</td>\n",
       "      <td>NaN</td>\n",
       "      <td>NaN</td>\n",
       "      <td>NaN</td>\n",
       "    </tr>\n",
       "    <tr>\n",
       "      <th>15</th>\n",
       "      <td>KSA</td>\n",
       "      <td>Operating Cash Outflow</td>\n",
       "      <td>Personnel</td>\n",
       "      <td>Medical Insurance</td>\n",
       "      <td>NaN</td>\n",
       "      <td>NaN</td>\n",
       "      <td>NaN</td>\n",
       "      <td>NaN</td>\n",
       "      <td>-67101</td>\n",
       "      <td>NaN</td>\n",
       "      <td>NaN</td>\n",
       "      <td>NaN</td>\n",
       "      <td>NaN</td>\n",
       "      <td>NaN</td>\n",
       "      <td>NaN</td>\n",
       "    </tr>\n",
       "    <tr>\n",
       "      <th>16</th>\n",
       "      <td>KSA</td>\n",
       "      <td>Operating Cash Outflow</td>\n",
       "      <td>Personnel</td>\n",
       "      <td>Ahmed Gharawy - Benefits -Tickets</td>\n",
       "      <td>NaN</td>\n",
       "      <td>NaN</td>\n",
       "      <td>NaN</td>\n",
       "      <td>NaN</td>\n",
       "      <td>NaN</td>\n",
       "      <td>NaN</td>\n",
       "      <td>NaN</td>\n",
       "      <td>NaN</td>\n",
       "      <td>NaN</td>\n",
       "      <td>-9600</td>\n",
       "      <td>NaN</td>\n",
       "    </tr>\n",
       "    <tr>\n",
       "      <th>17</th>\n",
       "      <td>KSA</td>\n",
       "      <td>Operating Cash Outflow</td>\n",
       "      <td>Personnel</td>\n",
       "      <td>KSA Accountant - general:</td>\n",
       "      <td>NaN</td>\n",
       "      <td>-6000</td>\n",
       "      <td>-6000</td>\n",
       "      <td>-6000</td>\n",
       "      <td>-6000</td>\n",
       "      <td>-6000</td>\n",
       "      <td>-6000</td>\n",
       "      <td>-6000</td>\n",
       "      <td>-6000</td>\n",
       "      <td>-6000</td>\n",
       "      <td>-6000</td>\n",
       "    </tr>\n",
       "    <tr>\n",
       "      <th>18</th>\n",
       "      <td>KSA</td>\n",
       "      <td>Operating Cash Outflow</td>\n",
       "      <td>Recruitment</td>\n",
       "      <td>Linkedin Exp</td>\n",
       "      <td>NaN</td>\n",
       "      <td>-10000</td>\n",
       "      <td>-5000</td>\n",
       "      <td>-5000</td>\n",
       "      <td>-5000</td>\n",
       "      <td>-5000</td>\n",
       "      <td>-5000</td>\n",
       "      <td>-5000</td>\n",
       "      <td>-5000</td>\n",
       "      <td>-5000</td>\n",
       "      <td>-5000</td>\n",
       "    </tr>\n",
       "    <tr>\n",
       "      <th>19</th>\n",
       "      <td>KSA</td>\n",
       "      <td>Operating Cash Outflow</td>\n",
       "      <td>Vendor</td>\n",
       "      <td>La Aseer Project - Vendor</td>\n",
       "      <td>-18692.2</td>\n",
       "      <td>-18692.2</td>\n",
       "      <td>-18692.2</td>\n",
       "      <td>-18692.2</td>\n",
       "      <td>-18692.2</td>\n",
       "      <td>NaN</td>\n",
       "      <td>NaN</td>\n",
       "      <td>NaN</td>\n",
       "      <td>NaN</td>\n",
       "      <td>NaN</td>\n",
       "      <td>NaN</td>\n",
       "    </tr>\n",
       "    <tr>\n",
       "      <th>20</th>\n",
       "      <td>KSA</td>\n",
       "      <td>Operating Cash Outflow</td>\n",
       "      <td>Vendor</td>\n",
       "      <td>La Aseer Project - Vendor</td>\n",
       "      <td>-8675.6</td>\n",
       "      <td>-8675.6</td>\n",
       "      <td>-8675.6</td>\n",
       "      <td>-8675.6</td>\n",
       "      <td>-8675.6</td>\n",
       "      <td>NaN</td>\n",
       "      <td>NaN</td>\n",
       "      <td>NaN</td>\n",
       "      <td>NaN</td>\n",
       "      <td>NaN</td>\n",
       "      <td>NaN</td>\n",
       "    </tr>\n",
       "    <tr>\n",
       "      <th>21</th>\n",
       "      <td>KSA</td>\n",
       "      <td>Operating Cash Outflow</td>\n",
       "      <td>Vendor</td>\n",
       "      <td>MWAN Project -Ata allah Photographer</td>\n",
       "      <td>-15000</td>\n",
       "      <td>-15000</td>\n",
       "      <td>-15000</td>\n",
       "      <td>NaN</td>\n",
       "      <td>NaN</td>\n",
       "      <td>NaN</td>\n",
       "      <td>NaN</td>\n",
       "      <td>NaN</td>\n",
       "      <td>NaN</td>\n",
       "      <td>NaN</td>\n",
       "      <td>NaN</td>\n",
       "    </tr>\n",
       "    <tr>\n",
       "      <th>22</th>\n",
       "      <td>KSA</td>\n",
       "      <td>Operating Cash Outflow</td>\n",
       "      <td>Vendor</td>\n",
       "      <td>MWAN Project -Dar Nassah</td>\n",
       "      <td>-19481</td>\n",
       "      <td>-19481</td>\n",
       "      <td>-19481</td>\n",
       "      <td>-19481</td>\n",
       "      <td>-19481</td>\n",
       "      <td>NaN</td>\n",
       "      <td>NaN</td>\n",
       "      <td>NaN</td>\n",
       "      <td>NaN</td>\n",
       "      <td>NaN</td>\n",
       "      <td>NaN</td>\n",
       "    </tr>\n",
       "    <tr>\n",
       "      <th>23</th>\n",
       "      <td>KSA</td>\n",
       "      <td>Operating Cash Outflow</td>\n",
       "      <td>Vendor</td>\n",
       "      <td>NWC Vendor</td>\n",
       "      <td>-26000</td>\n",
       "      <td>NaN</td>\n",
       "      <td>NaN</td>\n",
       "      <td>NaN</td>\n",
       "      <td>NaN</td>\n",
       "      <td>NaN</td>\n",
       "      <td>NaN</td>\n",
       "      <td>NaN</td>\n",
       "      <td>NaN</td>\n",
       "      <td>NaN</td>\n",
       "      <td>NaN</td>\n",
       "    </tr>\n",
       "    <tr>\n",
       "      <th>24</th>\n",
       "      <td>KSA</td>\n",
       "      <td>Operating Cash Outflow</td>\n",
       "      <td>Subscriptions</td>\n",
       "      <td>Microsoft 365</td>\n",
       "      <td>NaN</td>\n",
       "      <td>-1000</td>\n",
       "      <td>-1000</td>\n",
       "      <td>-1000</td>\n",
       "      <td>-1000</td>\n",
       "      <td>-1000</td>\n",
       "      <td>-1000</td>\n",
       "      <td>-1000</td>\n",
       "      <td>-1000</td>\n",
       "      <td>-1000</td>\n",
       "      <td>-1000</td>\n",
       "    </tr>\n",
       "    <tr>\n",
       "      <th>25</th>\n",
       "      <td>KSA</td>\n",
       "      <td>Operating Cash Outflow</td>\n",
       "      <td>Subscriptions</td>\n",
       "      <td>PalmHR</td>\n",
       "      <td>NaN</td>\n",
       "      <td>-2975.625</td>\n",
       "      <td>-2975.625</td>\n",
       "      <td>-2975.625</td>\n",
       "      <td>-2975.625</td>\n",
       "      <td>-2975.625</td>\n",
       "      <td>-2975.625</td>\n",
       "      <td>-2975.625</td>\n",
       "      <td>-2975.625</td>\n",
       "      <td>-2975.625</td>\n",
       "      <td>-2975.625</td>\n",
       "    </tr>\n",
       "    <tr>\n",
       "      <th>26</th>\n",
       "      <td>KSA</td>\n",
       "      <td>Operating Cash Outflow</td>\n",
       "      <td>Subscriptions</td>\n",
       "      <td>Mix (ChatGPT, Antivirus…)</td>\n",
       "      <td>NaN</td>\n",
       "      <td>-700</td>\n",
       "      <td>-700</td>\n",
       "      <td>-700</td>\n",
       "      <td>-700</td>\n",
       "      <td>-700</td>\n",
       "      <td>-700</td>\n",
       "      <td>-700</td>\n",
       "      <td>-700</td>\n",
       "      <td>-700</td>\n",
       "      <td>-700</td>\n",
       "    </tr>\n",
       "    <tr>\n",
       "      <th>27</th>\n",
       "      <td>KSA</td>\n",
       "      <td>Operating Cash Outflow</td>\n",
       "      <td>Travel Exp</td>\n",
       "      <td>Travel Exp</td>\n",
       "      <td>NaN</td>\n",
       "      <td>-3000</td>\n",
       "      <td>-3000</td>\n",
       "      <td>-3000</td>\n",
       "      <td>-3000</td>\n",
       "      <td>-3000</td>\n",
       "      <td>-3000</td>\n",
       "      <td>-3000</td>\n",
       "      <td>-3000</td>\n",
       "      <td>-3000</td>\n",
       "      <td>-3000</td>\n",
       "    </tr>\n",
       "    <tr>\n",
       "      <th>28</th>\n",
       "      <td>KSA</td>\n",
       "      <td>Operating Cash Outflow</td>\n",
       "      <td>Travel Exp</td>\n",
       "      <td>NWC Traveling Exp</td>\n",
       "      <td>NaN</td>\n",
       "      <td>-13000</td>\n",
       "      <td>-13000</td>\n",
       "      <td>-13000</td>\n",
       "      <td>-13000</td>\n",
       "      <td>-13000</td>\n",
       "      <td>-13000</td>\n",
       "      <td>-13000</td>\n",
       "      <td>-13000</td>\n",
       "      <td>-13000</td>\n",
       "      <td>-13000</td>\n",
       "    </tr>\n",
       "    <tr>\n",
       "      <th>29</th>\n",
       "      <td>KSA</td>\n",
       "      <td>Operating Cash Outflow</td>\n",
       "      <td>Marketing</td>\n",
       "      <td>Marketing</td>\n",
       "      <td>NaN</td>\n",
       "      <td>-4000</td>\n",
       "      <td>-4000</td>\n",
       "      <td>-4000</td>\n",
       "      <td>-4000</td>\n",
       "      <td>-4000</td>\n",
       "      <td>-4000</td>\n",
       "      <td>-4000</td>\n",
       "      <td>-4000</td>\n",
       "      <td>-4000</td>\n",
       "      <td>-4000</td>\n",
       "    </tr>\n",
       "    <tr>\n",
       "      <th>30</th>\n",
       "      <td>KSA</td>\n",
       "      <td>Operating Cash Outflow</td>\n",
       "      <td>Rent</td>\n",
       "      <td>Office Rent</td>\n",
       "      <td>NaN</td>\n",
       "      <td>NaN</td>\n",
       "      <td>-6250</td>\n",
       "      <td>NaN</td>\n",
       "      <td>NaN</td>\n",
       "      <td>-6250</td>\n",
       "      <td>NaN</td>\n",
       "      <td>NaN</td>\n",
       "      <td>-6250</td>\n",
       "      <td>NaN</td>\n",
       "      <td>NaN</td>\n",
       "    </tr>\n",
       "    <tr>\n",
       "      <th>31</th>\n",
       "      <td>KSA</td>\n",
       "      <td>Operating Cash Outflow</td>\n",
       "      <td>Government Exp</td>\n",
       "      <td>Gov Fees</td>\n",
       "      <td>NaN</td>\n",
       "      <td>-4000</td>\n",
       "      <td>-4000</td>\n",
       "      <td>-4000</td>\n",
       "      <td>-4000</td>\n",
       "      <td>-4000</td>\n",
       "      <td>-4000</td>\n",
       "      <td>-4000</td>\n",
       "      <td>-4000</td>\n",
       "      <td>-4000</td>\n",
       "      <td>-4000</td>\n",
       "    </tr>\n",
       "    <tr>\n",
       "      <th>32</th>\n",
       "      <td>KSA</td>\n",
       "      <td>Operating Cash Outflow</td>\n",
       "      <td>Bank Charges</td>\n",
       "      <td>Bank Charges &amp; Fees</td>\n",
       "      <td>NaN</td>\n",
       "      <td>-500</td>\n",
       "      <td>-500</td>\n",
       "      <td>-500</td>\n",
       "      <td>-500</td>\n",
       "      <td>-500</td>\n",
       "      <td>-500</td>\n",
       "      <td>-500</td>\n",
       "      <td>-500</td>\n",
       "      <td>-500</td>\n",
       "      <td>-500</td>\n",
       "    </tr>\n",
       "    <tr>\n",
       "      <th>33</th>\n",
       "      <td>KSA</td>\n",
       "      <td>Operating Cash Outflow</td>\n",
       "      <td>Zakat</td>\n",
       "      <td>Zakat 2024</td>\n",
       "      <td>NaN</td>\n",
       "      <td>NaN</td>\n",
       "      <td>NaN</td>\n",
       "      <td>NaN</td>\n",
       "      <td>NaN</td>\n",
       "      <td>NaN</td>\n",
       "      <td>NaN</td>\n",
       "      <td>NaN</td>\n",
       "      <td>-100000</td>\n",
       "      <td>NaN</td>\n",
       "      <td>NaN</td>\n",
       "    </tr>\n",
       "    <tr>\n",
       "      <th>34</th>\n",
       "      <td>KSA</td>\n",
       "      <td>Operating Cash Outflow</td>\n",
       "      <td>VAT and Taxes</td>\n",
       "      <td>VAT &amp; withholding tax</td>\n",
       "      <td>NaN</td>\n",
       "      <td>-300000</td>\n",
       "      <td>-600</td>\n",
       "      <td>-600</td>\n",
       "      <td>-600</td>\n",
       "      <td>-100000</td>\n",
       "      <td>-600</td>\n",
       "      <td>-600</td>\n",
       "      <td>-100000</td>\n",
       "      <td>-600</td>\n",
       "      <td>-600</td>\n",
       "    </tr>\n",
       "    <tr>\n",
       "      <th>35</th>\n",
       "      <td>KSA</td>\n",
       "      <td>Operating Cash Outflow</td>\n",
       "      <td>Audit Fees</td>\n",
       "      <td>KSA Accountant - auditor: Hammam Salama</td>\n",
       "      <td>NaN</td>\n",
       "      <td>NaN</td>\n",
       "      <td>NaN</td>\n",
       "      <td>NaN</td>\n",
       "      <td>-10000</td>\n",
       "      <td>NaN</td>\n",
       "      <td>NaN</td>\n",
       "      <td>NaN</td>\n",
       "      <td>-10000</td>\n",
       "      <td>NaN</td>\n",
       "      <td>NaN</td>\n",
       "    </tr>\n",
       "    <tr>\n",
       "      <th>36</th>\n",
       "      <td>KSA</td>\n",
       "      <td>Operating Cash Outflow</td>\n",
       "      <td>Lawyer Fees</td>\n",
       "      <td>KSA Lawyer: Sahel</td>\n",
       "      <td>NaN</td>\n",
       "      <td>-7820.0</td>\n",
       "      <td>-7820.0</td>\n",
       "      <td>-7820.0</td>\n",
       "      <td>-7820.0</td>\n",
       "      <td>-7820.0</td>\n",
       "      <td>-7820.0</td>\n",
       "      <td>-7820.0</td>\n",
       "      <td>-7820.0</td>\n",
       "      <td>-7820.0</td>\n",
       "      <td>-7820.0</td>\n",
       "    </tr>\n",
       "    <tr>\n",
       "      <th>37</th>\n",
       "      <td>KSA</td>\n",
       "      <td>Operating Cash Outflow</td>\n",
       "      <td>Contingency + Misc.</td>\n",
       "      <td>Contingency + Misc.</td>\n",
       "      <td>-2061.295703</td>\n",
       "      <td>-29995.718372</td>\n",
       "      <td>-20736.408372</td>\n",
       "      <td>-7029.371772</td>\n",
       "      <td>-8571.391772</td>\n",
       "      <td>-8048.795772</td>\n",
       "      <td>-31509.419372</td>\n",
       "      <td>-5841.795772</td>\n",
       "      <td>-10088.795772</td>\n",
       "      <td>-5967.795772</td>\n",
       "      <td>-5775.795772</td>\n",
       "    </tr>\n",
       "    <tr>\n",
       "      <th>38</th>\n",
       "      <td>NaN</td>\n",
       "      <td>NaN</td>\n",
       "      <td>NaN</td>\n",
       "      <td>Total Cash outflow For KSA</td>\n",
       "      <td>-89910.095703</td>\n",
       "      <td>-693625.103372</td>\n",
       "      <td>-347234.293372</td>\n",
       "      <td>-257660.426772</td>\n",
       "      <td>-336303.446772</td>\n",
       "      <td>-308331.050772</td>\n",
       "      <td>-226141.674372</td>\n",
       "      <td>-192474.050772</td>\n",
       "      <td>-412371.050772</td>\n",
       "      <td>-202200.050772</td>\n",
       "      <td>-192408.050772</td>\n",
       "    </tr>\n",
       "    <tr>\n",
       "      <th>39</th>\n",
       "      <td>Egypt</td>\n",
       "      <td>Operating Cash Outflow</td>\n",
       "      <td>Personnel</td>\n",
       "      <td>Salaries</td>\n",
       "      <td>NaN</td>\n",
       "      <td>-75734.408611</td>\n",
       "      <td>-75734.408611</td>\n",
       "      <td>-75734.408611</td>\n",
       "      <td>-75734.408611</td>\n",
       "      <td>-77054.408611</td>\n",
       "      <td>-77054.408611</td>\n",
       "      <td>-77054.408611</td>\n",
       "      <td>-77054.408611</td>\n",
       "      <td>-77054.408611</td>\n",
       "      <td>-77054.408611</td>\n",
       "    </tr>\n",
       "    <tr>\n",
       "      <th>40</th>\n",
       "      <td>Egypt</td>\n",
       "      <td>Operating Cash Outflow</td>\n",
       "      <td>Accounting Exp</td>\n",
       "      <td>EGY Accountant: Delta</td>\n",
       "      <td>-1500</td>\n",
       "      <td>-1500</td>\n",
       "      <td>-1500</td>\n",
       "      <td>-1500</td>\n",
       "      <td>-1500</td>\n",
       "      <td>-1500</td>\n",
       "      <td>-1500</td>\n",
       "      <td>-4800</td>\n",
       "      <td>-1500</td>\n",
       "      <td>-1500</td>\n",
       "      <td>-1500</td>\n",
       "    </tr>\n",
       "    <tr>\n",
       "      <th>41</th>\n",
       "      <td>Egypt</td>\n",
       "      <td>Operating Cash Outflow</td>\n",
       "      <td>Rent</td>\n",
       "      <td>Office Rent</td>\n",
       "      <td>NaN</td>\n",
       "      <td>-3828.125</td>\n",
       "      <td>-3828.125</td>\n",
       "      <td>-3828.125</td>\n",
       "      <td>-3828.125</td>\n",
       "      <td>-3828.125</td>\n",
       "      <td>-3828.125</td>\n",
       "      <td>-3828.125</td>\n",
       "      <td>-3828.125</td>\n",
       "      <td>-3828.125</td>\n",
       "      <td>-3828.125</td>\n",
       "    </tr>\n",
       "    <tr>\n",
       "      <th>42</th>\n",
       "      <td>Egypt</td>\n",
       "      <td>Operating Cash Outflow</td>\n",
       "      <td>Taxs &amp; Social insurance</td>\n",
       "      <td>Taxs &amp; Social insurance</td>\n",
       "      <td>-11840.985156</td>\n",
       "      <td>-13400</td>\n",
       "      <td>-13400</td>\n",
       "      <td>-13400</td>\n",
       "      <td>-13400</td>\n",
       "      <td>-13400</td>\n",
       "      <td>-13400</td>\n",
       "      <td>-13400</td>\n",
       "      <td>-13400</td>\n",
       "      <td>-13400</td>\n",
       "      <td>-13400</td>\n",
       "    </tr>\n",
       "    <tr>\n",
       "      <th>43</th>\n",
       "      <td>Egypt</td>\n",
       "      <td>Operating Cash Outflow</td>\n",
       "      <td>Legal Exp</td>\n",
       "      <td>EGY Lawyer: S&amp;P</td>\n",
       "      <td>-1875</td>\n",
       "      <td>-1875</td>\n",
       "      <td>-1875</td>\n",
       "      <td>-1875</td>\n",
       "      <td>-1875</td>\n",
       "      <td>-1875</td>\n",
       "      <td>-1875</td>\n",
       "      <td>-1875</td>\n",
       "      <td>-1875</td>\n",
       "      <td>-1875</td>\n",
       "      <td>-1875</td>\n",
       "    </tr>\n",
       "    <tr>\n",
       "      <th>44</th>\n",
       "      <td>Egypt</td>\n",
       "      <td>Operating Cash Outflow</td>\n",
       "      <td>Petty cash</td>\n",
       "      <td>Petty Cash</td>\n",
       "      <td>NaN</td>\n",
       "      <td>-1000</td>\n",
       "      <td>-1000</td>\n",
       "      <td>-1000</td>\n",
       "      <td>-1000</td>\n",
       "      <td>-1000</td>\n",
       "      <td>-1000</td>\n",
       "      <td>-1000</td>\n",
       "      <td>-1000</td>\n",
       "      <td>-1000</td>\n",
       "      <td>-1000</td>\n",
       "    </tr>\n",
       "    <tr>\n",
       "      <th>45</th>\n",
       "      <td>NaN</td>\n",
       "      <td>NaN</td>\n",
       "      <td>NaN</td>\n",
       "      <td>Total Cash outflow For Egypt</td>\n",
       "      <td>-15215.985156</td>\n",
       "      <td>-97337.533611</td>\n",
       "      <td>-97337.533611</td>\n",
       "      <td>-97337.533611</td>\n",
       "      <td>-97337.533611</td>\n",
       "      <td>-98657.533611</td>\n",
       "      <td>-98657.533611</td>\n",
       "      <td>-101957.533611</td>\n",
       "      <td>-98657.533611</td>\n",
       "      <td>-98657.533611</td>\n",
       "      <td>-98657.533611</td>\n",
       "    </tr>\n",
       "    <tr>\n",
       "      <th>46</th>\n",
       "      <td>NaN</td>\n",
       "      <td>NaN</td>\n",
       "      <td>NaN</td>\n",
       "      <td>Total Operating Cash Outflow</td>\n",
       "      <td>-105126.080859</td>\n",
       "      <td>-790962.636983</td>\n",
       "      <td>-444571.826983</td>\n",
       "      <td>-354997.960383</td>\n",
       "      <td>-433640.980383</td>\n",
       "      <td>-406988.584383</td>\n",
       "      <td>-324799.207983</td>\n",
       "      <td>-294431.584383</td>\n",
       "      <td>-511028.584383</td>\n",
       "      <td>-300857.584383</td>\n",
       "      <td>-291065.584383</td>\n",
       "    </tr>\n",
       "  </tbody>\n",
       "</table>\n",
       "</div>"
      ],
      "text/plain": [
       "   Country          Cash Flow Type                 Category  \\\n",
       "10     NaN                     NaN                        2   \n",
       "11     KSA  Operating Cash Outflow               Personnel    \n",
       "12     KSA  Operating Cash Outflow               Personnel    \n",
       "13     KSA  Operating Cash Outflow               Personnel    \n",
       "14     KSA  Operating Cash Outflow               Personnel    \n",
       "15     KSA  Operating Cash Outflow               Personnel    \n",
       "16     KSA  Operating Cash Outflow               Personnel    \n",
       "17     KSA  Operating Cash Outflow               Personnel    \n",
       "18     KSA  Operating Cash Outflow              Recruitment   \n",
       "19     KSA  Operating Cash Outflow                   Vendor   \n",
       "20     KSA  Operating Cash Outflow                   Vendor   \n",
       "21     KSA  Operating Cash Outflow                   Vendor   \n",
       "22     KSA  Operating Cash Outflow                   Vendor   \n",
       "23     KSA  Operating Cash Outflow                   Vendor   \n",
       "24     KSA  Operating Cash Outflow           Subscriptions    \n",
       "25     KSA  Operating Cash Outflow           Subscriptions    \n",
       "26     KSA  Operating Cash Outflow           Subscriptions    \n",
       "27     KSA  Operating Cash Outflow              Travel Exp    \n",
       "28     KSA  Operating Cash Outflow              Travel Exp    \n",
       "29     KSA  Operating Cash Outflow               Marketing    \n",
       "30     KSA  Operating Cash Outflow                    Rent    \n",
       "31     KSA  Operating Cash Outflow          Government Exp    \n",
       "32     KSA  Operating Cash Outflow            Bank Charges    \n",
       "33     KSA  Operating Cash Outflow                   Zakat    \n",
       "34     KSA  Operating Cash Outflow           VAT and Taxes    \n",
       "35     KSA  Operating Cash Outflow              Audit Fees    \n",
       "36     KSA  Operating Cash Outflow             Lawyer Fees    \n",
       "37     KSA  Operating Cash Outflow      Contingency + Misc.   \n",
       "38     NaN                     NaN                      NaN   \n",
       "39   Egypt  Operating Cash Outflow               Personnel    \n",
       "40   Egypt  Operating Cash Outflow          Accounting Exp    \n",
       "41   Egypt  Operating Cash Outflow                    Rent    \n",
       "42   Egypt  Operating Cash Outflow  Taxs & Social insurance   \n",
       "43   Egypt  Operating Cash Outflow               Legal Exp    \n",
       "44   Egypt  Operating Cash Outflow              Petty cash    \n",
       "45     NaN                     NaN                      NaN   \n",
       "46     NaN                     NaN                      NaN   \n",
       "\n",
       "                                       Item 2025-08-01 00:00:00  \\\n",
       "10                   Operating Cash Outflow                 NaN   \n",
       "11                                Salaries                  NaN   \n",
       "12                         End Of Services                  NaN   \n",
       "13                                    GOSI                  NaN   \n",
       "14                            Iqama renewal                 NaN   \n",
       "15                       Medical Insurance                  NaN   \n",
       "16       Ahmed Gharawy - Benefits -Tickets                  NaN   \n",
       "17                KSA Accountant - general:                 NaN   \n",
       "18                            Linkedin Exp                  NaN   \n",
       "19               La Aseer Project - Vendor             -18692.2   \n",
       "20               La Aseer Project - Vendor              -8675.6   \n",
       "21     MWAN Project -Ata allah Photographer              -15000   \n",
       "22                 MWAN Project -Dar Nassah              -19481   \n",
       "23                              NWC Vendor               -26000   \n",
       "24                            Microsoft 365                 NaN   \n",
       "25                                   PalmHR                 NaN   \n",
       "26                Mix (ChatGPT, Antivirus…)                 NaN   \n",
       "27                              Travel Exp                  NaN   \n",
       "28                       NWC Traveling Exp                  NaN   \n",
       "29                                Marketing                 NaN   \n",
       "30                             Office Rent                  NaN   \n",
       "31                                Gov Fees                  NaN   \n",
       "32                      Bank Charges & Fees                 NaN   \n",
       "33                               Zakat 2024                 NaN   \n",
       "34                    VAT & withholding tax                 NaN   \n",
       "35  KSA Accountant - auditor: Hammam Salama                 NaN   \n",
       "36                        KSA Lawyer: Sahel                 NaN   \n",
       "37                      Contingency + Misc.        -2061.295703   \n",
       "38               Total Cash outflow For KSA       -89910.095703   \n",
       "39                                Salaries                  NaN   \n",
       "40                    EGY Accountant: Delta               -1500   \n",
       "41                             Office Rent                  NaN   \n",
       "42                  Taxs & Social insurance       -11840.985156   \n",
       "43                          EGY Lawyer: S&P               -1875   \n",
       "44                              Petty Cash                  NaN   \n",
       "45            Total Cash outflow For Egypt        -15215.985156   \n",
       "46             Total Operating Cash Outflow      -105126.080859   \n",
       "\n",
       "   2025-09-01 00:00:00 2025-10-01 00:00:00 2025-11-01 00:00:00  \\\n",
       "10                 NaN                 NaN                 NaN   \n",
       "11             -191500             -136000             -136000   \n",
       "12           -47248.33           -63766.83                   0   \n",
       "13           -10036.63           -10036.63           -10036.63   \n",
       "14                 NaN                 NaN               -9150   \n",
       "15                 NaN                 NaN                 NaN   \n",
       "16                 NaN                 NaN                 NaN   \n",
       "17               -6000               -6000               -6000   \n",
       "18              -10000               -5000               -5000   \n",
       "19            -18692.2            -18692.2            -18692.2   \n",
       "20             -8675.6             -8675.6             -8675.6   \n",
       "21              -15000              -15000                 NaN   \n",
       "22              -19481              -19481              -19481   \n",
       "23                 NaN                 NaN                 NaN   \n",
       "24               -1000               -1000               -1000   \n",
       "25           -2975.625           -2975.625           -2975.625   \n",
       "26                -700                -700                -700   \n",
       "27               -3000               -3000               -3000   \n",
       "28              -13000              -13000              -13000   \n",
       "29               -4000               -4000               -4000   \n",
       "30                 NaN               -6250                 NaN   \n",
       "31               -4000               -4000               -4000   \n",
       "32                -500                -500                -500   \n",
       "33                 NaN                 NaN                 NaN   \n",
       "34             -300000                -600                -600   \n",
       "35                 NaN                 NaN                 NaN   \n",
       "36             -7820.0             -7820.0             -7820.0   \n",
       "37       -29995.718372       -20736.408372        -7029.371772   \n",
       "38      -693625.103372      -347234.293372      -257660.426772   \n",
       "39       -75734.408611       -75734.408611       -75734.408611   \n",
       "40               -1500               -1500               -1500   \n",
       "41           -3828.125           -3828.125           -3828.125   \n",
       "42              -13400              -13400              -13400   \n",
       "43               -1875               -1875               -1875   \n",
       "44               -1000               -1000               -1000   \n",
       "45       -97337.533611       -97337.533611       -97337.533611   \n",
       "46      -790962.636983      -444571.826983      -354997.960383   \n",
       "\n",
       "   2025-12-01 00:00:00 2026-01-01 00:00:00 2026-02-01 00:00:00  \\\n",
       "10                 NaN                 NaN                 NaN   \n",
       "11             -136000             -136000             -136000   \n",
       "12                   0                   0                   0   \n",
       "13           -10036.63           -10036.63           -10036.63   \n",
       "14               -9150                 NaN                 NaN   \n",
       "15              -67101                 NaN                 NaN   \n",
       "16                 NaN                 NaN                 NaN   \n",
       "17               -6000               -6000               -6000   \n",
       "18               -5000               -5000               -5000   \n",
       "19            -18692.2                 NaN                 NaN   \n",
       "20             -8675.6                 NaN                 NaN   \n",
       "21                 NaN                 NaN                 NaN   \n",
       "22              -19481                 NaN                 NaN   \n",
       "23                 NaN                 NaN                 NaN   \n",
       "24               -1000               -1000               -1000   \n",
       "25           -2975.625           -2975.625           -2975.625   \n",
       "26                -700                -700                -700   \n",
       "27               -3000               -3000               -3000   \n",
       "28              -13000              -13000              -13000   \n",
       "29               -4000               -4000               -4000   \n",
       "30                 NaN               -6250                 NaN   \n",
       "31               -4000               -4000               -4000   \n",
       "32                -500                -500                -500   \n",
       "33                 NaN                 NaN                 NaN   \n",
       "34                -600             -100000                -600   \n",
       "35              -10000                 NaN                 NaN   \n",
       "36             -7820.0             -7820.0             -7820.0   \n",
       "37        -8571.391772        -8048.795772       -31509.419372   \n",
       "38      -336303.446772      -308331.050772      -226141.674372   \n",
       "39       -75734.408611       -77054.408611       -77054.408611   \n",
       "40               -1500               -1500               -1500   \n",
       "41           -3828.125           -3828.125           -3828.125   \n",
       "42              -13400              -13400              -13400   \n",
       "43               -1875               -1875               -1875   \n",
       "44               -1000               -1000               -1000   \n",
       "45       -97337.533611       -98657.533611       -98657.533611   \n",
       "46      -433640.980383      -406988.584383      -324799.207983   \n",
       "\n",
       "   2026-03-01 00:00:00 2026-04-01 00:00:00 2026-05-01 00:00:00  \\\n",
       "10                 NaN                 NaN                 NaN   \n",
       "11             -128000             -128000             -128000   \n",
       "12                   0                   0                   0   \n",
       "13           -10036.63           -10036.63           -10036.63   \n",
       "14                 NaN                 NaN                 NaN   \n",
       "15                 NaN                 NaN                 NaN   \n",
       "16                 NaN                 NaN               -9600   \n",
       "17               -6000               -6000               -6000   \n",
       "18               -5000               -5000               -5000   \n",
       "19                 NaN                 NaN                 NaN   \n",
       "20                 NaN                 NaN                 NaN   \n",
       "21                 NaN                 NaN                 NaN   \n",
       "22                 NaN                 NaN                 NaN   \n",
       "23                 NaN                 NaN                 NaN   \n",
       "24               -1000               -1000               -1000   \n",
       "25           -2975.625           -2975.625           -2975.625   \n",
       "26                -700                -700                -700   \n",
       "27               -3000               -3000               -3000   \n",
       "28              -13000              -13000              -13000   \n",
       "29               -4000               -4000               -4000   \n",
       "30                 NaN               -6250                 NaN   \n",
       "31               -4000               -4000               -4000   \n",
       "32                -500                -500                -500   \n",
       "33                 NaN             -100000                 NaN   \n",
       "34                -600             -100000                -600   \n",
       "35                 NaN              -10000                 NaN   \n",
       "36             -7820.0             -7820.0             -7820.0   \n",
       "37        -5841.795772       -10088.795772        -5967.795772   \n",
       "38      -192474.050772      -412371.050772      -202200.050772   \n",
       "39       -77054.408611       -77054.408611       -77054.408611   \n",
       "40               -4800               -1500               -1500   \n",
       "41           -3828.125           -3828.125           -3828.125   \n",
       "42              -13400              -13400              -13400   \n",
       "43               -1875               -1875               -1875   \n",
       "44               -1000               -1000               -1000   \n",
       "45      -101957.533611       -98657.533611       -98657.533611   \n",
       "46      -294431.584383      -511028.584383      -300857.584383   \n",
       "\n",
       "   2026-06-01 00:00:00  \n",
       "10                 NaN  \n",
       "11             -128000  \n",
       "12                   0  \n",
       "13           -10036.63  \n",
       "14                 NaN  \n",
       "15                 NaN  \n",
       "16                 NaN  \n",
       "17               -6000  \n",
       "18               -5000  \n",
       "19                 NaN  \n",
       "20                 NaN  \n",
       "21                 NaN  \n",
       "22                 NaN  \n",
       "23                 NaN  \n",
       "24               -1000  \n",
       "25           -2975.625  \n",
       "26                -700  \n",
       "27               -3000  \n",
       "28              -13000  \n",
       "29               -4000  \n",
       "30                 NaN  \n",
       "31               -4000  \n",
       "32                -500  \n",
       "33                 NaN  \n",
       "34                -600  \n",
       "35                 NaN  \n",
       "36             -7820.0  \n",
       "37        -5775.795772  \n",
       "38      -192408.050772  \n",
       "39       -77054.408611  \n",
       "40               -1500  \n",
       "41           -3828.125  \n",
       "42              -13400  \n",
       "43               -1875  \n",
       "44               -1000  \n",
       "45       -98657.533611  \n",
       "46      -291065.584383  "
      ]
     },
     "execution_count": 40,
     "metadata": {},
     "output_type": "execute_result"
    }
   ],
   "source": [
    "Cash_Flow_Forecast = CashFlow[CashFlow[CashFlow['Item'].str.strip() == \"Operating Cash Outflow\"].index[0]-3:CashFlow[CashFlow['Item'].str.strip() == \"Total Operating Cash Outflow\"].index[0]-2]\n",
    "Cash_Flow_Forecast"
   ]
  },
  {
   "cell_type": "code",
   "execution_count": 41,
   "id": "a1f8e1b3",
   "metadata": {},
   "outputs": [
    {
     "name": "stderr",
     "output_type": "stream",
     "text": [
      "C:\\Users\\Lenovo\\AppData\\Local\\Temp\\ipykernel_15500\\3221963877.py:5: FutureWarning:\n",
      "\n",
      "A value is trying to be set on a copy of a DataFrame or Series through chained assignment using an inplace method.\n",
      "The behavior will change in pandas 3.0. This inplace method will never work because the intermediate object on which we are setting values always behaves as a copy.\n",
      "\n",
      "For example, when doing 'df[col].method(value, inplace=True)', try using 'df.method({col: value}, inplace=True)' or df[col] = df[col].method(value) instead, to perform the operation inplace on the original object.\n",
      "\n",
      "\n",
      "\n",
      "C:\\Users\\Lenovo\\AppData\\Local\\Temp\\ipykernel_15500\\3221963877.py:6: FutureWarning:\n",
      "\n",
      "A value is trying to be set on a copy of a DataFrame or Series through chained assignment using an inplace method.\n",
      "The behavior will change in pandas 3.0. This inplace method will never work because the intermediate object on which we are setting values always behaves as a copy.\n",
      "\n",
      "For example, when doing 'df[col].method(value, inplace=True)', try using 'df.method({col: value}, inplace=True)' or df[col] = df[col].method(value) instead, to perform the operation inplace on the original object.\n",
      "\n",
      "\n",
      "\n",
      "C:\\Users\\Lenovo\\AppData\\Local\\Temp\\ipykernel_15500\\3221963877.py:7: FutureWarning:\n",
      "\n",
      "Downcasting object dtype arrays on .fillna, .ffill, .bfill is deprecated and will change in a future version. Call result.infer_objects(copy=False) instead. To opt-in to the future behavior, set `pd.set_option('future.no_silent_downcasting', True)`\n",
      "\n",
      "C:\\Users\\Lenovo\\AppData\\Local\\Temp\\ipykernel_15500\\3221963877.py:8: FutureWarning:\n",
      "\n",
      "Downcasting object dtype arrays on .fillna, .ffill, .bfill is deprecated and will change in a future version. Call result.infer_objects(copy=False) instead. To opt-in to the future behavior, set `pd.set_option('future.no_silent_downcasting', True)`\n",
      "\n",
      "C:\\Users\\Lenovo\\AppData\\Local\\Temp\\ipykernel_15500\\3221963877.py:9: FutureWarning:\n",
      "\n",
      "Downcasting object dtype arrays on .fillna, .ffill, .bfill is deprecated and will change in a future version. Call result.infer_objects(copy=False) instead. To opt-in to the future behavior, set `pd.set_option('future.no_silent_downcasting', True)`\n",
      "\n"
     ]
    }
   ],
   "source": [
    "Cash_Flow_Forecast_Eg = pd.concat([Cash_Flow_Forecast[Cash_Flow_Forecast['Country'].str.strip() == \"Egypt\"].groupby('Category').sum().reset_index(False), Cash_Flow_Forecast[Cash_Flow_Forecast['Item'].str.strip() == \"Total Cash outflow For Egypt\"]]).drop(columns=['Country','Item','Cash Flow Type'])\n",
    "Cash_Flow_Forecast_KSA = pd.concat([Cash_Flow_Forecast[Cash_Flow_Forecast['Country'].str.strip() == \"KSA\"].groupby('Category').sum().reset_index(False), Cash_Flow_Forecast[Cash_Flow_Forecast['Item'].str.strip() == \"Total Cash outflow For KSA\"]]).drop(columns=['Country','Item','Cash Flow Type'])\n",
    "Cash_Flow_Forecast_Both = Cash_Flow_Forecast.groupby('Category').sum().drop(columns=['Country','Item','Cash Flow Type']).iloc[1:].reset_index()\n",
    "Cash_Flow_Forecast_Both.loc[len(Cash_Flow_Forecast_Both)] = ['Total Operating Cash Outflow'] + Cash_Flow_Forecast[Cash_Flow_Forecast['Item'].str.strip() == \"Total Operating Cash Outflow\"].iloc[:, 4:].apply(pd.to_numeric, errors='coerce').sum().tolist()\n",
    "Cash_Flow_Forecast_Eg[\"Category\"].fillna(\"Total Operating Cash Outflow\", inplace=True)\n",
    "Cash_Flow_Forecast_KSA[\"Category\"].fillna(\"Total Operating Cash Outflow\", inplace=True)\n",
    "Cash_Flow_Forecast_Both.iloc[:,1:] = Cash_Flow_Forecast_Both.iloc[:,1:].abs().fillna(0)\n",
    "Cash_Flow_Forecast_Eg.iloc[:,1:] = Cash_Flow_Forecast_Eg.iloc[:,1:].abs().fillna(0)\n",
    "Cash_Flow_Forecast_KSA.iloc[:,1:] = Cash_Flow_Forecast_KSA.iloc[:,1:].abs().fillna(0)\n"
   ]
  },
  {
   "cell_type": "code",
   "execution_count": 42,
   "id": "3db70845",
   "metadata": {},
   "outputs": [
    {
     "data": {
      "text/html": [
       "<div>\n",
       "<style scoped>\n",
       "    .dataframe tbody tr th:only-of-type {\n",
       "        vertical-align: middle;\n",
       "    }\n",
       "\n",
       "    .dataframe tbody tr th {\n",
       "        vertical-align: top;\n",
       "    }\n",
       "\n",
       "    .dataframe thead th {\n",
       "        text-align: right;\n",
       "    }\n",
       "</style>\n",
       "<table border=\"1\" class=\"dataframe\">\n",
       "  <thead>\n",
       "    <tr style=\"text-align: right;\">\n",
       "      <th></th>\n",
       "      <th>Category</th>\n",
       "      <th>2025-08-01 00:00:00</th>\n",
       "      <th>2025-09-01 00:00:00</th>\n",
       "      <th>2025-10-01 00:00:00</th>\n",
       "      <th>2025-11-01 00:00:00</th>\n",
       "      <th>2025-12-01 00:00:00</th>\n",
       "      <th>2026-01-01 00:00:00</th>\n",
       "      <th>2026-02-01 00:00:00</th>\n",
       "      <th>2026-03-01 00:00:00</th>\n",
       "      <th>2026-04-01 00:00:00</th>\n",
       "      <th>2026-05-01 00:00:00</th>\n",
       "      <th>2026-06-01 00:00:00</th>\n",
       "    </tr>\n",
       "  </thead>\n",
       "  <tbody>\n",
       "    <tr>\n",
       "      <th>0</th>\n",
       "      <td>Accounting Exp</td>\n",
       "      <td>1500.0</td>\n",
       "      <td>1500.0</td>\n",
       "      <td>1500.0</td>\n",
       "      <td>1500.0</td>\n",
       "      <td>1500.0</td>\n",
       "      <td>1500.0</td>\n",
       "      <td>1500.0</td>\n",
       "      <td>4800.0</td>\n",
       "      <td>1500.0</td>\n",
       "      <td>1500.0</td>\n",
       "      <td>1500.0</td>\n",
       "    </tr>\n",
       "    <tr>\n",
       "      <th>1</th>\n",
       "      <td>Audit Fees</td>\n",
       "      <td>0.0</td>\n",
       "      <td>0.0</td>\n",
       "      <td>0.0</td>\n",
       "      <td>0.0</td>\n",
       "      <td>10000.0</td>\n",
       "      <td>0.0</td>\n",
       "      <td>0.0</td>\n",
       "      <td>0.0</td>\n",
       "      <td>10000.0</td>\n",
       "      <td>0.0</td>\n",
       "      <td>0.0</td>\n",
       "    </tr>\n",
       "    <tr>\n",
       "      <th>2</th>\n",
       "      <td>Bank Charges</td>\n",
       "      <td>0.0</td>\n",
       "      <td>500.0</td>\n",
       "      <td>500.0</td>\n",
       "      <td>500.0</td>\n",
       "      <td>500.0</td>\n",
       "      <td>500.0</td>\n",
       "      <td>500.0</td>\n",
       "      <td>500.0</td>\n",
       "      <td>500.0</td>\n",
       "      <td>500.0</td>\n",
       "      <td>500.0</td>\n",
       "    </tr>\n",
       "    <tr>\n",
       "      <th>3</th>\n",
       "      <td>Contingency + Misc.</td>\n",
       "      <td>2061.295703</td>\n",
       "      <td>29995.718372</td>\n",
       "      <td>20736.408372</td>\n",
       "      <td>7029.371772</td>\n",
       "      <td>8571.391772</td>\n",
       "      <td>8048.795772</td>\n",
       "      <td>31509.419372</td>\n",
       "      <td>5841.795772</td>\n",
       "      <td>10088.795772</td>\n",
       "      <td>5967.795772</td>\n",
       "      <td>5775.795772</td>\n",
       "    </tr>\n",
       "    <tr>\n",
       "      <th>4</th>\n",
       "      <td>Government Exp</td>\n",
       "      <td>0.0</td>\n",
       "      <td>4000.0</td>\n",
       "      <td>4000.0</td>\n",
       "      <td>4000.0</td>\n",
       "      <td>4000.0</td>\n",
       "      <td>4000.0</td>\n",
       "      <td>4000.0</td>\n",
       "      <td>4000.0</td>\n",
       "      <td>4000.0</td>\n",
       "      <td>4000.0</td>\n",
       "      <td>4000.0</td>\n",
       "    </tr>\n",
       "    <tr>\n",
       "      <th>5</th>\n",
       "      <td>Lawyer Fees</td>\n",
       "      <td>0.0</td>\n",
       "      <td>7820.0</td>\n",
       "      <td>7820.0</td>\n",
       "      <td>7820.0</td>\n",
       "      <td>7820.0</td>\n",
       "      <td>7820.0</td>\n",
       "      <td>7820.0</td>\n",
       "      <td>7820.0</td>\n",
       "      <td>7820.0</td>\n",
       "      <td>7820.0</td>\n",
       "      <td>7820.0</td>\n",
       "    </tr>\n",
       "    <tr>\n",
       "      <th>6</th>\n",
       "      <td>Legal Exp</td>\n",
       "      <td>1875.0</td>\n",
       "      <td>1875.0</td>\n",
       "      <td>1875.0</td>\n",
       "      <td>1875.0</td>\n",
       "      <td>1875.0</td>\n",
       "      <td>1875.0</td>\n",
       "      <td>1875.0</td>\n",
       "      <td>1875.0</td>\n",
       "      <td>1875.0</td>\n",
       "      <td>1875.0</td>\n",
       "      <td>1875.0</td>\n",
       "    </tr>\n",
       "    <tr>\n",
       "      <th>7</th>\n",
       "      <td>Marketing</td>\n",
       "      <td>0.0</td>\n",
       "      <td>4000.0</td>\n",
       "      <td>4000.0</td>\n",
       "      <td>4000.0</td>\n",
       "      <td>4000.0</td>\n",
       "      <td>4000.0</td>\n",
       "      <td>4000.0</td>\n",
       "      <td>4000.0</td>\n",
       "      <td>4000.0</td>\n",
       "      <td>4000.0</td>\n",
       "      <td>4000.0</td>\n",
       "    </tr>\n",
       "    <tr>\n",
       "      <th>8</th>\n",
       "      <td>Personnel</td>\n",
       "      <td>0.0</td>\n",
       "      <td>330519.368611</td>\n",
       "      <td>291537.868611</td>\n",
       "      <td>236921.038611</td>\n",
       "      <td>304022.038611</td>\n",
       "      <td>229091.038611</td>\n",
       "      <td>229091.038611</td>\n",
       "      <td>221091.038611</td>\n",
       "      <td>221091.038611</td>\n",
       "      <td>230691.038611</td>\n",
       "      <td>221091.038611</td>\n",
       "    </tr>\n",
       "    <tr>\n",
       "      <th>9</th>\n",
       "      <td>Petty cash</td>\n",
       "      <td>0.0</td>\n",
       "      <td>1000.0</td>\n",
       "      <td>1000.0</td>\n",
       "      <td>1000.0</td>\n",
       "      <td>1000.0</td>\n",
       "      <td>1000.0</td>\n",
       "      <td>1000.0</td>\n",
       "      <td>1000.0</td>\n",
       "      <td>1000.0</td>\n",
       "      <td>1000.0</td>\n",
       "      <td>1000.0</td>\n",
       "    </tr>\n",
       "    <tr>\n",
       "      <th>10</th>\n",
       "      <td>Recruitment</td>\n",
       "      <td>0.0</td>\n",
       "      <td>10000.0</td>\n",
       "      <td>5000.0</td>\n",
       "      <td>5000.0</td>\n",
       "      <td>5000.0</td>\n",
       "      <td>5000.0</td>\n",
       "      <td>5000.0</td>\n",
       "      <td>5000.0</td>\n",
       "      <td>5000.0</td>\n",
       "      <td>5000.0</td>\n",
       "      <td>5000.0</td>\n",
       "    </tr>\n",
       "    <tr>\n",
       "      <th>11</th>\n",
       "      <td>Rent</td>\n",
       "      <td>0.0</td>\n",
       "      <td>3828.125</td>\n",
       "      <td>10078.125</td>\n",
       "      <td>3828.125</td>\n",
       "      <td>3828.125</td>\n",
       "      <td>10078.125</td>\n",
       "      <td>3828.125</td>\n",
       "      <td>3828.125</td>\n",
       "      <td>10078.125</td>\n",
       "      <td>3828.125</td>\n",
       "      <td>3828.125</td>\n",
       "    </tr>\n",
       "    <tr>\n",
       "      <th>12</th>\n",
       "      <td>Subscriptions</td>\n",
       "      <td>0.0</td>\n",
       "      <td>4675.625</td>\n",
       "      <td>4675.625</td>\n",
       "      <td>4675.625</td>\n",
       "      <td>4675.625</td>\n",
       "      <td>4675.625</td>\n",
       "      <td>4675.625</td>\n",
       "      <td>4675.625</td>\n",
       "      <td>4675.625</td>\n",
       "      <td>4675.625</td>\n",
       "      <td>4675.625</td>\n",
       "    </tr>\n",
       "    <tr>\n",
       "      <th>13</th>\n",
       "      <td>Taxs &amp; Social insurance</td>\n",
       "      <td>11840.985156</td>\n",
       "      <td>13400.0</td>\n",
       "      <td>13400.0</td>\n",
       "      <td>13400.0</td>\n",
       "      <td>13400.0</td>\n",
       "      <td>13400.0</td>\n",
       "      <td>13400.0</td>\n",
       "      <td>13400.0</td>\n",
       "      <td>13400.0</td>\n",
       "      <td>13400.0</td>\n",
       "      <td>13400.0</td>\n",
       "    </tr>\n",
       "    <tr>\n",
       "      <th>14</th>\n",
       "      <td>Travel Exp</td>\n",
       "      <td>0.0</td>\n",
       "      <td>16000.0</td>\n",
       "      <td>16000.0</td>\n",
       "      <td>16000.0</td>\n",
       "      <td>16000.0</td>\n",
       "      <td>16000.0</td>\n",
       "      <td>16000.0</td>\n",
       "      <td>16000.0</td>\n",
       "      <td>16000.0</td>\n",
       "      <td>16000.0</td>\n",
       "      <td>16000.0</td>\n",
       "    </tr>\n",
       "    <tr>\n",
       "      <th>15</th>\n",
       "      <td>VAT and Taxes</td>\n",
       "      <td>0.0</td>\n",
       "      <td>300000.0</td>\n",
       "      <td>600.0</td>\n",
       "      <td>600.0</td>\n",
       "      <td>600.0</td>\n",
       "      <td>100000.0</td>\n",
       "      <td>600.0</td>\n",
       "      <td>600.0</td>\n",
       "      <td>100000.0</td>\n",
       "      <td>600.0</td>\n",
       "      <td>600.0</td>\n",
       "    </tr>\n",
       "    <tr>\n",
       "      <th>16</th>\n",
       "      <td>Vendor</td>\n",
       "      <td>87848.8</td>\n",
       "      <td>61848.8</td>\n",
       "      <td>61848.8</td>\n",
       "      <td>46848.8</td>\n",
       "      <td>46848.8</td>\n",
       "      <td>0.0</td>\n",
       "      <td>0.0</td>\n",
       "      <td>0.0</td>\n",
       "      <td>0.0</td>\n",
       "      <td>0.0</td>\n",
       "      <td>0.0</td>\n",
       "    </tr>\n",
       "    <tr>\n",
       "      <th>17</th>\n",
       "      <td>Zakat</td>\n",
       "      <td>0.0</td>\n",
       "      <td>0.0</td>\n",
       "      <td>0.0</td>\n",
       "      <td>0.0</td>\n",
       "      <td>0.0</td>\n",
       "      <td>0.0</td>\n",
       "      <td>0.0</td>\n",
       "      <td>0.0</td>\n",
       "      <td>100000.0</td>\n",
       "      <td>0.0</td>\n",
       "      <td>0.0</td>\n",
       "    </tr>\n",
       "    <tr>\n",
       "      <th>18</th>\n",
       "      <td>Total Operating Cash Outflow</td>\n",
       "      <td>105126.080859</td>\n",
       "      <td>790962.636983</td>\n",
       "      <td>444571.826983</td>\n",
       "      <td>354997.960383</td>\n",
       "      <td>433640.980383</td>\n",
       "      <td>406988.584383</td>\n",
       "      <td>324799.207983</td>\n",
       "      <td>294431.584383</td>\n",
       "      <td>511028.584383</td>\n",
       "      <td>300857.584383</td>\n",
       "      <td>291065.584383</td>\n",
       "    </tr>\n",
       "  </tbody>\n",
       "</table>\n",
       "</div>"
      ],
      "text/plain": [
       "                        Category 2025-08-01 00:00:00 2025-09-01 00:00:00  \\\n",
       "0                Accounting Exp               1500.0              1500.0   \n",
       "1                    Audit Fees                  0.0                 0.0   \n",
       "2                  Bank Charges                  0.0               500.0   \n",
       "3            Contingency + Misc.         2061.295703        29995.718372   \n",
       "4                Government Exp                  0.0              4000.0   \n",
       "5                   Lawyer Fees                  0.0              7820.0   \n",
       "6                     Legal Exp               1875.0              1875.0   \n",
       "7                     Marketing                  0.0              4000.0   \n",
       "8                     Personnel                  0.0       330519.368611   \n",
       "9                    Petty cash                  0.0              1000.0   \n",
       "10                   Recruitment                 0.0             10000.0   \n",
       "11                         Rent                  0.0            3828.125   \n",
       "12                Subscriptions                  0.0            4675.625   \n",
       "13       Taxs & Social insurance        11840.985156             13400.0   \n",
       "14                   Travel Exp                  0.0             16000.0   \n",
       "15                VAT and Taxes                  0.0            300000.0   \n",
       "16                        Vendor             87848.8             61848.8   \n",
       "17                        Zakat                  0.0                 0.0   \n",
       "18  Total Operating Cash Outflow       105126.080859       790962.636983   \n",
       "\n",
       "   2025-10-01 00:00:00 2025-11-01 00:00:00 2025-12-01 00:00:00  \\\n",
       "0               1500.0              1500.0              1500.0   \n",
       "1                  0.0                 0.0             10000.0   \n",
       "2                500.0               500.0               500.0   \n",
       "3         20736.408372         7029.371772         8571.391772   \n",
       "4               4000.0              4000.0              4000.0   \n",
       "5               7820.0              7820.0              7820.0   \n",
       "6               1875.0              1875.0              1875.0   \n",
       "7               4000.0              4000.0              4000.0   \n",
       "8        291537.868611       236921.038611       304022.038611   \n",
       "9               1000.0              1000.0              1000.0   \n",
       "10              5000.0              5000.0              5000.0   \n",
       "11           10078.125            3828.125            3828.125   \n",
       "12            4675.625            4675.625            4675.625   \n",
       "13             13400.0             13400.0             13400.0   \n",
       "14             16000.0             16000.0             16000.0   \n",
       "15               600.0               600.0               600.0   \n",
       "16             61848.8             46848.8             46848.8   \n",
       "17                 0.0                 0.0                 0.0   \n",
       "18       444571.826983       354997.960383       433640.980383   \n",
       "\n",
       "   2026-01-01 00:00:00 2026-02-01 00:00:00 2026-03-01 00:00:00  \\\n",
       "0               1500.0              1500.0              4800.0   \n",
       "1                  0.0                 0.0                 0.0   \n",
       "2                500.0               500.0               500.0   \n",
       "3          8048.795772        31509.419372         5841.795772   \n",
       "4               4000.0              4000.0              4000.0   \n",
       "5               7820.0              7820.0              7820.0   \n",
       "6               1875.0              1875.0              1875.0   \n",
       "7               4000.0              4000.0              4000.0   \n",
       "8        229091.038611       229091.038611       221091.038611   \n",
       "9               1000.0              1000.0              1000.0   \n",
       "10              5000.0              5000.0              5000.0   \n",
       "11           10078.125            3828.125            3828.125   \n",
       "12            4675.625            4675.625            4675.625   \n",
       "13             13400.0             13400.0             13400.0   \n",
       "14             16000.0             16000.0             16000.0   \n",
       "15            100000.0               600.0               600.0   \n",
       "16                 0.0                 0.0                 0.0   \n",
       "17                 0.0                 0.0                 0.0   \n",
       "18       406988.584383       324799.207983       294431.584383   \n",
       "\n",
       "   2026-04-01 00:00:00 2026-05-01 00:00:00 2026-06-01 00:00:00  \n",
       "0               1500.0              1500.0              1500.0  \n",
       "1              10000.0                 0.0                 0.0  \n",
       "2                500.0               500.0               500.0  \n",
       "3         10088.795772         5967.795772         5775.795772  \n",
       "4               4000.0              4000.0              4000.0  \n",
       "5               7820.0              7820.0              7820.0  \n",
       "6               1875.0              1875.0              1875.0  \n",
       "7               4000.0              4000.0              4000.0  \n",
       "8        221091.038611       230691.038611       221091.038611  \n",
       "9               1000.0              1000.0              1000.0  \n",
       "10              5000.0              5000.0              5000.0  \n",
       "11           10078.125            3828.125            3828.125  \n",
       "12            4675.625            4675.625            4675.625  \n",
       "13             13400.0             13400.0             13400.0  \n",
       "14             16000.0             16000.0             16000.0  \n",
       "15            100000.0               600.0               600.0  \n",
       "16                 0.0                 0.0                 0.0  \n",
       "17            100000.0                 0.0                 0.0  \n",
       "18       511028.584383       300857.584383       291065.584383  "
      ]
     },
     "execution_count": 42,
     "metadata": {},
     "output_type": "execute_result"
    }
   ],
   "source": [
    "Cash_Flow_Forecast_Both"
   ]
  },
  {
   "cell_type": "code",
   "execution_count": 43,
   "id": "0f5d8989",
   "metadata": {},
   "outputs": [
    {
     "data": {
      "text/plain": [
       "Index([         'Category', 2025-08-01 00:00:00, 2025-09-01 00:00:00,\n",
       "       2025-10-01 00:00:00, 2025-11-01 00:00:00, 2025-12-01 00:00:00,\n",
       "       2026-01-01 00:00:00, 2026-02-01 00:00:00, 2026-03-01 00:00:00,\n",
       "       2026-04-01 00:00:00, 2026-05-01 00:00:00, 2026-06-01 00:00:00],\n",
       "      dtype='object')"
      ]
     },
     "execution_count": 43,
     "metadata": {},
     "output_type": "execute_result"
    }
   ],
   "source": [
    "Cash_Flow_Forecast_Both.columns"
   ]
  },
  {
   "cell_type": "markdown",
   "id": "40fefddb",
   "metadata": {},
   "source": [
    "# Cash flow diagram\n",
    "```ksa,eg,both```"
   ]
  },
  {
   "cell_type": "code",
   "execution_count": 44,
   "id": "94092161",
   "metadata": {},
   "outputs": [
    {
     "data": {
      "application/vnd.plotly.v1+json": {
       "config": {
        "plotlyServerURL": "https://plot.ly"
       },
       "data": [
        {
         "name": "Accounting Exp ",
         "type": "bar",
         "visible": true,
         "x": [
          "2025-08-01T00:00:00",
          "2025-09-01T00:00:00",
          "2025-10-01T00:00:00",
          "2025-11-01T00:00:00",
          "2025-12-01T00:00:00",
          "2026-01-01T00:00:00",
          "2026-02-01T00:00:00",
          "2026-03-01T00:00:00",
          "2026-04-01T00:00:00",
          "2026-05-01T00:00:00",
          "2026-06-01T00:00:00"
         ],
         "y": [
          1.5,
          1.5,
          1.5,
          1.5,
          1.5,
          1.5,
          1.5,
          4.8,
          1.5,
          1.5,
          1.5
         ]
        },
        {
         "name": "Audit Fees ",
         "type": "bar",
         "visible": true,
         "x": [
          "2025-08-01T00:00:00",
          "2025-09-01T00:00:00",
          "2025-10-01T00:00:00",
          "2025-11-01T00:00:00",
          "2025-12-01T00:00:00",
          "2026-01-01T00:00:00",
          "2026-02-01T00:00:00",
          "2026-03-01T00:00:00",
          "2026-04-01T00:00:00",
          "2026-05-01T00:00:00",
          "2026-06-01T00:00:00"
         ],
         "y": [
          0,
          0,
          0,
          0,
          10,
          0,
          0,
          0,
          10,
          0,
          0
         ]
        },
        {
         "name": "Bank Charges ",
         "type": "bar",
         "visible": true,
         "x": [
          "2025-08-01T00:00:00",
          "2025-09-01T00:00:00",
          "2025-10-01T00:00:00",
          "2025-11-01T00:00:00",
          "2025-12-01T00:00:00",
          "2026-01-01T00:00:00",
          "2026-02-01T00:00:00",
          "2026-03-01T00:00:00",
          "2026-04-01T00:00:00",
          "2026-05-01T00:00:00",
          "2026-06-01T00:00:00"
         ],
         "y": [
          0,
          0.5,
          0.5,
          0.5,
          0.5,
          0.5,
          0.5,
          0.5,
          0.5,
          0.5,
          0.5
         ]
        },
        {
         "name": "Contingency + Misc.",
         "type": "bar",
         "visible": true,
         "x": [
          "2025-08-01T00:00:00",
          "2025-09-01T00:00:00",
          "2025-10-01T00:00:00",
          "2025-11-01T00:00:00",
          "2025-12-01T00:00:00",
          "2026-01-01T00:00:00",
          "2026-02-01T00:00:00",
          "2026-03-01T00:00:00",
          "2026-04-01T00:00:00",
          "2026-05-01T00:00:00",
          "2026-06-01T00:00:00"
         ],
         "y": [
          2.061295703125,
          29.99571837222222,
          20.736408372222225,
          7.0293717722222215,
          8.57139177222222,
          8.048795772222222,
          31.50941937222222,
          5.8417957722222225,
          10.088795772222221,
          5.967795772222223,
          5.775795772222223
         ]
        },
        {
         "name": "Government Exp ",
         "type": "bar",
         "visible": true,
         "x": [
          "2025-08-01T00:00:00",
          "2025-09-01T00:00:00",
          "2025-10-01T00:00:00",
          "2025-11-01T00:00:00",
          "2025-12-01T00:00:00",
          "2026-01-01T00:00:00",
          "2026-02-01T00:00:00",
          "2026-03-01T00:00:00",
          "2026-04-01T00:00:00",
          "2026-05-01T00:00:00",
          "2026-06-01T00:00:00"
         ],
         "y": [
          0,
          4,
          4,
          4,
          4,
          4,
          4,
          4,
          4,
          4,
          4
         ]
        },
        {
         "name": "Lawyer Fees ",
         "type": "bar",
         "visible": true,
         "x": [
          "2025-08-01T00:00:00",
          "2025-09-01T00:00:00",
          "2025-10-01T00:00:00",
          "2025-11-01T00:00:00",
          "2025-12-01T00:00:00",
          "2026-01-01T00:00:00",
          "2026-02-01T00:00:00",
          "2026-03-01T00:00:00",
          "2026-04-01T00:00:00",
          "2026-05-01T00:00:00",
          "2026-06-01T00:00:00"
         ],
         "y": [
          0,
          7.819999999999999,
          7.819999999999999,
          7.819999999999999,
          7.819999999999999,
          7.819999999999999,
          7.819999999999999,
          7.819999999999999,
          7.819999999999999,
          7.819999999999999,
          7.819999999999999
         ]
        },
        {
         "name": "Legal Exp ",
         "type": "bar",
         "visible": true,
         "x": [
          "2025-08-01T00:00:00",
          "2025-09-01T00:00:00",
          "2025-10-01T00:00:00",
          "2025-11-01T00:00:00",
          "2025-12-01T00:00:00",
          "2026-01-01T00:00:00",
          "2026-02-01T00:00:00",
          "2026-03-01T00:00:00",
          "2026-04-01T00:00:00",
          "2026-05-01T00:00:00",
          "2026-06-01T00:00:00"
         ],
         "y": [
          1.875,
          1.875,
          1.875,
          1.875,
          1.875,
          1.875,
          1.875,
          1.875,
          1.875,
          1.875,
          1.875
         ]
        },
        {
         "name": "Marketing ",
         "type": "bar",
         "visible": true,
         "x": [
          "2025-08-01T00:00:00",
          "2025-09-01T00:00:00",
          "2025-10-01T00:00:00",
          "2025-11-01T00:00:00",
          "2025-12-01T00:00:00",
          "2026-01-01T00:00:00",
          "2026-02-01T00:00:00",
          "2026-03-01T00:00:00",
          "2026-04-01T00:00:00",
          "2026-05-01T00:00:00",
          "2026-06-01T00:00:00"
         ],
         "y": [
          0,
          4,
          4,
          4,
          4,
          4,
          4,
          4,
          4,
          4,
          4
         ]
        },
        {
         "name": "Personnel ",
         "type": "bar",
         "visible": true,
         "x": [
          "2025-08-01T00:00:00",
          "2025-09-01T00:00:00",
          "2025-10-01T00:00:00",
          "2025-11-01T00:00:00",
          "2025-12-01T00:00:00",
          "2026-01-01T00:00:00",
          "2026-02-01T00:00:00",
          "2026-03-01T00:00:00",
          "2026-04-01T00:00:00",
          "2026-05-01T00:00:00",
          "2026-06-01T00:00:00"
         ],
         "y": [
          0,
          330.51936861111113,
          291.53786861111115,
          236.9210386111111,
          304.0220386111111,
          229.09103861111112,
          229.09103861111112,
          221.09103861111112,
          221.09103861111112,
          230.6910386111111,
          221.09103861111112
         ]
        },
        {
         "name": "Petty cash ",
         "type": "bar",
         "visible": true,
         "x": [
          "2025-08-01T00:00:00",
          "2025-09-01T00:00:00",
          "2025-10-01T00:00:00",
          "2025-11-01T00:00:00",
          "2025-12-01T00:00:00",
          "2026-01-01T00:00:00",
          "2026-02-01T00:00:00",
          "2026-03-01T00:00:00",
          "2026-04-01T00:00:00",
          "2026-05-01T00:00:00",
          "2026-06-01T00:00:00"
         ],
         "y": [
          0,
          1,
          1,
          1,
          1,
          1,
          1,
          1,
          1,
          1,
          1
         ]
        },
        {
         "name": "Recruitment",
         "type": "bar",
         "visible": true,
         "x": [
          "2025-08-01T00:00:00",
          "2025-09-01T00:00:00",
          "2025-10-01T00:00:00",
          "2025-11-01T00:00:00",
          "2025-12-01T00:00:00",
          "2026-01-01T00:00:00",
          "2026-02-01T00:00:00",
          "2026-03-01T00:00:00",
          "2026-04-01T00:00:00",
          "2026-05-01T00:00:00",
          "2026-06-01T00:00:00"
         ],
         "y": [
          0,
          10,
          5,
          5,
          5,
          5,
          5,
          5,
          5,
          5,
          5
         ]
        },
        {
         "name": "Rent ",
         "type": "bar",
         "visible": true,
         "x": [
          "2025-08-01T00:00:00",
          "2025-09-01T00:00:00",
          "2025-10-01T00:00:00",
          "2025-11-01T00:00:00",
          "2025-12-01T00:00:00",
          "2026-01-01T00:00:00",
          "2026-02-01T00:00:00",
          "2026-03-01T00:00:00",
          "2026-04-01T00:00:00",
          "2026-05-01T00:00:00",
          "2026-06-01T00:00:00"
         ],
         "y": [
          0,
          3.828125,
          10.078125,
          3.828125,
          3.828125,
          10.078125,
          3.828125,
          3.828125,
          10.078125,
          3.828125,
          3.828125
         ]
        },
        {
         "name": "Subscriptions ",
         "type": "bar",
         "visible": true,
         "x": [
          "2025-08-01T00:00:00",
          "2025-09-01T00:00:00",
          "2025-10-01T00:00:00",
          "2025-11-01T00:00:00",
          "2025-12-01T00:00:00",
          "2026-01-01T00:00:00",
          "2026-02-01T00:00:00",
          "2026-03-01T00:00:00",
          "2026-04-01T00:00:00",
          "2026-05-01T00:00:00",
          "2026-06-01T00:00:00"
         ],
         "y": [
          0,
          4.675625,
          4.675625,
          4.675625,
          4.675625,
          4.675625,
          4.675625,
          4.675625,
          4.675625,
          4.675625,
          4.675625
         ]
        },
        {
         "name": "Taxs & Social insurance",
         "type": "bar",
         "visible": true,
         "x": [
          "2025-08-01T00:00:00",
          "2025-09-01T00:00:00",
          "2025-10-01T00:00:00",
          "2025-11-01T00:00:00",
          "2025-12-01T00:00:00",
          "2026-01-01T00:00:00",
          "2026-02-01T00:00:00",
          "2026-03-01T00:00:00",
          "2026-04-01T00:00:00",
          "2026-05-01T00:00:00",
          "2026-06-01T00:00:00"
         ],
         "y": [
          11.84098515625,
          13.4,
          13.4,
          13.4,
          13.4,
          13.4,
          13.4,
          13.4,
          13.4,
          13.4,
          13.4
         ]
        },
        {
         "name": "Travel Exp ",
         "type": "bar",
         "visible": true,
         "x": [
          "2025-08-01T00:00:00",
          "2025-09-01T00:00:00",
          "2025-10-01T00:00:00",
          "2025-11-01T00:00:00",
          "2025-12-01T00:00:00",
          "2026-01-01T00:00:00",
          "2026-02-01T00:00:00",
          "2026-03-01T00:00:00",
          "2026-04-01T00:00:00",
          "2026-05-01T00:00:00",
          "2026-06-01T00:00:00"
         ],
         "y": [
          0,
          16,
          16,
          16,
          16,
          16,
          16,
          16,
          16,
          16,
          16
         ]
        },
        {
         "name": "VAT and Taxes ",
         "type": "bar",
         "visible": true,
         "x": [
          "2025-08-01T00:00:00",
          "2025-09-01T00:00:00",
          "2025-10-01T00:00:00",
          "2025-11-01T00:00:00",
          "2025-12-01T00:00:00",
          "2026-01-01T00:00:00",
          "2026-02-01T00:00:00",
          "2026-03-01T00:00:00",
          "2026-04-01T00:00:00",
          "2026-05-01T00:00:00",
          "2026-06-01T00:00:00"
         ],
         "y": [
          0,
          300,
          0.6,
          0.6,
          0.6,
          100,
          0.6,
          0.6,
          100,
          0.6,
          0.6
         ]
        },
        {
         "name": "Vendor",
         "type": "bar",
         "visible": true,
         "x": [
          "2025-08-01T00:00:00",
          "2025-09-01T00:00:00",
          "2025-10-01T00:00:00",
          "2025-11-01T00:00:00",
          "2025-12-01T00:00:00",
          "2026-01-01T00:00:00",
          "2026-02-01T00:00:00",
          "2026-03-01T00:00:00",
          "2026-04-01T00:00:00",
          "2026-05-01T00:00:00",
          "2026-06-01T00:00:00"
         ],
         "y": [
          87.8488,
          61.848800000000004,
          61.848800000000004,
          46.848800000000004,
          46.848800000000004,
          0,
          0,
          0,
          0,
          0,
          0
         ]
        },
        {
         "name": "Zakat ",
         "type": "bar",
         "visible": true,
         "x": [
          "2025-08-01T00:00:00",
          "2025-09-01T00:00:00",
          "2025-10-01T00:00:00",
          "2025-11-01T00:00:00",
          "2025-12-01T00:00:00",
          "2026-01-01T00:00:00",
          "2026-02-01T00:00:00",
          "2026-03-01T00:00:00",
          "2026-04-01T00:00:00",
          "2026-05-01T00:00:00",
          "2026-06-01T00:00:00"
         ],
         "y": [
          0,
          0,
          0,
          0,
          0,
          0,
          0,
          0,
          100,
          0,
          0
         ]
        },
        {
         "line": {
          "color": "black",
          "width": 3
         },
         "mode": "lines+markers+text",
         "name": "Total (Total)",
         "text": [
          "105",
          "791",
          "445",
          "355",
          "434",
          "407",
          "325",
          "294",
          "511",
          "301",
          "291"
         ],
         "textposition": "top center",
         "type": "scatter",
         "visible": true,
         "x": [
          "2025-08-01T00:00:00",
          "2025-09-01T00:00:00",
          "2025-10-01T00:00:00",
          "2025-11-01T00:00:00",
          "2025-12-01T00:00:00",
          "2026-01-01T00:00:00",
          "2026-02-01T00:00:00",
          "2026-03-01T00:00:00",
          "2026-04-01T00:00:00",
          "2026-05-01T00:00:00",
          "2026-06-01T00:00:00"
         ],
         "y": [
          105.126080859375,
          790.9626369833334,
          444.5718269833333,
          354.9979603833334,
          433.6409803833334,
          406.9885843833333,
          324.7992079833333,
          294.43158438333336,
          511.02858438333334,
          300.85758438333335,
          291.0655843833333
         ]
        },
        {
         "name": "Audit Fees ",
         "type": "bar",
         "visible": false,
         "x": [
          "2025-08-01T00:00:00",
          "2025-09-01T00:00:00",
          "2025-10-01T00:00:00",
          "2025-11-01T00:00:00",
          "2025-12-01T00:00:00",
          "2026-01-01T00:00:00",
          "2026-02-01T00:00:00",
          "2026-03-01T00:00:00",
          "2026-04-01T00:00:00",
          "2026-05-01T00:00:00",
          "2026-06-01T00:00:00"
         ],
         "y": [
          0,
          0,
          0,
          0,
          10,
          0,
          0,
          0,
          10,
          0,
          0
         ]
        },
        {
         "name": "Bank Charges ",
         "type": "bar",
         "visible": false,
         "x": [
          "2025-08-01T00:00:00",
          "2025-09-01T00:00:00",
          "2025-10-01T00:00:00",
          "2025-11-01T00:00:00",
          "2025-12-01T00:00:00",
          "2026-01-01T00:00:00",
          "2026-02-01T00:00:00",
          "2026-03-01T00:00:00",
          "2026-04-01T00:00:00",
          "2026-05-01T00:00:00",
          "2026-06-01T00:00:00"
         ],
         "y": [
          0,
          0.5,
          0.5,
          0.5,
          0.5,
          0.5,
          0.5,
          0.5,
          0.5,
          0.5,
          0.5
         ]
        },
        {
         "name": "Contingency + Misc.",
         "type": "bar",
         "visible": false,
         "x": [
          "2025-08-01T00:00:00",
          "2025-09-01T00:00:00",
          "2025-10-01T00:00:00",
          "2025-11-01T00:00:00",
          "2025-12-01T00:00:00",
          "2026-01-01T00:00:00",
          "2026-02-01T00:00:00",
          "2026-03-01T00:00:00",
          "2026-04-01T00:00:00",
          "2026-05-01T00:00:00",
          "2026-06-01T00:00:00"
         ],
         "y": [
          2.061295703125,
          29.99571837222222,
          20.736408372222225,
          7.0293717722222215,
          8.57139177222222,
          8.048795772222222,
          31.50941937222222,
          5.8417957722222225,
          10.088795772222221,
          5.967795772222223,
          5.775795772222223
         ]
        },
        {
         "name": "Government Exp ",
         "type": "bar",
         "visible": false,
         "x": [
          "2025-08-01T00:00:00",
          "2025-09-01T00:00:00",
          "2025-10-01T00:00:00",
          "2025-11-01T00:00:00",
          "2025-12-01T00:00:00",
          "2026-01-01T00:00:00",
          "2026-02-01T00:00:00",
          "2026-03-01T00:00:00",
          "2026-04-01T00:00:00",
          "2026-05-01T00:00:00",
          "2026-06-01T00:00:00"
         ],
         "y": [
          0,
          4,
          4,
          4,
          4,
          4,
          4,
          4,
          4,
          4,
          4
         ]
        },
        {
         "name": "Lawyer Fees ",
         "type": "bar",
         "visible": false,
         "x": [
          "2025-08-01T00:00:00",
          "2025-09-01T00:00:00",
          "2025-10-01T00:00:00",
          "2025-11-01T00:00:00",
          "2025-12-01T00:00:00",
          "2026-01-01T00:00:00",
          "2026-02-01T00:00:00",
          "2026-03-01T00:00:00",
          "2026-04-01T00:00:00",
          "2026-05-01T00:00:00",
          "2026-06-01T00:00:00"
         ],
         "y": [
          0,
          7.819999999999999,
          7.819999999999999,
          7.819999999999999,
          7.819999999999999,
          7.819999999999999,
          7.819999999999999,
          7.819999999999999,
          7.819999999999999,
          7.819999999999999,
          7.819999999999999
         ]
        },
        {
         "name": "Marketing ",
         "type": "bar",
         "visible": false,
         "x": [
          "2025-08-01T00:00:00",
          "2025-09-01T00:00:00",
          "2025-10-01T00:00:00",
          "2025-11-01T00:00:00",
          "2025-12-01T00:00:00",
          "2026-01-01T00:00:00",
          "2026-02-01T00:00:00",
          "2026-03-01T00:00:00",
          "2026-04-01T00:00:00",
          "2026-05-01T00:00:00",
          "2026-06-01T00:00:00"
         ],
         "y": [
          0,
          4,
          4,
          4,
          4,
          4,
          4,
          4,
          4,
          4,
          4
         ]
        },
        {
         "name": "Personnel ",
         "type": "bar",
         "visible": false,
         "x": [
          "2025-08-01T00:00:00",
          "2025-09-01T00:00:00",
          "2025-10-01T00:00:00",
          "2025-11-01T00:00:00",
          "2025-12-01T00:00:00",
          "2026-01-01T00:00:00",
          "2026-02-01T00:00:00",
          "2026-03-01T00:00:00",
          "2026-04-01T00:00:00",
          "2026-05-01T00:00:00",
          "2026-06-01T00:00:00"
         ],
         "y": [
          0,
          254.78496,
          215.80346000000003,
          161.18663,
          228.28763,
          152.03663,
          152.03663,
          144.03663,
          144.03663,
          153.63663,
          144.03663
         ]
        },
        {
         "name": "Recruitment",
         "type": "bar",
         "visible": false,
         "x": [
          "2025-08-01T00:00:00",
          "2025-09-01T00:00:00",
          "2025-10-01T00:00:00",
          "2025-11-01T00:00:00",
          "2025-12-01T00:00:00",
          "2026-01-01T00:00:00",
          "2026-02-01T00:00:00",
          "2026-03-01T00:00:00",
          "2026-04-01T00:00:00",
          "2026-05-01T00:00:00",
          "2026-06-01T00:00:00"
         ],
         "y": [
          0,
          10,
          5,
          5,
          5,
          5,
          5,
          5,
          5,
          5,
          5
         ]
        },
        {
         "name": "Rent ",
         "type": "bar",
         "visible": false,
         "x": [
          "2025-08-01T00:00:00",
          "2025-09-01T00:00:00",
          "2025-10-01T00:00:00",
          "2025-11-01T00:00:00",
          "2025-12-01T00:00:00",
          "2026-01-01T00:00:00",
          "2026-02-01T00:00:00",
          "2026-03-01T00:00:00",
          "2026-04-01T00:00:00",
          "2026-05-01T00:00:00",
          "2026-06-01T00:00:00"
         ],
         "y": [
          0,
          0,
          6.25,
          0,
          0,
          6.25,
          0,
          0,
          6.25,
          0,
          0
         ]
        },
        {
         "name": "Subscriptions ",
         "type": "bar",
         "visible": false,
         "x": [
          "2025-08-01T00:00:00",
          "2025-09-01T00:00:00",
          "2025-10-01T00:00:00",
          "2025-11-01T00:00:00",
          "2025-12-01T00:00:00",
          "2026-01-01T00:00:00",
          "2026-02-01T00:00:00",
          "2026-03-01T00:00:00",
          "2026-04-01T00:00:00",
          "2026-05-01T00:00:00",
          "2026-06-01T00:00:00"
         ],
         "y": [
          0,
          4.675625,
          4.675625,
          4.675625,
          4.675625,
          4.675625,
          4.675625,
          4.675625,
          4.675625,
          4.675625,
          4.675625
         ]
        },
        {
         "name": "Travel Exp ",
         "type": "bar",
         "visible": false,
         "x": [
          "2025-08-01T00:00:00",
          "2025-09-01T00:00:00",
          "2025-10-01T00:00:00",
          "2025-11-01T00:00:00",
          "2025-12-01T00:00:00",
          "2026-01-01T00:00:00",
          "2026-02-01T00:00:00",
          "2026-03-01T00:00:00",
          "2026-04-01T00:00:00",
          "2026-05-01T00:00:00",
          "2026-06-01T00:00:00"
         ],
         "y": [
          0,
          16,
          16,
          16,
          16,
          16,
          16,
          16,
          16,
          16,
          16
         ]
        },
        {
         "name": "VAT and Taxes ",
         "type": "bar",
         "visible": false,
         "x": [
          "2025-08-01T00:00:00",
          "2025-09-01T00:00:00",
          "2025-10-01T00:00:00",
          "2025-11-01T00:00:00",
          "2025-12-01T00:00:00",
          "2026-01-01T00:00:00",
          "2026-02-01T00:00:00",
          "2026-03-01T00:00:00",
          "2026-04-01T00:00:00",
          "2026-05-01T00:00:00",
          "2026-06-01T00:00:00"
         ],
         "y": [
          0,
          300,
          0.6,
          0.6,
          0.6,
          100,
          0.6,
          0.6,
          100,
          0.6,
          0.6
         ]
        },
        {
         "name": "Vendor",
         "type": "bar",
         "visible": false,
         "x": [
          "2025-08-01T00:00:00",
          "2025-09-01T00:00:00",
          "2025-10-01T00:00:00",
          "2025-11-01T00:00:00",
          "2025-12-01T00:00:00",
          "2026-01-01T00:00:00",
          "2026-02-01T00:00:00",
          "2026-03-01T00:00:00",
          "2026-04-01T00:00:00",
          "2026-05-01T00:00:00",
          "2026-06-01T00:00:00"
         ],
         "y": [
          87.8488,
          61.848800000000004,
          61.848800000000004,
          46.848800000000004,
          46.848800000000004,
          0,
          0,
          0,
          0,
          0,
          0
         ]
        },
        {
         "name": "Zakat ",
         "type": "bar",
         "visible": false,
         "x": [
          "2025-08-01T00:00:00",
          "2025-09-01T00:00:00",
          "2025-10-01T00:00:00",
          "2025-11-01T00:00:00",
          "2025-12-01T00:00:00",
          "2026-01-01T00:00:00",
          "2026-02-01T00:00:00",
          "2026-03-01T00:00:00",
          "2026-04-01T00:00:00",
          "2026-05-01T00:00:00",
          "2026-06-01T00:00:00"
         ],
         "y": [
          0,
          0,
          0,
          0,
          0,
          0,
          0,
          0,
          100,
          0,
          0
         ]
        },
        {
         "line": {
          "color": "black",
          "width": 3
         },
         "mode": "lines+markers+text",
         "name": "Total (KSA)",
         "text": [
          "90",
          "694",
          "347",
          "258",
          "336",
          "308",
          "226",
          "192",
          "412",
          "202",
          "192"
         ],
         "textposition": "top center",
         "type": "scatter",
         "visible": false,
         "x": [
          "2025-08-01T00:00:00",
          "2025-09-01T00:00:00",
          "2025-10-01T00:00:00",
          "2025-11-01T00:00:00",
          "2025-12-01T00:00:00",
          "2026-01-01T00:00:00",
          "2026-02-01T00:00:00",
          "2026-03-01T00:00:00",
          "2026-04-01T00:00:00",
          "2026-05-01T00:00:00",
          "2026-06-01T00:00:00"
         ],
         "y": [
          89.910095703125,
          693.6251033722223,
          347.2342933722222,
          257.66042677222225,
          336.3034467722223,
          308.3310507722222,
          226.1416743722222,
          192.47405077222223,
          412.37105077222225,
          202.20005077222223,
          192.40805077222223
         ]
        },
        {
         "name": "Accounting Exp ",
         "type": "bar",
         "visible": false,
         "x": [
          "2025-08-01T00:00:00",
          "2025-09-01T00:00:00",
          "2025-10-01T00:00:00",
          "2025-11-01T00:00:00",
          "2025-12-01T00:00:00",
          "2026-01-01T00:00:00",
          "2026-02-01T00:00:00",
          "2026-03-01T00:00:00",
          "2026-04-01T00:00:00",
          "2026-05-01T00:00:00",
          "2026-06-01T00:00:00"
         ],
         "y": [
          1.5,
          1.5,
          1.5,
          1.5,
          1.5,
          1.5,
          1.5,
          4.8,
          1.5,
          1.5,
          1.5
         ]
        },
        {
         "name": "Legal Exp ",
         "type": "bar",
         "visible": false,
         "x": [
          "2025-08-01T00:00:00",
          "2025-09-01T00:00:00",
          "2025-10-01T00:00:00",
          "2025-11-01T00:00:00",
          "2025-12-01T00:00:00",
          "2026-01-01T00:00:00",
          "2026-02-01T00:00:00",
          "2026-03-01T00:00:00",
          "2026-04-01T00:00:00",
          "2026-05-01T00:00:00",
          "2026-06-01T00:00:00"
         ],
         "y": [
          1.875,
          1.875,
          1.875,
          1.875,
          1.875,
          1.875,
          1.875,
          1.875,
          1.875,
          1.875,
          1.875
         ]
        },
        {
         "name": "Personnel ",
         "type": "bar",
         "visible": false,
         "x": [
          "2025-08-01T00:00:00",
          "2025-09-01T00:00:00",
          "2025-10-01T00:00:00",
          "2025-11-01T00:00:00",
          "2025-12-01T00:00:00",
          "2026-01-01T00:00:00",
          "2026-02-01T00:00:00",
          "2026-03-01T00:00:00",
          "2026-04-01T00:00:00",
          "2026-05-01T00:00:00",
          "2026-06-01T00:00:00"
         ],
         "y": [
          0,
          75.7344086111111,
          75.7344086111111,
          75.7344086111111,
          75.7344086111111,
          77.05440861111111,
          77.05440861111111,
          77.05440861111111,
          77.05440861111111,
          77.05440861111111,
          77.05440861111111
         ]
        },
        {
         "name": "Petty cash ",
         "type": "bar",
         "visible": false,
         "x": [
          "2025-08-01T00:00:00",
          "2025-09-01T00:00:00",
          "2025-10-01T00:00:00",
          "2025-11-01T00:00:00",
          "2025-12-01T00:00:00",
          "2026-01-01T00:00:00",
          "2026-02-01T00:00:00",
          "2026-03-01T00:00:00",
          "2026-04-01T00:00:00",
          "2026-05-01T00:00:00",
          "2026-06-01T00:00:00"
         ],
         "y": [
          0,
          1,
          1,
          1,
          1,
          1,
          1,
          1,
          1,
          1,
          1
         ]
        },
        {
         "name": "Rent ",
         "type": "bar",
         "visible": false,
         "x": [
          "2025-08-01T00:00:00",
          "2025-09-01T00:00:00",
          "2025-10-01T00:00:00",
          "2025-11-01T00:00:00",
          "2025-12-01T00:00:00",
          "2026-01-01T00:00:00",
          "2026-02-01T00:00:00",
          "2026-03-01T00:00:00",
          "2026-04-01T00:00:00",
          "2026-05-01T00:00:00",
          "2026-06-01T00:00:00"
         ],
         "y": [
          0,
          3.828125,
          3.828125,
          3.828125,
          3.828125,
          3.828125,
          3.828125,
          3.828125,
          3.828125,
          3.828125,
          3.828125
         ]
        },
        {
         "name": "Taxs & Social insurance",
         "type": "bar",
         "visible": false,
         "x": [
          "2025-08-01T00:00:00",
          "2025-09-01T00:00:00",
          "2025-10-01T00:00:00",
          "2025-11-01T00:00:00",
          "2025-12-01T00:00:00",
          "2026-01-01T00:00:00",
          "2026-02-01T00:00:00",
          "2026-03-01T00:00:00",
          "2026-04-01T00:00:00",
          "2026-05-01T00:00:00",
          "2026-06-01T00:00:00"
         ],
         "y": [
          11.84098515625,
          13.4,
          13.4,
          13.4,
          13.4,
          13.4,
          13.4,
          13.4,
          13.4,
          13.4,
          13.4
         ]
        },
        {
         "line": {
          "color": "black",
          "width": 3
         },
         "mode": "lines+markers+text",
         "name": "Total (Egypt)",
         "text": [
          "15",
          "97",
          "97",
          "97",
          "97",
          "99",
          "99",
          "102",
          "99",
          "99",
          "99"
         ],
         "textposition": "top center",
         "type": "scatter",
         "visible": false,
         "x": [
          "2025-08-01T00:00:00",
          "2025-09-01T00:00:00",
          "2025-10-01T00:00:00",
          "2025-11-01T00:00:00",
          "2025-12-01T00:00:00",
          "2026-01-01T00:00:00",
          "2026-02-01T00:00:00",
          "2026-03-01T00:00:00",
          "2026-04-01T00:00:00",
          "2026-05-01T00:00:00",
          "2026-06-01T00:00:00"
         ],
         "y": [
          15.21598515625,
          97.33753361111111,
          97.33753361111111,
          97.33753361111111,
          97.33753361111111,
          98.6575336111111,
          98.6575336111111,
          101.95753361111112,
          98.6575336111111,
          98.6575336111111,
          98.6575336111111
         ]
        }
       ],
       "layout": {
        "autosize": true,
        "barmode": "stack",
        "legend": {
         "title": {
          "text": "Category"
         }
        },
        "template": {
         "data": {
          "bar": [
           {
            "error_x": {
             "color": "#2a3f5f"
            },
            "error_y": {
             "color": "#2a3f5f"
            },
            "marker": {
             "line": {
              "color": "#E5ECF6",
              "width": 0.5
             },
             "pattern": {
              "fillmode": "overlay",
              "size": 10,
              "solidity": 0.2
             }
            },
            "type": "bar"
           }
          ],
          "barpolar": [
           {
            "marker": {
             "line": {
              "color": "#E5ECF6",
              "width": 0.5
             },
             "pattern": {
              "fillmode": "overlay",
              "size": 10,
              "solidity": 0.2
             }
            },
            "type": "barpolar"
           }
          ],
          "carpet": [
           {
            "aaxis": {
             "endlinecolor": "#2a3f5f",
             "gridcolor": "white",
             "linecolor": "white",
             "minorgridcolor": "white",
             "startlinecolor": "#2a3f5f"
            },
            "baxis": {
             "endlinecolor": "#2a3f5f",
             "gridcolor": "white",
             "linecolor": "white",
             "minorgridcolor": "white",
             "startlinecolor": "#2a3f5f"
            },
            "type": "carpet"
           }
          ],
          "choropleth": [
           {
            "colorbar": {
             "outlinewidth": 0,
             "ticks": ""
            },
            "type": "choropleth"
           }
          ],
          "contour": [
           {
            "colorbar": {
             "outlinewidth": 0,
             "ticks": ""
            },
            "colorscale": [
             [
              0,
              "#0d0887"
             ],
             [
              0.1111111111111111,
              "#46039f"
             ],
             [
              0.2222222222222222,
              "#7201a8"
             ],
             [
              0.3333333333333333,
              "#9c179e"
             ],
             [
              0.4444444444444444,
              "#bd3786"
             ],
             [
              0.5555555555555556,
              "#d8576b"
             ],
             [
              0.6666666666666666,
              "#ed7953"
             ],
             [
              0.7777777777777778,
              "#fb9f3a"
             ],
             [
              0.8888888888888888,
              "#fdca26"
             ],
             [
              1,
              "#f0f921"
             ]
            ],
            "type": "contour"
           }
          ],
          "contourcarpet": [
           {
            "colorbar": {
             "outlinewidth": 0,
             "ticks": ""
            },
            "type": "contourcarpet"
           }
          ],
          "heatmap": [
           {
            "colorbar": {
             "outlinewidth": 0,
             "ticks": ""
            },
            "colorscale": [
             [
              0,
              "#0d0887"
             ],
             [
              0.1111111111111111,
              "#46039f"
             ],
             [
              0.2222222222222222,
              "#7201a8"
             ],
             [
              0.3333333333333333,
              "#9c179e"
             ],
             [
              0.4444444444444444,
              "#bd3786"
             ],
             [
              0.5555555555555556,
              "#d8576b"
             ],
             [
              0.6666666666666666,
              "#ed7953"
             ],
             [
              0.7777777777777778,
              "#fb9f3a"
             ],
             [
              0.8888888888888888,
              "#fdca26"
             ],
             [
              1,
              "#f0f921"
             ]
            ],
            "type": "heatmap"
           }
          ],
          "heatmapgl": [
           {
            "colorbar": {
             "outlinewidth": 0,
             "ticks": ""
            },
            "colorscale": [
             [
              0,
              "#0d0887"
             ],
             [
              0.1111111111111111,
              "#46039f"
             ],
             [
              0.2222222222222222,
              "#7201a8"
             ],
             [
              0.3333333333333333,
              "#9c179e"
             ],
             [
              0.4444444444444444,
              "#bd3786"
             ],
             [
              0.5555555555555556,
              "#d8576b"
             ],
             [
              0.6666666666666666,
              "#ed7953"
             ],
             [
              0.7777777777777778,
              "#fb9f3a"
             ],
             [
              0.8888888888888888,
              "#fdca26"
             ],
             [
              1,
              "#f0f921"
             ]
            ],
            "type": "heatmapgl"
           }
          ],
          "histogram": [
           {
            "marker": {
             "pattern": {
              "fillmode": "overlay",
              "size": 10,
              "solidity": 0.2
             }
            },
            "type": "histogram"
           }
          ],
          "histogram2d": [
           {
            "colorbar": {
             "outlinewidth": 0,
             "ticks": ""
            },
            "colorscale": [
             [
              0,
              "#0d0887"
             ],
             [
              0.1111111111111111,
              "#46039f"
             ],
             [
              0.2222222222222222,
              "#7201a8"
             ],
             [
              0.3333333333333333,
              "#9c179e"
             ],
             [
              0.4444444444444444,
              "#bd3786"
             ],
             [
              0.5555555555555556,
              "#d8576b"
             ],
             [
              0.6666666666666666,
              "#ed7953"
             ],
             [
              0.7777777777777778,
              "#fb9f3a"
             ],
             [
              0.8888888888888888,
              "#fdca26"
             ],
             [
              1,
              "#f0f921"
             ]
            ],
            "type": "histogram2d"
           }
          ],
          "histogram2dcontour": [
           {
            "colorbar": {
             "outlinewidth": 0,
             "ticks": ""
            },
            "colorscale": [
             [
              0,
              "#0d0887"
             ],
             [
              0.1111111111111111,
              "#46039f"
             ],
             [
              0.2222222222222222,
              "#7201a8"
             ],
             [
              0.3333333333333333,
              "#9c179e"
             ],
             [
              0.4444444444444444,
              "#bd3786"
             ],
             [
              0.5555555555555556,
              "#d8576b"
             ],
             [
              0.6666666666666666,
              "#ed7953"
             ],
             [
              0.7777777777777778,
              "#fb9f3a"
             ],
             [
              0.8888888888888888,
              "#fdca26"
             ],
             [
              1,
              "#f0f921"
             ]
            ],
            "type": "histogram2dcontour"
           }
          ],
          "mesh3d": [
           {
            "colorbar": {
             "outlinewidth": 0,
             "ticks": ""
            },
            "type": "mesh3d"
           }
          ],
          "parcoords": [
           {
            "line": {
             "colorbar": {
              "outlinewidth": 0,
              "ticks": ""
             }
            },
            "type": "parcoords"
           }
          ],
          "pie": [
           {
            "automargin": true,
            "type": "pie"
           }
          ],
          "scatter": [
           {
            "fillpattern": {
             "fillmode": "overlay",
             "size": 10,
             "solidity": 0.2
            },
            "type": "scatter"
           }
          ],
          "scatter3d": [
           {
            "line": {
             "colorbar": {
              "outlinewidth": 0,
              "ticks": ""
             }
            },
            "marker": {
             "colorbar": {
              "outlinewidth": 0,
              "ticks": ""
             }
            },
            "type": "scatter3d"
           }
          ],
          "scattercarpet": [
           {
            "marker": {
             "colorbar": {
              "outlinewidth": 0,
              "ticks": ""
             }
            },
            "type": "scattercarpet"
           }
          ],
          "scattergeo": [
           {
            "marker": {
             "colorbar": {
              "outlinewidth": 0,
              "ticks": ""
             }
            },
            "type": "scattergeo"
           }
          ],
          "scattergl": [
           {
            "marker": {
             "colorbar": {
              "outlinewidth": 0,
              "ticks": ""
             }
            },
            "type": "scattergl"
           }
          ],
          "scattermapbox": [
           {
            "marker": {
             "colorbar": {
              "outlinewidth": 0,
              "ticks": ""
             }
            },
            "type": "scattermapbox"
           }
          ],
          "scatterpolar": [
           {
            "marker": {
             "colorbar": {
              "outlinewidth": 0,
              "ticks": ""
             }
            },
            "type": "scatterpolar"
           }
          ],
          "scatterpolargl": [
           {
            "marker": {
             "colorbar": {
              "outlinewidth": 0,
              "ticks": ""
             }
            },
            "type": "scatterpolargl"
           }
          ],
          "scatterternary": [
           {
            "marker": {
             "colorbar": {
              "outlinewidth": 0,
              "ticks": ""
             }
            },
            "type": "scatterternary"
           }
          ],
          "surface": [
           {
            "colorbar": {
             "outlinewidth": 0,
             "ticks": ""
            },
            "colorscale": [
             [
              0,
              "#0d0887"
             ],
             [
              0.1111111111111111,
              "#46039f"
             ],
             [
              0.2222222222222222,
              "#7201a8"
             ],
             [
              0.3333333333333333,
              "#9c179e"
             ],
             [
              0.4444444444444444,
              "#bd3786"
             ],
             [
              0.5555555555555556,
              "#d8576b"
             ],
             [
              0.6666666666666666,
              "#ed7953"
             ],
             [
              0.7777777777777778,
              "#fb9f3a"
             ],
             [
              0.8888888888888888,
              "#fdca26"
             ],
             [
              1,
              "#f0f921"
             ]
            ],
            "type": "surface"
           }
          ],
          "table": [
           {
            "cells": {
             "fill": {
              "color": "#EBF0F8"
             },
             "line": {
              "color": "white"
             }
            },
            "header": {
             "fill": {
              "color": "#C8D4E3"
             },
             "line": {
              "color": "white"
             }
            },
            "type": "table"
           }
          ]
         },
         "layout": {
          "annotationdefaults": {
           "arrowcolor": "#2a3f5f",
           "arrowhead": 0,
           "arrowwidth": 1
          },
          "autotypenumbers": "strict",
          "coloraxis": {
           "colorbar": {
            "outlinewidth": 0,
            "ticks": ""
           }
          },
          "colorscale": {
           "diverging": [
            [
             0,
             "#8e0152"
            ],
            [
             0.1,
             "#c51b7d"
            ],
            [
             0.2,
             "#de77ae"
            ],
            [
             0.3,
             "#f1b6da"
            ],
            [
             0.4,
             "#fde0ef"
            ],
            [
             0.5,
             "#f7f7f7"
            ],
            [
             0.6,
             "#e6f5d0"
            ],
            [
             0.7,
             "#b8e186"
            ],
            [
             0.8,
             "#7fbc41"
            ],
            [
             0.9,
             "#4d9221"
            ],
            [
             1,
             "#276419"
            ]
           ],
           "sequential": [
            [
             0,
             "#0d0887"
            ],
            [
             0.1111111111111111,
             "#46039f"
            ],
            [
             0.2222222222222222,
             "#7201a8"
            ],
            [
             0.3333333333333333,
             "#9c179e"
            ],
            [
             0.4444444444444444,
             "#bd3786"
            ],
            [
             0.5555555555555556,
             "#d8576b"
            ],
            [
             0.6666666666666666,
             "#ed7953"
            ],
            [
             0.7777777777777778,
             "#fb9f3a"
            ],
            [
             0.8888888888888888,
             "#fdca26"
            ],
            [
             1,
             "#f0f921"
            ]
           ],
           "sequentialminus": [
            [
             0,
             "#0d0887"
            ],
            [
             0.1111111111111111,
             "#46039f"
            ],
            [
             0.2222222222222222,
             "#7201a8"
            ],
            [
             0.3333333333333333,
             "#9c179e"
            ],
            [
             0.4444444444444444,
             "#bd3786"
            ],
            [
             0.5555555555555556,
             "#d8576b"
            ],
            [
             0.6666666666666666,
             "#ed7953"
            ],
            [
             0.7777777777777778,
             "#fb9f3a"
            ],
            [
             0.8888888888888888,
             "#fdca26"
            ],
            [
             1,
             "#f0f921"
            ]
           ]
          },
          "colorway": [
           "#636efa",
           "#EF553B",
           "#00cc96",
           "#ab63fa",
           "#FFA15A",
           "#19d3f3",
           "#FF6692",
           "#B6E880",
           "#FF97FF",
           "#FECB52"
          ],
          "font": {
           "color": "#2a3f5f"
          },
          "geo": {
           "bgcolor": "white",
           "lakecolor": "white",
           "landcolor": "#E5ECF6",
           "showlakes": true,
           "showland": true,
           "subunitcolor": "white"
          },
          "hoverlabel": {
           "align": "left"
          },
          "hovermode": "closest",
          "mapbox": {
           "style": "light"
          },
          "paper_bgcolor": "white",
          "plot_bgcolor": "#E5ECF6",
          "polar": {
           "angularaxis": {
            "gridcolor": "white",
            "linecolor": "white",
            "ticks": ""
           },
           "bgcolor": "#E5ECF6",
           "radialaxis": {
            "gridcolor": "white",
            "linecolor": "white",
            "ticks": ""
           }
          },
          "scene": {
           "xaxis": {
            "backgroundcolor": "#E5ECF6",
            "gridcolor": "white",
            "gridwidth": 2,
            "linecolor": "white",
            "showbackground": true,
            "ticks": "",
            "zerolinecolor": "white"
           },
           "yaxis": {
            "backgroundcolor": "#E5ECF6",
            "gridcolor": "white",
            "gridwidth": 2,
            "linecolor": "white",
            "showbackground": true,
            "ticks": "",
            "zerolinecolor": "white"
           },
           "zaxis": {
            "backgroundcolor": "#E5ECF6",
            "gridcolor": "white",
            "gridwidth": 2,
            "linecolor": "white",
            "showbackground": true,
            "ticks": "",
            "zerolinecolor": "white"
           }
          },
          "shapedefaults": {
           "line": {
            "color": "#2a3f5f"
           }
          },
          "ternary": {
           "aaxis": {
            "gridcolor": "white",
            "linecolor": "white",
            "ticks": ""
           },
           "baxis": {
            "gridcolor": "white",
            "linecolor": "white",
            "ticks": ""
           },
           "bgcolor": "#E5ECF6",
           "caxis": {
            "gridcolor": "white",
            "linecolor": "white",
            "ticks": ""
           }
          },
          "title": {
           "x": 0.05
          },
          "xaxis": {
           "automargin": true,
           "gridcolor": "white",
           "linecolor": "white",
           "ticks": "",
           "title": {
            "standoff": 15
           },
           "zerolinecolor": "white",
           "zerolinewidth": 2
          },
          "yaxis": {
           "automargin": true,
           "gridcolor": "white",
           "linecolor": "white",
           "ticks": "",
           "title": {
            "standoff": 15
           },
           "zerolinecolor": "white",
           "zerolinewidth": 2
          }
         }
        },
        "title": {
         "text": "Monthly Cash Flow"
        },
        "updatemenus": [
         {
          "active": 0,
          "buttons": [
           {
            "args": [
             {
              "visible": [
               true,
               true,
               true,
               true,
               true,
               true,
               true,
               true,
               true,
               true,
               true,
               true,
               true,
               true,
               true,
               true,
               true,
               true,
               true,
               false,
               false,
               false,
               false,
               false,
               false,
               false,
               false,
               false,
               false,
               false,
               false,
               false,
               false,
               false,
               false,
               false,
               false,
               false,
               false,
               false,
               false
              ]
             },
             {
              "title": "Monthly Cash Flow: Total"
             }
            ],
            "label": "Total",
            "method": "update"
           },
           {
            "args": [
             {
              "visible": [
               false,
               false,
               false,
               false,
               false,
               false,
               false,
               false,
               false,
               false,
               false,
               false,
               false,
               false,
               false,
               false,
               false,
               false,
               false,
               true,
               true,
               true,
               true,
               true,
               true,
               true,
               true,
               true,
               true,
               true,
               true,
               true,
               true,
               true,
               false,
               false,
               false,
               false,
               false,
               false,
               false
              ]
             },
             {
              "title": "Monthly Cash Flow: KSA"
             }
            ],
            "label": "KSA",
            "method": "update"
           },
           {
            "args": [
             {
              "visible": [
               false,
               false,
               false,
               false,
               false,
               false,
               false,
               false,
               false,
               false,
               false,
               false,
               false,
               false,
               false,
               false,
               false,
               false,
               false,
               false,
               false,
               false,
               false,
               false,
               false,
               false,
               false,
               false,
               false,
               false,
               false,
               false,
               false,
               false,
               true,
               true,
               true,
               true,
               true,
               true,
               true
              ]
             },
             {
              "title": "Monthly Cash Flow: Egypt"
             }
            ],
            "label": "Egypt",
            "method": "update"
           }
          ],
          "x": 1.2,
          "y": 1.1
         }
        ],
        "xaxis": {
         "rangeselector": {
          "buttons": [
           {
            "count": 3,
            "label": "3m",
            "step": "month",
            "stepmode": "backward"
           },
           {
            "count": 6,
            "label": "6m",
            "step": "month",
            "stepmode": "backward"
           },
           {
            "count": 12,
            "label": "1y",
            "step": "month",
            "stepmode": "backward"
           },
           {
            "step": "all"
           }
          ]
         },
         "rangeslider": {
          "visible": true
         },
         "title": {
          "text": "Month"
         },
         "type": "date"
        },
        "yaxis": {
         "title": {
          "text": "Amount (000s SAR)"
         }
        }
       }
      }
     },
     "metadata": {},
     "output_type": "display_data"
    }
   ],
   "source": [
    "import plotly.graph_objects as go\n",
    "import pandas as pd\n",
    "\n",
    "# Helper function to create traces from a given DataFrame\n",
    "def create_traces(df, name):\n",
    "    months = df.columns[1:]  # assuming first col = Category\n",
    "    categories = df['Category'].tolist()\n",
    "\n",
    "    traces = []\n",
    "    # Bars for categories\n",
    "    for cat in categories[:-1]:  # exclude the last row (\"Total\")\n",
    "        row = df[df['Category'] == cat]\n",
    "        if not row.empty:\n",
    "            y = row.iloc[0, 1:].apply(pd.to_numeric, errors='coerce')\n",
    "            traces.append(go.Bar(\n",
    "                name=cat,\n",
    "                x=months,\n",
    "                y=y/1000,\n",
    "                visible=False\n",
    "            ))\n",
    "\n",
    "    # Line for total cash (last row)\n",
    "    total_row = df.iloc[-1, 1:].apply(pd.to_numeric, errors='coerce') / 1000\n",
    "    traces.append(go.Scatter(\n",
    "        name=f'Total ({name})',\n",
    "        x=months,\n",
    "        y=total_row,\n",
    "        mode='lines+markers+text',   # <-- line + points + labels\n",
    "        text=[f\"{val:,.0f}\" for val in total_row],  # label each point\n",
    "        textposition=\"top center\",\n",
    "        visible=False,\n",
    "        line={\"width\": 3, \"color\": \"black\"}\n",
    "    ))\n",
    "    return traces\n",
    "\n",
    "\n",
    "# Collect traces for each dataframe\n",
    "traces = []\n",
    "df_list = [\n",
    "    (\"Total\", Cash_Flow_Forecast_Both),\n",
    "    (\"KSA\", Cash_Flow_Forecast_KSA),\n",
    "    (\"Egypt\", Cash_Flow_Forecast_Eg)\n",
    "]\n",
    "\n",
    "for name, df in df_list:\n",
    "    traces.extend(create_traces(df, name))\n",
    "\n",
    "# Build dropdown buttons\n",
    "buttons = []\n",
    "trace_counts = [len(create_traces(df, name)) for name, df in df_list]\n",
    "\n",
    "start = 0\n",
    "for i, (name, df) in enumerate(df_list):\n",
    "    mask = [False] * sum(trace_counts)  # all hidden by default\n",
    "    for j in range(start, start + trace_counts[i]):\n",
    "        mask[j] = True\n",
    "    buttons.append({\n",
    "        \"label\": name,\n",
    "        \"method\": \"update\",\n",
    "        \"args\": [{\"visible\": mask},\n",
    "              {\"title\": f\"Monthly Cash Flow: {name}\"}]\n",
    "    })\n",
    "    start += trace_counts[i]\n",
    "\n",
    "# Create the figure\n",
    "fig = go.Figure(data=traces)\n",
    "\n",
    "fig.update_layout(\n",
    "    updatemenus=[{\n",
    "        \"active\": 0,\n",
    "        \"buttons\": buttons,\n",
    "        \"x\": 1.2,\n",
    "        \"y\": 1.1\n",
    "    }],\n",
    "    barmode='stack',\n",
    "    title=\"Monthly Cash Flow\",  # default view\n",
    "    xaxis_title=\"Month\",\n",
    "    yaxis_title=\"Amount (000s SAR)\",\n",
    "    autosize=True,\n",
    "    legend_title=\"Category\",\n",
    "    xaxis={\n",
    "        \"rangeselector\": {\n",
    "            \"buttons\": [\n",
    "                {\"count\": 3, \"label\": \"3m\", \"step\": \"month\", \"stepmode\": \"backward\"},\n",
    "                {\"count\": 6, \"label\": \"6m\", \"step\": \"month\", \"stepmode\": \"backward\"},\n",
    "                {\"count\": 12, \"label\": \"1y\", \"step\": \"month\", \"stepmode\": \"backward\"},\n",
    "                {\"step\": \"all\"}\n",
    "            ]\n",
    "        },\n",
    "        \"rangeslider\": {\"visible\": True},\n",
    "        \"type\": \"date\"\n",
    "    }\n",
    "    \n",
    ")\n",
    "\n",
    "# Show only the first dataframe (KSA) initially\n",
    "for i in range(trace_counts[0]):\n",
    "    fig.data[i].visible = True\n",
    "\n",
    "fig.show()\n"
   ]
  },
  {
   "cell_type": "markdown",
   "id": "19b629e0",
   "metadata": {},
   "source": [
    "# Cash Inflow diagram"
   ]
  },
  {
   "cell_type": "code",
   "execution_count": 45,
   "id": "93f60a38",
   "metadata": {},
   "outputs": [
    {
     "name": "stderr",
     "output_type": "stream",
     "text": [
      "C:\\Users\\Lenovo\\AppData\\Local\\Temp\\ipykernel_15500\\2268217016.py:1: SettingWithCopyWarning:\n",
      "\n",
      "\n",
      "A value is trying to be set on a copy of a slice from a DataFrame\n",
      "\n",
      "See the caveats in the documentation: https://pandas.pydata.org/pandas-docs/stable/user_guide/indexing.html#returning-a-view-versus-a-copy\n",
      "\n",
      "C:\\Users\\Lenovo\\AppData\\Local\\Temp\\ipykernel_15500\\2268217016.py:3: FutureWarning:\n",
      "\n",
      "Downcasting object dtype arrays on .fillna, .ffill, .bfill is deprecated and will change in a future version. Call result.infer_objects(copy=False) instead. To opt-in to the future behavior, set `pd.set_option('future.no_silent_downcasting', True)`\n",
      "\n"
     ]
    }
   ],
   "source": [
    "operating_cf_in.drop(columns=['Country','Cash Flow Type'],inplace=True)\n",
    "operating_cf_in = operating_cf_in.iloc[1:,:]\n",
    "operating_cf_in.fillna(0, inplace=True)\n",
    "\n",
    "\n"
   ]
  },
  {
   "cell_type": "code",
   "execution_count": 46,
   "id": "bd52ec14",
   "metadata": {},
   "outputs": [
    {
     "data": {
      "text/html": [
       "<div>\n",
       "<style scoped>\n",
       "    .dataframe tbody tr th:only-of-type {\n",
       "        vertical-align: middle;\n",
       "    }\n",
       "\n",
       "    .dataframe tbody tr th {\n",
       "        vertical-align: top;\n",
       "    }\n",
       "\n",
       "    .dataframe thead th {\n",
       "        text-align: right;\n",
       "    }\n",
       "</style>\n",
       "<table border=\"1\" class=\"dataframe\">\n",
       "  <thead>\n",
       "    <tr style=\"text-align: right;\">\n",
       "      <th></th>\n",
       "      <th>Category</th>\n",
       "      <th>Item</th>\n",
       "      <th>2025-08-01 00:00:00</th>\n",
       "      <th>2025-09-01 00:00:00</th>\n",
       "      <th>2025-10-01 00:00:00</th>\n",
       "      <th>2025-11-01 00:00:00</th>\n",
       "      <th>2025-12-01 00:00:00</th>\n",
       "      <th>2026-01-01 00:00:00</th>\n",
       "      <th>2026-02-01 00:00:00</th>\n",
       "      <th>2026-03-01 00:00:00</th>\n",
       "      <th>2026-04-01 00:00:00</th>\n",
       "      <th>2026-05-01 00:00:00</th>\n",
       "      <th>2026-06-01 00:00:00</th>\n",
       "    </tr>\n",
       "  </thead>\n",
       "  <tbody>\n",
       "    <tr>\n",
       "      <th>4</th>\n",
       "      <td>NWC Project</td>\n",
       "      <td>NWC Project - Consulting</td>\n",
       "      <td>0</td>\n",
       "      <td>94764.6</td>\n",
       "      <td>1000000</td>\n",
       "      <td>300000</td>\n",
       "      <td>300000</td>\n",
       "      <td>300000</td>\n",
       "      <td>300000</td>\n",
       "      <td>300000</td>\n",
       "      <td>300000</td>\n",
       "      <td>300000</td>\n",
       "      <td>300000</td>\n",
       "    </tr>\n",
       "    <tr>\n",
       "      <th>5</th>\n",
       "      <td>NWC Project</td>\n",
       "      <td>NWC Project - Non-Consulting</td>\n",
       "      <td>0</td>\n",
       "      <td>0.0</td>\n",
       "      <td>0</td>\n",
       "      <td>0</td>\n",
       "      <td>0</td>\n",
       "      <td>0</td>\n",
       "      <td>0</td>\n",
       "      <td>0</td>\n",
       "      <td>0</td>\n",
       "      <td>0</td>\n",
       "      <td>0</td>\n",
       "    </tr>\n",
       "    <tr>\n",
       "      <th>6</th>\n",
       "      <td>NWC Project</td>\n",
       "      <td>NWC Project - Consulting and Non-Consulting</td>\n",
       "      <td>0</td>\n",
       "      <td>0.0</td>\n",
       "      <td>161462</td>\n",
       "      <td>0</td>\n",
       "      <td>0</td>\n",
       "      <td>0</td>\n",
       "      <td>0</td>\n",
       "      <td>0</td>\n",
       "      <td>0</td>\n",
       "      <td>0</td>\n",
       "      <td>0</td>\n",
       "    </tr>\n",
       "    <tr>\n",
       "      <th>7</th>\n",
       "      <td>MWAN Project</td>\n",
       "      <td>MWAN Project</td>\n",
       "      <td>0</td>\n",
       "      <td>0.0</td>\n",
       "      <td>194977</td>\n",
       "      <td>0</td>\n",
       "      <td>0</td>\n",
       "      <td>0</td>\n",
       "      <td>0</td>\n",
       "      <td>0</td>\n",
       "      <td>0</td>\n",
       "      <td>0</td>\n",
       "      <td>0</td>\n",
       "    </tr>\n",
       "    <tr>\n",
       "      <th>8</th>\n",
       "      <td>MWAN Project</td>\n",
       "      <td>MWAN Project - LG refund</td>\n",
       "      <td>0</td>\n",
       "      <td>0.0</td>\n",
       "      <td>0</td>\n",
       "      <td>0</td>\n",
       "      <td>75000</td>\n",
       "      <td>0</td>\n",
       "      <td>0</td>\n",
       "      <td>0</td>\n",
       "      <td>0</td>\n",
       "      <td>0</td>\n",
       "      <td>0</td>\n",
       "    </tr>\n",
       "    <tr>\n",
       "      <th>9</th>\n",
       "      <td>0</td>\n",
       "      <td>Total Operating Cash Inflow</td>\n",
       "      <td>0</td>\n",
       "      <td>94764.6</td>\n",
       "      <td>1356439</td>\n",
       "      <td>300000</td>\n",
       "      <td>375000</td>\n",
       "      <td>300000</td>\n",
       "      <td>300000</td>\n",
       "      <td>300000</td>\n",
       "      <td>300000</td>\n",
       "      <td>300000</td>\n",
       "      <td>300000</td>\n",
       "    </tr>\n",
       "  </tbody>\n",
       "</table>\n",
       "</div>"
      ],
      "text/plain": [
       "        Category                                         Item  \\\n",
       "4    NWC Project                    NWC Project - Consulting    \n",
       "5    NWC Project                 NWC Project - Non-Consulting   \n",
       "6    NWC Project  NWC Project - Consulting and Non-Consulting   \n",
       "7  MWAN Project                                 MWAN Project    \n",
       "8  MWAN Project                      MWAN Project - LG refund   \n",
       "9              0                  Total Operating Cash Inflow   \n",
       "\n",
       "   2025-08-01 00:00:00  2025-09-01 00:00:00  2025-10-01 00:00:00  \\\n",
       "4                    0              94764.6              1000000   \n",
       "5                    0                  0.0                    0   \n",
       "6                    0                  0.0               161462   \n",
       "7                    0                  0.0               194977   \n",
       "8                    0                  0.0                    0   \n",
       "9                    0              94764.6              1356439   \n",
       "\n",
       "   2025-11-01 00:00:00  2025-12-01 00:00:00  2026-01-01 00:00:00  \\\n",
       "4               300000               300000               300000   \n",
       "5                    0                    0                    0   \n",
       "6                    0                    0                    0   \n",
       "7                    0                    0                    0   \n",
       "8                    0                75000                    0   \n",
       "9               300000               375000               300000   \n",
       "\n",
       "   2026-02-01 00:00:00  2026-03-01 00:00:00  2026-04-01 00:00:00  \\\n",
       "4               300000               300000               300000   \n",
       "5                    0                    0                    0   \n",
       "6                    0                    0                    0   \n",
       "7                    0                    0                    0   \n",
       "8                    0                    0                    0   \n",
       "9               300000               300000               300000   \n",
       "\n",
       "   2026-05-01 00:00:00  2026-06-01 00:00:00  \n",
       "4               300000               300000  \n",
       "5                    0                    0  \n",
       "6                    0                    0  \n",
       "7                    0                    0  \n",
       "8                    0                    0  \n",
       "9               300000               300000  "
      ]
     },
     "execution_count": 46,
     "metadata": {},
     "output_type": "execute_result"
    }
   ],
   "source": [
    "operating_cf_in"
   ]
  },
  {
   "cell_type": "code",
   "execution_count": 47,
   "id": "1a16d44f",
   "metadata": {},
   "outputs": [
    {
     "name": "stderr",
     "output_type": "stream",
     "text": [
      "C:\\Users\\Lenovo\\AppData\\Local\\Temp\\ipykernel_15500\\4249206914.py:2: SettingWithCopyWarning:\n",
      "\n",
      "\n",
      "A value is trying to be set on a copy of a slice from a DataFrame\n",
      "\n",
      "See the caveats in the documentation: https://pandas.pydata.org/pandas-docs/stable/user_guide/indexing.html#returning-a-view-versus-a-copy\n",
      "\n",
      "C:\\Users\\Lenovo\\AppData\\Local\\Temp\\ipykernel_15500\\4249206914.py:6: SettingWithCopyWarning:\n",
      "\n",
      "\n",
      "A value is trying to be set on a copy of a slice from a DataFrame\n",
      "\n",
      "See the caveats in the documentation: https://pandas.pydata.org/pandas-docs/stable/user_guide/indexing.html#returning-a-view-versus-a-copy\n",
      "\n"
     ]
    }
   ],
   "source": [
    "MWAN = operating_cf_in[operating_cf_in['Category'].str.strip() == \"MWAN Project\"]\n",
    "MWAN.drop(columns=['Category'],inplace=True)\n",
    "MWAN.set_index('Item',inplace=True)\n",
    "\n",
    "NWC = operating_cf_in[operating_cf_in['Category'].str.strip() == \"NWC Project\"]\n",
    "NWC.drop(columns=['Category'],inplace=True)\n",
    "NWC.set_index('Item',inplace=True)"
   ]
  },
  {
   "cell_type": "code",
   "execution_count": 48,
   "id": "4f5e308d",
   "metadata": {},
   "outputs": [
    {
     "data": {
      "text/html": [
       "<div>\n",
       "<style scoped>\n",
       "    .dataframe tbody tr th:only-of-type {\n",
       "        vertical-align: middle;\n",
       "    }\n",
       "\n",
       "    .dataframe tbody tr th {\n",
       "        vertical-align: top;\n",
       "    }\n",
       "\n",
       "    .dataframe thead th {\n",
       "        text-align: right;\n",
       "    }\n",
       "</style>\n",
       "<table border=\"1\" class=\"dataframe\">\n",
       "  <thead>\n",
       "    <tr style=\"text-align: right;\">\n",
       "      <th></th>\n",
       "      <th>Category</th>\n",
       "      <th>2025-08-01 00:00:00</th>\n",
       "      <th>2025-09-01 00:00:00</th>\n",
       "      <th>2025-10-01 00:00:00</th>\n",
       "      <th>2025-11-01 00:00:00</th>\n",
       "      <th>2025-12-01 00:00:00</th>\n",
       "      <th>2026-01-01 00:00:00</th>\n",
       "      <th>2026-02-01 00:00:00</th>\n",
       "      <th>2026-03-01 00:00:00</th>\n",
       "      <th>2026-04-01 00:00:00</th>\n",
       "      <th>2026-05-01 00:00:00</th>\n",
       "      <th>2026-06-01 00:00:00</th>\n",
       "    </tr>\n",
       "  </thead>\n",
       "  <tbody>\n",
       "    <tr>\n",
       "      <th>1</th>\n",
       "      <td>MWAN Project</td>\n",
       "      <td>0</td>\n",
       "      <td>0.0</td>\n",
       "      <td>194977</td>\n",
       "      <td>0</td>\n",
       "      <td>75000</td>\n",
       "      <td>0</td>\n",
       "      <td>0</td>\n",
       "      <td>0</td>\n",
       "      <td>0</td>\n",
       "      <td>0</td>\n",
       "      <td>0</td>\n",
       "    </tr>\n",
       "    <tr>\n",
       "      <th>2</th>\n",
       "      <td>NWC Project</td>\n",
       "      <td>0</td>\n",
       "      <td>94764.6</td>\n",
       "      <td>1161462</td>\n",
       "      <td>300000</td>\n",
       "      <td>300000</td>\n",
       "      <td>300000</td>\n",
       "      <td>300000</td>\n",
       "      <td>300000</td>\n",
       "      <td>300000</td>\n",
       "      <td>300000</td>\n",
       "      <td>300000</td>\n",
       "    </tr>\n",
       "  </tbody>\n",
       "</table>\n",
       "</div>"
      ],
      "text/plain": [
       "        Category  2025-08-01 00:00:00  2025-09-01 00:00:00  \\\n",
       "1  MWAN Project                     0                  0.0   \n",
       "2    NWC Project                    0              94764.6   \n",
       "\n",
       "   2025-10-01 00:00:00  2025-11-01 00:00:00  2025-12-01 00:00:00  \\\n",
       "1               194977                    0                75000   \n",
       "2              1161462               300000               300000   \n",
       "\n",
       "   2026-01-01 00:00:00  2026-02-01 00:00:00  2026-03-01 00:00:00  \\\n",
       "1                    0                    0                    0   \n",
       "2               300000               300000               300000   \n",
       "\n",
       "   2026-04-01 00:00:00  2026-05-01 00:00:00  2026-06-01 00:00:00  \n",
       "1                    0                    0                    0  \n",
       "2               300000               300000               300000  "
      ]
     },
     "execution_count": 48,
     "metadata": {},
     "output_type": "execute_result"
    }
   ],
   "source": [
    "df = operating_cf_in.groupby('Category').sum().reset_index().drop(columns=['Item']).iloc[1:]\n",
    "df"
   ]
  },
  {
   "cell_type": "code",
   "execution_count": 49,
   "id": "fedf0b53",
   "metadata": {},
   "outputs": [
    {
     "data": {
      "application/vnd.plotly.v1+json": {
       "config": {
        "plotlyServerURL": "https://plot.ly"
       },
       "data": [
        {
         "domain": {
          "x": [
           0,
           0.45
          ],
          "y": [
           0,
           1
          ]
         },
         "labels": [
          "MWAN Project ",
          "NWC Project"
         ],
         "name": "Total",
         "textinfo": "label+percent",
         "type": "pie",
         "values": [
          269977,
          3656226.6
         ]
        },
        {
         "name": "MWAN Project ",
         "type": "bar",
         "x": [
          "2025-08-01T00:00:00",
          "2025-09-01T00:00:00",
          "2025-10-01T00:00:00",
          "2025-11-01T00:00:00",
          "2025-12-01T00:00:00",
          "2026-01-01T00:00:00",
          "2026-02-01T00:00:00",
          "2026-03-01T00:00:00",
          "2026-04-01T00:00:00",
          "2026-05-01T00:00:00",
          "2026-06-01T00:00:00"
         ],
         "xaxis": "x",
         "y": [
          0,
          0,
          194977,
          0,
          75000,
          0,
          0,
          0,
          0,
          0,
          0
         ],
         "yaxis": "y"
        },
        {
         "name": "NWC Project",
         "type": "bar",
         "x": [
          "2025-08-01T00:00:00",
          "2025-09-01T00:00:00",
          "2025-10-01T00:00:00",
          "2025-11-01T00:00:00",
          "2025-12-01T00:00:00",
          "2026-01-01T00:00:00",
          "2026-02-01T00:00:00",
          "2026-03-01T00:00:00",
          "2026-04-01T00:00:00",
          "2026-05-01T00:00:00",
          "2026-06-01T00:00:00"
         ],
         "xaxis": "x",
         "y": [
          0,
          94764.6,
          1161462,
          300000,
          300000,
          300000,
          300000,
          300000,
          300000,
          300000,
          300000
         ],
         "yaxis": "y"
        }
       ],
       "layout": {
        "barmode": "stack",
        "showlegend": true,
        "template": {
         "data": {
          "bar": [
           {
            "error_x": {
             "color": "#2a3f5f"
            },
            "error_y": {
             "color": "#2a3f5f"
            },
            "marker": {
             "line": {
              "color": "#E5ECF6",
              "width": 0.5
             },
             "pattern": {
              "fillmode": "overlay",
              "size": 10,
              "solidity": 0.2
             }
            },
            "type": "bar"
           }
          ],
          "barpolar": [
           {
            "marker": {
             "line": {
              "color": "#E5ECF6",
              "width": 0.5
             },
             "pattern": {
              "fillmode": "overlay",
              "size": 10,
              "solidity": 0.2
             }
            },
            "type": "barpolar"
           }
          ],
          "carpet": [
           {
            "aaxis": {
             "endlinecolor": "#2a3f5f",
             "gridcolor": "white",
             "linecolor": "white",
             "minorgridcolor": "white",
             "startlinecolor": "#2a3f5f"
            },
            "baxis": {
             "endlinecolor": "#2a3f5f",
             "gridcolor": "white",
             "linecolor": "white",
             "minorgridcolor": "white",
             "startlinecolor": "#2a3f5f"
            },
            "type": "carpet"
           }
          ],
          "choropleth": [
           {
            "colorbar": {
             "outlinewidth": 0,
             "ticks": ""
            },
            "type": "choropleth"
           }
          ],
          "contour": [
           {
            "colorbar": {
             "outlinewidth": 0,
             "ticks": ""
            },
            "colorscale": [
             [
              0,
              "#0d0887"
             ],
             [
              0.1111111111111111,
              "#46039f"
             ],
             [
              0.2222222222222222,
              "#7201a8"
             ],
             [
              0.3333333333333333,
              "#9c179e"
             ],
             [
              0.4444444444444444,
              "#bd3786"
             ],
             [
              0.5555555555555556,
              "#d8576b"
             ],
             [
              0.6666666666666666,
              "#ed7953"
             ],
             [
              0.7777777777777778,
              "#fb9f3a"
             ],
             [
              0.8888888888888888,
              "#fdca26"
             ],
             [
              1,
              "#f0f921"
             ]
            ],
            "type": "contour"
           }
          ],
          "contourcarpet": [
           {
            "colorbar": {
             "outlinewidth": 0,
             "ticks": ""
            },
            "type": "contourcarpet"
           }
          ],
          "heatmap": [
           {
            "colorbar": {
             "outlinewidth": 0,
             "ticks": ""
            },
            "colorscale": [
             [
              0,
              "#0d0887"
             ],
             [
              0.1111111111111111,
              "#46039f"
             ],
             [
              0.2222222222222222,
              "#7201a8"
             ],
             [
              0.3333333333333333,
              "#9c179e"
             ],
             [
              0.4444444444444444,
              "#bd3786"
             ],
             [
              0.5555555555555556,
              "#d8576b"
             ],
             [
              0.6666666666666666,
              "#ed7953"
             ],
             [
              0.7777777777777778,
              "#fb9f3a"
             ],
             [
              0.8888888888888888,
              "#fdca26"
             ],
             [
              1,
              "#f0f921"
             ]
            ],
            "type": "heatmap"
           }
          ],
          "heatmapgl": [
           {
            "colorbar": {
             "outlinewidth": 0,
             "ticks": ""
            },
            "colorscale": [
             [
              0,
              "#0d0887"
             ],
             [
              0.1111111111111111,
              "#46039f"
             ],
             [
              0.2222222222222222,
              "#7201a8"
             ],
             [
              0.3333333333333333,
              "#9c179e"
             ],
             [
              0.4444444444444444,
              "#bd3786"
             ],
             [
              0.5555555555555556,
              "#d8576b"
             ],
             [
              0.6666666666666666,
              "#ed7953"
             ],
             [
              0.7777777777777778,
              "#fb9f3a"
             ],
             [
              0.8888888888888888,
              "#fdca26"
             ],
             [
              1,
              "#f0f921"
             ]
            ],
            "type": "heatmapgl"
           }
          ],
          "histogram": [
           {
            "marker": {
             "pattern": {
              "fillmode": "overlay",
              "size": 10,
              "solidity": 0.2
             }
            },
            "type": "histogram"
           }
          ],
          "histogram2d": [
           {
            "colorbar": {
             "outlinewidth": 0,
             "ticks": ""
            },
            "colorscale": [
             [
              0,
              "#0d0887"
             ],
             [
              0.1111111111111111,
              "#46039f"
             ],
             [
              0.2222222222222222,
              "#7201a8"
             ],
             [
              0.3333333333333333,
              "#9c179e"
             ],
             [
              0.4444444444444444,
              "#bd3786"
             ],
             [
              0.5555555555555556,
              "#d8576b"
             ],
             [
              0.6666666666666666,
              "#ed7953"
             ],
             [
              0.7777777777777778,
              "#fb9f3a"
             ],
             [
              0.8888888888888888,
              "#fdca26"
             ],
             [
              1,
              "#f0f921"
             ]
            ],
            "type": "histogram2d"
           }
          ],
          "histogram2dcontour": [
           {
            "colorbar": {
             "outlinewidth": 0,
             "ticks": ""
            },
            "colorscale": [
             [
              0,
              "#0d0887"
             ],
             [
              0.1111111111111111,
              "#46039f"
             ],
             [
              0.2222222222222222,
              "#7201a8"
             ],
             [
              0.3333333333333333,
              "#9c179e"
             ],
             [
              0.4444444444444444,
              "#bd3786"
             ],
             [
              0.5555555555555556,
              "#d8576b"
             ],
             [
              0.6666666666666666,
              "#ed7953"
             ],
             [
              0.7777777777777778,
              "#fb9f3a"
             ],
             [
              0.8888888888888888,
              "#fdca26"
             ],
             [
              1,
              "#f0f921"
             ]
            ],
            "type": "histogram2dcontour"
           }
          ],
          "mesh3d": [
           {
            "colorbar": {
             "outlinewidth": 0,
             "ticks": ""
            },
            "type": "mesh3d"
           }
          ],
          "parcoords": [
           {
            "line": {
             "colorbar": {
              "outlinewidth": 0,
              "ticks": ""
             }
            },
            "type": "parcoords"
           }
          ],
          "pie": [
           {
            "automargin": true,
            "type": "pie"
           }
          ],
          "scatter": [
           {
            "fillpattern": {
             "fillmode": "overlay",
             "size": 10,
             "solidity": 0.2
            },
            "type": "scatter"
           }
          ],
          "scatter3d": [
           {
            "line": {
             "colorbar": {
              "outlinewidth": 0,
              "ticks": ""
             }
            },
            "marker": {
             "colorbar": {
              "outlinewidth": 0,
              "ticks": ""
             }
            },
            "type": "scatter3d"
           }
          ],
          "scattercarpet": [
           {
            "marker": {
             "colorbar": {
              "outlinewidth": 0,
              "ticks": ""
             }
            },
            "type": "scattercarpet"
           }
          ],
          "scattergeo": [
           {
            "marker": {
             "colorbar": {
              "outlinewidth": 0,
              "ticks": ""
             }
            },
            "type": "scattergeo"
           }
          ],
          "scattergl": [
           {
            "marker": {
             "colorbar": {
              "outlinewidth": 0,
              "ticks": ""
             }
            },
            "type": "scattergl"
           }
          ],
          "scattermapbox": [
           {
            "marker": {
             "colorbar": {
              "outlinewidth": 0,
              "ticks": ""
             }
            },
            "type": "scattermapbox"
           }
          ],
          "scatterpolar": [
           {
            "marker": {
             "colorbar": {
              "outlinewidth": 0,
              "ticks": ""
             }
            },
            "type": "scatterpolar"
           }
          ],
          "scatterpolargl": [
           {
            "marker": {
             "colorbar": {
              "outlinewidth": 0,
              "ticks": ""
             }
            },
            "type": "scatterpolargl"
           }
          ],
          "scatterternary": [
           {
            "marker": {
             "colorbar": {
              "outlinewidth": 0,
              "ticks": ""
             }
            },
            "type": "scatterternary"
           }
          ],
          "surface": [
           {
            "colorbar": {
             "outlinewidth": 0,
             "ticks": ""
            },
            "colorscale": [
             [
              0,
              "#0d0887"
             ],
             [
              0.1111111111111111,
              "#46039f"
             ],
             [
              0.2222222222222222,
              "#7201a8"
             ],
             [
              0.3333333333333333,
              "#9c179e"
             ],
             [
              0.4444444444444444,
              "#bd3786"
             ],
             [
              0.5555555555555556,
              "#d8576b"
             ],
             [
              0.6666666666666666,
              "#ed7953"
             ],
             [
              0.7777777777777778,
              "#fb9f3a"
             ],
             [
              0.8888888888888888,
              "#fdca26"
             ],
             [
              1,
              "#f0f921"
             ]
            ],
            "type": "surface"
           }
          ],
          "table": [
           {
            "cells": {
             "fill": {
              "color": "#EBF0F8"
             },
             "line": {
              "color": "white"
             }
            },
            "header": {
             "fill": {
              "color": "#C8D4E3"
             },
             "line": {
              "color": "white"
             }
            },
            "type": "table"
           }
          ]
         },
         "layout": {
          "annotationdefaults": {
           "arrowcolor": "#2a3f5f",
           "arrowhead": 0,
           "arrowwidth": 1
          },
          "autotypenumbers": "strict",
          "coloraxis": {
           "colorbar": {
            "outlinewidth": 0,
            "ticks": ""
           }
          },
          "colorscale": {
           "diverging": [
            [
             0,
             "#8e0152"
            ],
            [
             0.1,
             "#c51b7d"
            ],
            [
             0.2,
             "#de77ae"
            ],
            [
             0.3,
             "#f1b6da"
            ],
            [
             0.4,
             "#fde0ef"
            ],
            [
             0.5,
             "#f7f7f7"
            ],
            [
             0.6,
             "#e6f5d0"
            ],
            [
             0.7,
             "#b8e186"
            ],
            [
             0.8,
             "#7fbc41"
            ],
            [
             0.9,
             "#4d9221"
            ],
            [
             1,
             "#276419"
            ]
           ],
           "sequential": [
            [
             0,
             "#0d0887"
            ],
            [
             0.1111111111111111,
             "#46039f"
            ],
            [
             0.2222222222222222,
             "#7201a8"
            ],
            [
             0.3333333333333333,
             "#9c179e"
            ],
            [
             0.4444444444444444,
             "#bd3786"
            ],
            [
             0.5555555555555556,
             "#d8576b"
            ],
            [
             0.6666666666666666,
             "#ed7953"
            ],
            [
             0.7777777777777778,
             "#fb9f3a"
            ],
            [
             0.8888888888888888,
             "#fdca26"
            ],
            [
             1,
             "#f0f921"
            ]
           ],
           "sequentialminus": [
            [
             0,
             "#0d0887"
            ],
            [
             0.1111111111111111,
             "#46039f"
            ],
            [
             0.2222222222222222,
             "#7201a8"
            ],
            [
             0.3333333333333333,
             "#9c179e"
            ],
            [
             0.4444444444444444,
             "#bd3786"
            ],
            [
             0.5555555555555556,
             "#d8576b"
            ],
            [
             0.6666666666666666,
             "#ed7953"
            ],
            [
             0.7777777777777778,
             "#fb9f3a"
            ],
            [
             0.8888888888888888,
             "#fdca26"
            ],
            [
             1,
             "#f0f921"
            ]
           ]
          },
          "colorway": [
           "#636efa",
           "#EF553B",
           "#00cc96",
           "#ab63fa",
           "#FFA15A",
           "#19d3f3",
           "#FF6692",
           "#B6E880",
           "#FF97FF",
           "#FECB52"
          ],
          "font": {
           "color": "#2a3f5f"
          },
          "geo": {
           "bgcolor": "white",
           "lakecolor": "white",
           "landcolor": "#E5ECF6",
           "showlakes": true,
           "showland": true,
           "subunitcolor": "white"
          },
          "hoverlabel": {
           "align": "left"
          },
          "hovermode": "closest",
          "mapbox": {
           "style": "light"
          },
          "paper_bgcolor": "white",
          "plot_bgcolor": "#E5ECF6",
          "polar": {
           "angularaxis": {
            "gridcolor": "white",
            "linecolor": "white",
            "ticks": ""
           },
           "bgcolor": "#E5ECF6",
           "radialaxis": {
            "gridcolor": "white",
            "linecolor": "white",
            "ticks": ""
           }
          },
          "scene": {
           "xaxis": {
            "backgroundcolor": "#E5ECF6",
            "gridcolor": "white",
            "gridwidth": 2,
            "linecolor": "white",
            "showbackground": true,
            "ticks": "",
            "zerolinecolor": "white"
           },
           "yaxis": {
            "backgroundcolor": "#E5ECF6",
            "gridcolor": "white",
            "gridwidth": 2,
            "linecolor": "white",
            "showbackground": true,
            "ticks": "",
            "zerolinecolor": "white"
           },
           "zaxis": {
            "backgroundcolor": "#E5ECF6",
            "gridcolor": "white",
            "gridwidth": 2,
            "linecolor": "white",
            "showbackground": true,
            "ticks": "",
            "zerolinecolor": "white"
           }
          },
          "shapedefaults": {
           "line": {
            "color": "#2a3f5f"
           }
          },
          "ternary": {
           "aaxis": {
            "gridcolor": "white",
            "linecolor": "white",
            "ticks": ""
           },
           "baxis": {
            "gridcolor": "white",
            "linecolor": "white",
            "ticks": ""
           },
           "bgcolor": "#E5ECF6",
           "caxis": {
            "gridcolor": "white",
            "linecolor": "white",
            "ticks": ""
           }
          },
          "title": {
           "x": 0.05
          },
          "xaxis": {
           "automargin": true,
           "gridcolor": "white",
           "linecolor": "white",
           "ticks": "",
           "title": {
            "standoff": 15
           },
           "zerolinecolor": "white",
           "zerolinewidth": 2
          },
          "yaxis": {
           "automargin": true,
           "gridcolor": "white",
           "linecolor": "white",
           "ticks": "",
           "title": {
            "standoff": 15
           },
           "zerolinecolor": "white",
           "zerolinewidth": 2
          }
         }
        },
        "xaxis": {
         "anchor": "y",
         "domain": [
          0.55,
          1
         ],
         "rangeselector": {
          "buttons": [
           {
            "count": 1,
            "label": "1m",
            "step": "month",
            "stepmode": "backward"
           },
           {
            "count": 3,
            "label": "3m",
            "step": "month",
            "stepmode": "backward"
           },
           {
            "count": 6,
            "label": "6m",
            "step": "month",
            "stepmode": "backward"
           },
           {
            "step": "all"
           }
          ]
         },
         "rangeslider": {
          "visible": true
         },
         "type": "date"
        },
        "yaxis": {
         "anchor": "x",
         "domain": [
          0,
          1
         ]
        }
       }
      }
     },
     "metadata": {},
     "output_type": "display_data"
    }
   ],
   "source": [
    "import plotly.graph_objects as go\n",
    "import pandas as pd\n",
    "from plotly.subplots import make_subplots\n",
    "\n",
    "def create_pie_and_bar_with_slider(df):\n",
    "    # Melt into long format\n",
    "    df_long = df.melt(id_vars=\"Category\", var_name=\"Month\", value_name=\"Value\")\n",
    "    df_long[\"Month\"] = pd.to_datetime(df_long[\"Month\"])\n",
    "\n",
    "    # Aggregate total values for each month (for bar)\n",
    "    totals = df_long.groupby([\"Month\", \"Category\"])[\"Value\"].sum().reset_index()\n",
    "\n",
    "    # Initial aggregation (all months)\n",
    "    initial = df_long.groupby(\"Category\")[\"Value\"].sum().reset_index()\n",
    "\n",
    "    # Create subplots: pie + bar\n",
    "    fig = make_subplots(\n",
    "        rows=1, cols=2,\n",
    "        specs=[[{\"type\": \"domain\"}, {\"type\": \"xy\"}]],\n",
    "        #subplot_titles=[\"Cash Flow Distribution (Aggregated)\", \"Stacked Bar\"]\n",
    "    )\n",
    "\n",
    "    # Initial pie\n",
    "    fig.add_trace(go.Pie(\n",
    "        labels=initial[\"Category\"],\n",
    "        values=initial[\"Value\"],\n",
    "        textinfo=\"label+percent\",\n",
    "        name=\"Total\"\n",
    "    ), row=1, col=1)\n",
    "\n",
    "    # Initial bar (stacked per month)\n",
    "    for cat in totals[\"Category\"].unique():\n",
    "        cat_data = totals[totals[\"Category\"] == cat]\n",
    "        fig.add_trace(go.Bar(\n",
    "            x=cat_data[\"Month\"],\n",
    "            y=cat_data[\"Value\"],\n",
    "            name=cat\n",
    "        ), row=1, col=2)\n",
    "\n",
    "    # Layout with range slider\n",
    "    fig.update_layout(\n",
    "        barmode=\"stack\",\n",
    "        showlegend=True,\n",
    "        xaxis={\n",
    "            \"rangeselector\": {\n",
    "                \"buttons\": [\n",
    "                    {\"count\": 1, \"label\": \"1m\", \"step\": \"month\", \"stepmode\": \"backward\"},\n",
    "                    {\"count\": 3, \"label\": \"3m\", \"step\": \"month\", \"stepmode\": \"backward\"},\n",
    "                    {\"count\": 6, \"label\": \"6m\", \"step\": \"month\", \"stepmode\": \"backward\"},\n",
    "                    {\"step\": \"all\"}\n",
    "                ]\n",
    "            },\n",
    "            \"rangeslider\": {\"visible\": True},\n",
    "            \"type\": \"date\"\n",
    "        }\n",
    "    )\n",
    "\n",
    "    return fig\n",
    "\n",
    "\n",
    "# Example usage:\n",
    "# df = your DataFrame with \"Category\" + months as columns\n",
    "fig = create_pie_and_bar_with_slider(df)\n",
    "fig.show()\n"
   ]
  },
  {
   "cell_type": "code",
   "execution_count": 50,
   "id": "ad2c57e5",
   "metadata": {},
   "outputs": [
    {
     "data": {
      "application/vnd.jupyter.widget-view+json": {
       "model_id": "9f885439f8ce49079f2a437aac06ef08",
       "version_major": 2,
       "version_minor": 0
      },
      "text/plain": [
       "SelectionRangeSlider(continuous_update=False, description='Period:', index=(0, 10), layout=Layout(width='80%')…"
      ]
     },
     "metadata": {},
     "output_type": "display_data"
    },
    {
     "data": {
      "application/vnd.jupyter.widget-view+json": {
       "model_id": "9388a45eb2ca4a318fd6205e900fffa1",
       "version_major": 2,
       "version_minor": 0
      },
      "text/plain": [
       "Dropdown(description='Category:', options=('All', 'MWAN Project ', 'NWC Project'), style=DescriptionStyle(desc…"
      ]
     },
     "metadata": {},
     "output_type": "display_data"
    },
    {
     "data": {
      "application/vnd.jupyter.widget-view+json": {
       "model_id": "27e53cceac4949158cdf3b26d47a0e15",
       "version_major": 2,
       "version_minor": 0
      },
      "text/plain": [
       "Output()"
      ]
     },
     "metadata": {},
     "output_type": "display_data"
    }
   ],
   "source": [
    "import plotly.graph_objects as go\n",
    "import pandas as pd\n",
    "from plotly.subplots import make_subplots\n",
    "import ipywidgets as widgets\n",
    "from IPython.display import display\n",
    "\n",
    "\n",
    "df = operating_cf_in[:len(operating_cf_in)]\n",
    "def create_pie_and_bar_with_interactive_slider(df):\n",
    "    # Melt into long format\n",
    "    df_long = df[:len(df)-1].melt(id_vars=[\"Category\", \"Item\"], var_name=\"Month\", value_name=\"Value\")\n",
    "    df_long[\"Month\"] = pd.to_datetime(df_long[\"Month\"])\n",
    "    months = sorted(df_long[\"Month\"].unique())\n",
    "\n",
    "    # Build slider options with index\n",
    "    options = [(f\"{m.strftime('%Y-%m')}\", m) for i, m in enumerate(months)]\n",
    "\n",
    "    # Slider for selecting range\n",
    "    slider = widgets.SelectionRangeSlider(\n",
    "        options=options,\n",
    "        index=(0, len(months)-1),\n",
    "        description='Period:',\n",
    "        continuous_update=False,\n",
    "        layout={'width': '80%'},\n",
    "        style={'description_width': 'initial'}\n",
    "    )\n",
    "\n",
    "     # Dropdown for category selection\n",
    "    category_selector = widgets.Dropdown(\n",
    "        options=[\"All\"] + sorted(df_long[\"Category\"].astype(str).unique().tolist()),\n",
    "        value=\"All\",\n",
    "        description=\"Category:\",\n",
    "        style={'description_width': 'initial'}\n",
    "    )\n",
    "\n",
    "    out = widgets.Output()\n",
    "\n",
    "    def update_chart(change=None):\n",
    "        with out:\n",
    "            out.clear_output()\n",
    "\n",
    "            # Selected range\n",
    "            start, end = slider.value\n",
    "            mask = (df_long[\"Month\"] >= start) & (df_long[\"Month\"] <= end)\n",
    "            selected = df_long[mask]\n",
    "\n",
    "            # Apply category filter if not \"All\"\n",
    "            if category_selector.value != \"All\":\n",
    "                selected = selected[selected[\"Category\"] == category_selector.value]\n",
    "\n",
    "            # Pie aggregation (Category or Item depending on filter)\n",
    "            if category_selector.value == \"All\":\n",
    "                pie_data = selected.groupby(\"Category\")[\"Value\"].sum().reset_index()\n",
    "                pie_labels = pie_data[\"Category\"]\n",
    "            else:\n",
    "                pie_data = selected.groupby(\"Item\")[\"Value\"].sum().reset_index()\n",
    "                pie_labels = pie_data[\"Item\"]\n",
    "\n",
    "            # Bar aggregation\n",
    "            bar_data = selected.groupby([\"Month\",\"Category\"])[\"Value\"].sum().reset_index()\n",
    "\n",
    "            # Create figure\n",
    "            fig = make_subplots(\n",
    "                rows=1, cols=2,\n",
    "                specs=[[{\"type\": \"domain\"}, {\"type\": \"xy\"}]]\n",
    "            )\n",
    "\n",
    "            # Pie\n",
    "            fig.add_trace(go.Pie(\n",
    "                labels=pie_labels,\n",
    "                values=pie_data[\"Value\"],\n",
    "                textinfo=\"label+percent\"\n",
    "            ), row=1, col=1)\n",
    "\n",
    "            # Bar\n",
    "            for cat in bar_data[\"Category\"].unique():\n",
    "                cat_data = bar_data[bar_data[\"Category\"] == cat]\n",
    "                fig.add_trace(go.Bar(\n",
    "                    x=cat_data[\"Month\"],\n",
    "                    y=cat_data[\"Value\"]/1000,\n",
    "                    name=cat,\n",
    "                ), row=1, col=2)\n",
    "\n",
    "            fig.update_layout(barmode=\"stack\", showlegend=True)\n",
    "            fig.show()\n",
    "\n",
    "    # Attach callbacks\n",
    "    slider.observe(update_chart, names=\"value\")\n",
    "    category_selector.observe(update_chart, names=\"value\")\n",
    "\n",
    "    display(slider, category_selector, out)\n",
    "\n",
    "    # Trigger initial plot\n",
    "    update_chart()\n",
    "\n",
    "# Example usage:\n",
    "# df must have columns [\"Category\", \"Item\", <months>...]\n",
    "create_pie_and_bar_with_interactive_slider(df)\n"
   ]
  },
  {
   "cell_type": "code",
   "execution_count": 51,
   "id": "cbbe17e5",
   "metadata": {},
   "outputs": [
    {
     "data": {
      "application/vnd.jupyter.widget-view+json": {
       "model_id": "086f83b6b09d4177ba37943f1114e78c",
       "version_major": 2,
       "version_minor": 0
      },
      "text/plain": [
       "SelectionRangeSlider(continuous_update=False, description='Period:', index=(0, 10), layout=Layout(width='80%')…"
      ]
     },
     "metadata": {},
     "output_type": "display_data"
    },
    {
     "data": {
      "application/vnd.jupyter.widget-view+json": {
       "model_id": "bcb85e4db25e4878895e9a15b0c94457",
       "version_major": 2,
       "version_minor": 0
      },
      "text/plain": [
       "Dropdown(description='Category:', options=('All', 'MWAN Project ', 'NWC Project'), style=DescriptionStyle(desc…"
      ]
     },
     "metadata": {},
     "output_type": "display_data"
    },
    {
     "data": {
      "application/vnd.jupyter.widget-view+json": {
       "model_id": "f62e658cd22c493f8b6337c6c054a748",
       "version_major": 2,
       "version_minor": 0
      },
      "text/plain": [
       "Output()"
      ]
     },
     "metadata": {},
     "output_type": "display_data"
    }
   ],
   "source": [
    "import plotly.graph_objects as go\n",
    "import pandas as pd\n",
    "from plotly.subplots import make_subplots\n",
    "import ipywidgets as widgets\n",
    "from IPython.display import display\n",
    "\n",
    "def create_pie_and_bar_with_interactive_slider(df):\n",
    "    # Melt into long format\n",
    "    df_long = df[:len(df)-1].melt(id_vars=[\"Category\", \"Item\"], var_name=\"Month\", value_name=\"Value\")\n",
    "    df_long[\"Month\"] = pd.to_datetime(df_long[\"Month\"])\n",
    "    months = sorted(df_long[\"Month\"].unique())\n",
    "\n",
    "    # Slider for selecting range\n",
    "    options = [(f\"{m.strftime('%Y-%m')}\", m) for m in months]\n",
    "    slider = widgets.SelectionRangeSlider(\n",
    "        options=options,\n",
    "        index=(0, len(months)-1),\n",
    "        description='Period:',\n",
    "        continuous_update=False,\n",
    "        layout={'width': '80%'},\n",
    "        style={'description_width': 'initial'}\n",
    "    )\n",
    "\n",
    "    # Dropdown for category selection\n",
    "    category_selector = widgets.Dropdown(\n",
    "        options=[\"All\"] + sorted(df_long[\"Category\"].astype(str).unique().tolist()),\n",
    "        value=\"All\",\n",
    "        description=\"Category:\",\n",
    "        style={'description_width': 'initial'}\n",
    "    )\n",
    "\n",
    "    out = widgets.Output()\n",
    "\n",
    "    def update_chart(change=None):\n",
    "        with out:\n",
    "            out.clear_output()\n",
    "\n",
    "            # Selected range\n",
    "            start, end = slider.value\n",
    "            mask = (df_long[\"Month\"] >= start) & (df_long[\"Month\"] <= end)\n",
    "            selected = df_long[mask]\n",
    "\n",
    "            # Apply category filter if not \"All\"\n",
    "            if category_selector.value != \"All\":\n",
    "                selected = selected[selected[\"Category\"] == category_selector.value]\n",
    "\n",
    "            # Pie aggregation\n",
    "            if category_selector.value == \"All\":\n",
    "                pie_data = selected.groupby(\"Category\")[\"Value\"].sum().reset_index()\n",
    "                pie_labels = pie_data[\"Category\"]\n",
    "            else:\n",
    "                pie_data = selected.groupby(\"Item\")[\"Value\"].sum().reset_index()\n",
    "                pie_labels = pie_data[\"Item\"]\n",
    "\n",
    "            # Bar aggregation\n",
    "            if category_selector.value == \"All\":\n",
    "                bar_data = selected.groupby([\"Month\", \"Category\"])[\"Value\"].sum().reset_index()\n",
    "                bar_groups = bar_data[\"Category\"].unique()\n",
    "                group_col = \"Category\"\n",
    "            else:\n",
    "                bar_data = selected.groupby([\"Month\", \"Item\"])[\"Value\"].sum().reset_index()\n",
    "                bar_groups = bar_data[\"Item\"].unique()\n",
    "                group_col = \"Item\"\n",
    "\n",
    "            # Create figure\n",
    "            fig = make_subplots(\n",
    "                rows=1, cols=2,\n",
    "                specs=[[{\"type\": \"domain\"}, {\"type\": \"xy\"}]]\n",
    "            )\n",
    "\n",
    "            # Pie\n",
    "            fig.add_trace(go.Pie(\n",
    "                labels=pie_labels,\n",
    "                values=pie_data[\"Value\"],\n",
    "                textinfo=\"label+percent\"\n",
    "            ), row=1, col=1)\n",
    "\n",
    "            # Bar (stacked by Category or Item)\n",
    "            for grp in bar_groups:\n",
    "                grp_data = bar_data[bar_data[group_col] == grp]\n",
    "                fig.add_trace(go.Bar(\n",
    "                    x=grp_data[\"Month\"],\n",
    "                    y=grp_data[\"Value\"]/1000,  # divide by 1000 if needed\n",
    "                    name=grp,\n",
    "                ), row=1, col=2)\n",
    "\n",
    "            fig.update_layout(barmode=\"stack\", showlegend=True)\n",
    "            fig.show()\n",
    "\n",
    "    # Attach callbacks\n",
    "    slider.observe(update_chart, names=\"value\")\n",
    "    category_selector.observe(update_chart, names=\"value\")\n",
    "\n",
    "    display(slider, category_selector, out)\n",
    "\n",
    "    # Trigger initial plot\n",
    "    update_chart()\n",
    "\n",
    "# Example usage:\n",
    "# df must have columns [\"Category\", \"Item\", <months>...]\n",
    "create_pie_and_bar_with_interactive_slider(df)\n"
   ]
  },
  {
   "cell_type": "code",
   "execution_count": null,
   "id": "d2c8bb56",
   "metadata": {},
   "outputs": [],
   "source": []
  }
 ],
 "metadata": {
  "kernelspec": {
   "display_name": "base",
   "language": "python",
   "name": "python3"
  },
  "language_info": {
   "codemirror_mode": {
    "name": "ipython",
    "version": 3
   },
   "file_extension": ".py",
   "mimetype": "text/x-python",
   "name": "python",
   "nbconvert_exporter": "python",
   "pygments_lexer": "ipython3",
   "version": "3.9.19"
  }
 },
 "nbformat": 4,
 "nbformat_minor": 5
}
