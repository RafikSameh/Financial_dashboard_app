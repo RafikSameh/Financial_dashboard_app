{
 "cells": [
  {
   "cell_type": "code",
   "execution_count": 1,
   "id": "937e262d",
   "metadata": {},
   "outputs": [],
   "source": [
    "from Data_Handler import Data_Handler\n",
    "from utils import plot_diagrams\n",
    "import pandas as pd\n",
    "import warnings\n",
    "warnings.filterwarnings(\"ignore\")"
   ]
  },
  {
   "cell_type": "code",
   "execution_count": 2,
   "id": "902788b1",
   "metadata": {},
   "outputs": [],
   "source": [
    "Data = Data_Handler(\"Cash flow Forecasting. Yomn - RS.xlsx\")"
   ]
  },
  {
   "cell_type": "code",
   "execution_count": 3,
   "id": "f02b8aad",
   "metadata": {},
   "outputs": [
    {
     "data": {
      "text/html": [
       "<div>\n",
       "<style scoped>\n",
       "    .dataframe tbody tr th:only-of-type {\n",
       "        vertical-align: middle;\n",
       "    }\n",
       "\n",
       "    .dataframe tbody tr th {\n",
       "        vertical-align: top;\n",
       "    }\n",
       "\n",
       "    .dataframe thead th {\n",
       "        text-align: right;\n",
       "    }\n",
       "</style>\n",
       "<table border=\"1\" class=\"dataframe\">\n",
       "  <thead>\n",
       "    <tr style=\"text-align: right;\">\n",
       "      <th></th>\n",
       "      <th>Country</th>\n",
       "      <th>Cash Flow Type</th>\n",
       "      <th>Category</th>\n",
       "      <th>Item</th>\n",
       "      <th>2025-08-01 00:00:00</th>\n",
       "      <th>2025-09-01 00:00:00</th>\n",
       "      <th>2025-10-01 00:00:00</th>\n",
       "      <th>2025-11-01 00:00:00</th>\n",
       "      <th>2025-12-01 00:00:00</th>\n",
       "      <th>2026-01-01 00:00:00</th>\n",
       "      <th>2026-02-01 00:00:00</th>\n",
       "      <th>2026-03-01 00:00:00</th>\n",
       "      <th>2026-04-01 00:00:00</th>\n",
       "      <th>2026-05-01 00:00:00</th>\n",
       "      <th>2026-06-01 00:00:00</th>\n",
       "    </tr>\n",
       "  </thead>\n",
       "  <tbody>\n",
       "    <tr>\n",
       "      <th>3</th>\n",
       "      <td>NaN</td>\n",
       "      <td>NaN</td>\n",
       "      <td>1</td>\n",
       "      <td>Operating Cash Inflow</td>\n",
       "      <td>NaN</td>\n",
       "      <td>NaN</td>\n",
       "      <td>NaN</td>\n",
       "      <td>NaN</td>\n",
       "      <td>NaN</td>\n",
       "      <td>NaN</td>\n",
       "      <td>NaN</td>\n",
       "      <td>NaN</td>\n",
       "      <td>NaN</td>\n",
       "      <td>NaN</td>\n",
       "      <td>NaN</td>\n",
       "    </tr>\n",
       "    <tr>\n",
       "      <th>4</th>\n",
       "      <td>KSA</td>\n",
       "      <td>Operating Cash Inflow</td>\n",
       "      <td>NWC Project</td>\n",
       "      <td>NWC Project - Consulting</td>\n",
       "      <td>NaN</td>\n",
       "      <td>94764.6</td>\n",
       "      <td>1000000</td>\n",
       "      <td>300000</td>\n",
       "      <td>300000</td>\n",
       "      <td>300000</td>\n",
       "      <td>300000</td>\n",
       "      <td>300000</td>\n",
       "      <td>300000</td>\n",
       "      <td>300000</td>\n",
       "      <td>300000</td>\n",
       "    </tr>\n",
       "    <tr>\n",
       "      <th>5</th>\n",
       "      <td>KSA</td>\n",
       "      <td>Operating Cash Inflow</td>\n",
       "      <td>NWC Project</td>\n",
       "      <td>NWC Project - Non-Consulting</td>\n",
       "      <td>NaN</td>\n",
       "      <td>NaN</td>\n",
       "      <td>NaN</td>\n",
       "      <td>NaN</td>\n",
       "      <td>NaN</td>\n",
       "      <td>NaN</td>\n",
       "      <td>NaN</td>\n",
       "      <td>NaN</td>\n",
       "      <td>NaN</td>\n",
       "      <td>NaN</td>\n",
       "      <td>NaN</td>\n",
       "    </tr>\n",
       "    <tr>\n",
       "      <th>6</th>\n",
       "      <td>KSA</td>\n",
       "      <td>Operating Cash Inflow</td>\n",
       "      <td>NWC Project</td>\n",
       "      <td>NWC Project - Consulting and Non-Consulting</td>\n",
       "      <td>NaN</td>\n",
       "      <td>NaN</td>\n",
       "      <td>161462</td>\n",
       "      <td>NaN</td>\n",
       "      <td>NaN</td>\n",
       "      <td>NaN</td>\n",
       "      <td>NaN</td>\n",
       "      <td>NaN</td>\n",
       "      <td>NaN</td>\n",
       "      <td>NaN</td>\n",
       "      <td>NaN</td>\n",
       "    </tr>\n",
       "    <tr>\n",
       "      <th>7</th>\n",
       "      <td>KSA</td>\n",
       "      <td>Operating Cash Inflow</td>\n",
       "      <td>MWAN Project</td>\n",
       "      <td>MWAN Project</td>\n",
       "      <td>NaN</td>\n",
       "      <td>NaN</td>\n",
       "      <td>194977</td>\n",
       "      <td>NaN</td>\n",
       "      <td>NaN</td>\n",
       "      <td>NaN</td>\n",
       "      <td>NaN</td>\n",
       "      <td>NaN</td>\n",
       "      <td>NaN</td>\n",
       "      <td>NaN</td>\n",
       "      <td>NaN</td>\n",
       "    </tr>\n",
       "    <tr>\n",
       "      <th>8</th>\n",
       "      <td>KSA</td>\n",
       "      <td>Operating Cash Inflow</td>\n",
       "      <td>MWAN Project</td>\n",
       "      <td>MWAN Project - LG refund</td>\n",
       "      <td>NaN</td>\n",
       "      <td>NaN</td>\n",
       "      <td>NaN</td>\n",
       "      <td>NaN</td>\n",
       "      <td>75000</td>\n",
       "      <td>NaN</td>\n",
       "      <td>NaN</td>\n",
       "      <td>NaN</td>\n",
       "      <td>NaN</td>\n",
       "      <td>NaN</td>\n",
       "      <td>NaN</td>\n",
       "    </tr>\n",
       "    <tr>\n",
       "      <th>9</th>\n",
       "      <td>NaN</td>\n",
       "      <td>NaN</td>\n",
       "      <td>NaN</td>\n",
       "      <td>Total Operating Cash Inflow</td>\n",
       "      <td>0</td>\n",
       "      <td>94764.6</td>\n",
       "      <td>1356439</td>\n",
       "      <td>300000</td>\n",
       "      <td>375000</td>\n",
       "      <td>300000</td>\n",
       "      <td>300000</td>\n",
       "      <td>300000</td>\n",
       "      <td>300000</td>\n",
       "      <td>300000</td>\n",
       "      <td>300000</td>\n",
       "    </tr>\n",
       "    <tr>\n",
       "      <th>10</th>\n",
       "      <td>NaN</td>\n",
       "      <td>NaN</td>\n",
       "      <td>2</td>\n",
       "      <td>Operating Cash Outflow</td>\n",
       "      <td>NaN</td>\n",
       "      <td>NaN</td>\n",
       "      <td>NaN</td>\n",
       "      <td>NaN</td>\n",
       "      <td>NaN</td>\n",
       "      <td>NaN</td>\n",
       "      <td>NaN</td>\n",
       "      <td>NaN</td>\n",
       "      <td>NaN</td>\n",
       "      <td>NaN</td>\n",
       "      <td>NaN</td>\n",
       "    </tr>\n",
       "    <tr>\n",
       "      <th>11</th>\n",
       "      <td>KSA</td>\n",
       "      <td>Operating Cash Outflow</td>\n",
       "      <td>Personnel</td>\n",
       "      <td>Salaries</td>\n",
       "      <td>NaN</td>\n",
       "      <td>-191500</td>\n",
       "      <td>-136000</td>\n",
       "      <td>-136000</td>\n",
       "      <td>-136000</td>\n",
       "      <td>-136000</td>\n",
       "      <td>-136000</td>\n",
       "      <td>-128000</td>\n",
       "      <td>-128000</td>\n",
       "      <td>-128000</td>\n",
       "      <td>-128000</td>\n",
       "    </tr>\n",
       "    <tr>\n",
       "      <th>12</th>\n",
       "      <td>KSA</td>\n",
       "      <td>Operating Cash Outflow</td>\n",
       "      <td>Personnel</td>\n",
       "      <td>End Of Services</td>\n",
       "      <td>NaN</td>\n",
       "      <td>-47248.33</td>\n",
       "      <td>-63766.83</td>\n",
       "      <td>0</td>\n",
       "      <td>0</td>\n",
       "      <td>0</td>\n",
       "      <td>0</td>\n",
       "      <td>0</td>\n",
       "      <td>0</td>\n",
       "      <td>0</td>\n",
       "      <td>0</td>\n",
       "    </tr>\n",
       "    <tr>\n",
       "      <th>13</th>\n",
       "      <td>KSA</td>\n",
       "      <td>Operating Cash Outflow</td>\n",
       "      <td>Personnel</td>\n",
       "      <td>GOSI</td>\n",
       "      <td>NaN</td>\n",
       "      <td>-10036.63</td>\n",
       "      <td>-10036.63</td>\n",
       "      <td>-10036.63</td>\n",
       "      <td>-10036.63</td>\n",
       "      <td>-10036.63</td>\n",
       "      <td>-10036.63</td>\n",
       "      <td>-10036.63</td>\n",
       "      <td>-10036.63</td>\n",
       "      <td>-10036.63</td>\n",
       "      <td>-10036.63</td>\n",
       "    </tr>\n",
       "    <tr>\n",
       "      <th>14</th>\n",
       "      <td>KSA</td>\n",
       "      <td>Operating Cash Outflow</td>\n",
       "      <td>Personnel</td>\n",
       "      <td>Iqama renewal</td>\n",
       "      <td>NaN</td>\n",
       "      <td>NaN</td>\n",
       "      <td>NaN</td>\n",
       "      <td>-9150</td>\n",
       "      <td>-9150</td>\n",
       "      <td>NaN</td>\n",
       "      <td>NaN</td>\n",
       "      <td>NaN</td>\n",
       "      <td>NaN</td>\n",
       "      <td>NaN</td>\n",
       "      <td>NaN</td>\n",
       "    </tr>\n",
       "    <tr>\n",
       "      <th>15</th>\n",
       "      <td>KSA</td>\n",
       "      <td>Operating Cash Outflow</td>\n",
       "      <td>Personnel</td>\n",
       "      <td>Medical Insurance</td>\n",
       "      <td>NaN</td>\n",
       "      <td>NaN</td>\n",
       "      <td>NaN</td>\n",
       "      <td>NaN</td>\n",
       "      <td>-67101</td>\n",
       "      <td>NaN</td>\n",
       "      <td>NaN</td>\n",
       "      <td>NaN</td>\n",
       "      <td>NaN</td>\n",
       "      <td>NaN</td>\n",
       "      <td>NaN</td>\n",
       "    </tr>\n",
       "    <tr>\n",
       "      <th>16</th>\n",
       "      <td>KSA</td>\n",
       "      <td>Operating Cash Outflow</td>\n",
       "      <td>Personnel</td>\n",
       "      <td>Ahmed Gharawy - Benefits -Tickets</td>\n",
       "      <td>NaN</td>\n",
       "      <td>NaN</td>\n",
       "      <td>NaN</td>\n",
       "      <td>NaN</td>\n",
       "      <td>NaN</td>\n",
       "      <td>NaN</td>\n",
       "      <td>NaN</td>\n",
       "      <td>NaN</td>\n",
       "      <td>NaN</td>\n",
       "      <td>-9600</td>\n",
       "      <td>NaN</td>\n",
       "    </tr>\n",
       "    <tr>\n",
       "      <th>17</th>\n",
       "      <td>KSA</td>\n",
       "      <td>Operating Cash Outflow</td>\n",
       "      <td>Personnel</td>\n",
       "      <td>KSA Accountant - general:</td>\n",
       "      <td>NaN</td>\n",
       "      <td>-6000</td>\n",
       "      <td>-6000</td>\n",
       "      <td>-6000</td>\n",
       "      <td>-6000</td>\n",
       "      <td>-6000</td>\n",
       "      <td>-6000</td>\n",
       "      <td>-6000</td>\n",
       "      <td>-6000</td>\n",
       "      <td>-6000</td>\n",
       "      <td>-6000</td>\n",
       "    </tr>\n",
       "    <tr>\n",
       "      <th>18</th>\n",
       "      <td>KSA</td>\n",
       "      <td>Operating Cash Outflow</td>\n",
       "      <td>Recruitment</td>\n",
       "      <td>Linkedin Exp</td>\n",
       "      <td>NaN</td>\n",
       "      <td>-10000</td>\n",
       "      <td>-5000</td>\n",
       "      <td>-5000</td>\n",
       "      <td>-5000</td>\n",
       "      <td>-5000</td>\n",
       "      <td>-5000</td>\n",
       "      <td>-5000</td>\n",
       "      <td>-5000</td>\n",
       "      <td>-5000</td>\n",
       "      <td>-5000</td>\n",
       "    </tr>\n",
       "    <tr>\n",
       "      <th>19</th>\n",
       "      <td>KSA</td>\n",
       "      <td>Operating Cash Outflow</td>\n",
       "      <td>Vendor</td>\n",
       "      <td>La Aseer Project - Vendor</td>\n",
       "      <td>-18692.2</td>\n",
       "      <td>-18692.2</td>\n",
       "      <td>-18692.2</td>\n",
       "      <td>-18692.2</td>\n",
       "      <td>-18692.2</td>\n",
       "      <td>NaN</td>\n",
       "      <td>NaN</td>\n",
       "      <td>NaN</td>\n",
       "      <td>NaN</td>\n",
       "      <td>NaN</td>\n",
       "      <td>NaN</td>\n",
       "    </tr>\n",
       "    <tr>\n",
       "      <th>20</th>\n",
       "      <td>KSA</td>\n",
       "      <td>Operating Cash Outflow</td>\n",
       "      <td>Vendor</td>\n",
       "      <td>La Aseer Project - Vendor</td>\n",
       "      <td>-8675.6</td>\n",
       "      <td>-8675.6</td>\n",
       "      <td>-8675.6</td>\n",
       "      <td>-8675.6</td>\n",
       "      <td>-8675.6</td>\n",
       "      <td>NaN</td>\n",
       "      <td>NaN</td>\n",
       "      <td>NaN</td>\n",
       "      <td>NaN</td>\n",
       "      <td>NaN</td>\n",
       "      <td>NaN</td>\n",
       "    </tr>\n",
       "    <tr>\n",
       "      <th>21</th>\n",
       "      <td>KSA</td>\n",
       "      <td>Operating Cash Outflow</td>\n",
       "      <td>Vendor</td>\n",
       "      <td>MWAN Project -Ata allah Photographer</td>\n",
       "      <td>-15000</td>\n",
       "      <td>-15000</td>\n",
       "      <td>-15000</td>\n",
       "      <td>NaN</td>\n",
       "      <td>NaN</td>\n",
       "      <td>NaN</td>\n",
       "      <td>NaN</td>\n",
       "      <td>NaN</td>\n",
       "      <td>NaN</td>\n",
       "      <td>NaN</td>\n",
       "      <td>NaN</td>\n",
       "    </tr>\n",
       "    <tr>\n",
       "      <th>22</th>\n",
       "      <td>KSA</td>\n",
       "      <td>Operating Cash Outflow</td>\n",
       "      <td>Vendor</td>\n",
       "      <td>MWAN Project -Dar Nassah</td>\n",
       "      <td>-19481</td>\n",
       "      <td>-19481</td>\n",
       "      <td>-19481</td>\n",
       "      <td>-19481</td>\n",
       "      <td>-19481</td>\n",
       "      <td>NaN</td>\n",
       "      <td>NaN</td>\n",
       "      <td>NaN</td>\n",
       "      <td>NaN</td>\n",
       "      <td>NaN</td>\n",
       "      <td>NaN</td>\n",
       "    </tr>\n",
       "    <tr>\n",
       "      <th>23</th>\n",
       "      <td>KSA</td>\n",
       "      <td>Operating Cash Outflow</td>\n",
       "      <td>Vendor</td>\n",
       "      <td>NWC Vendor</td>\n",
       "      <td>-26000</td>\n",
       "      <td>NaN</td>\n",
       "      <td>NaN</td>\n",
       "      <td>NaN</td>\n",
       "      <td>NaN</td>\n",
       "      <td>NaN</td>\n",
       "      <td>NaN</td>\n",
       "      <td>NaN</td>\n",
       "      <td>NaN</td>\n",
       "      <td>NaN</td>\n",
       "      <td>NaN</td>\n",
       "    </tr>\n",
       "    <tr>\n",
       "      <th>24</th>\n",
       "      <td>KSA</td>\n",
       "      <td>Operating Cash Outflow</td>\n",
       "      <td>Subscriptions</td>\n",
       "      <td>Microsoft 365</td>\n",
       "      <td>NaN</td>\n",
       "      <td>-1000</td>\n",
       "      <td>-1000</td>\n",
       "      <td>-1000</td>\n",
       "      <td>-1000</td>\n",
       "      <td>-1000</td>\n",
       "      <td>-1000</td>\n",
       "      <td>-1000</td>\n",
       "      <td>-1000</td>\n",
       "      <td>-1000</td>\n",
       "      <td>-1000</td>\n",
       "    </tr>\n",
       "    <tr>\n",
       "      <th>25</th>\n",
       "      <td>KSA</td>\n",
       "      <td>Operating Cash Outflow</td>\n",
       "      <td>Subscriptions</td>\n",
       "      <td>PalmHR</td>\n",
       "      <td>NaN</td>\n",
       "      <td>-2975.625</td>\n",
       "      <td>-2975.625</td>\n",
       "      <td>-2975.625</td>\n",
       "      <td>-2975.625</td>\n",
       "      <td>-2975.625</td>\n",
       "      <td>-2975.625</td>\n",
       "      <td>-2975.625</td>\n",
       "      <td>-2975.625</td>\n",
       "      <td>-2975.625</td>\n",
       "      <td>-2975.625</td>\n",
       "    </tr>\n",
       "    <tr>\n",
       "      <th>26</th>\n",
       "      <td>KSA</td>\n",
       "      <td>Operating Cash Outflow</td>\n",
       "      <td>Subscriptions</td>\n",
       "      <td>Mix (ChatGPT, Antivirus…)</td>\n",
       "      <td>NaN</td>\n",
       "      <td>-700</td>\n",
       "      <td>-700</td>\n",
       "      <td>-700</td>\n",
       "      <td>-700</td>\n",
       "      <td>-700</td>\n",
       "      <td>-700</td>\n",
       "      <td>-700</td>\n",
       "      <td>-700</td>\n",
       "      <td>-700</td>\n",
       "      <td>-700</td>\n",
       "    </tr>\n",
       "    <tr>\n",
       "      <th>27</th>\n",
       "      <td>KSA</td>\n",
       "      <td>Operating Cash Outflow</td>\n",
       "      <td>Travel Exp</td>\n",
       "      <td>Travel Exp</td>\n",
       "      <td>NaN</td>\n",
       "      <td>-3000</td>\n",
       "      <td>-3000</td>\n",
       "      <td>-3000</td>\n",
       "      <td>-3000</td>\n",
       "      <td>-3000</td>\n",
       "      <td>-3000</td>\n",
       "      <td>-3000</td>\n",
       "      <td>-3000</td>\n",
       "      <td>-3000</td>\n",
       "      <td>-3000</td>\n",
       "    </tr>\n",
       "    <tr>\n",
       "      <th>28</th>\n",
       "      <td>KSA</td>\n",
       "      <td>Operating Cash Outflow</td>\n",
       "      <td>Travel Exp</td>\n",
       "      <td>NWC Traveling Exp</td>\n",
       "      <td>NaN</td>\n",
       "      <td>-13000</td>\n",
       "      <td>-13000</td>\n",
       "      <td>-13000</td>\n",
       "      <td>-13000</td>\n",
       "      <td>-13000</td>\n",
       "      <td>-13000</td>\n",
       "      <td>-13000</td>\n",
       "      <td>-13000</td>\n",
       "      <td>-13000</td>\n",
       "      <td>-13000</td>\n",
       "    </tr>\n",
       "    <tr>\n",
       "      <th>29</th>\n",
       "      <td>KSA</td>\n",
       "      <td>Operating Cash Outflow</td>\n",
       "      <td>Marketing</td>\n",
       "      <td>Marketing</td>\n",
       "      <td>NaN</td>\n",
       "      <td>-4000</td>\n",
       "      <td>-4000</td>\n",
       "      <td>-4000</td>\n",
       "      <td>-4000</td>\n",
       "      <td>-4000</td>\n",
       "      <td>-4000</td>\n",
       "      <td>-4000</td>\n",
       "      <td>-4000</td>\n",
       "      <td>-4000</td>\n",
       "      <td>-4000</td>\n",
       "    </tr>\n",
       "    <tr>\n",
       "      <th>30</th>\n",
       "      <td>KSA</td>\n",
       "      <td>Operating Cash Outflow</td>\n",
       "      <td>Rent</td>\n",
       "      <td>Office Rent</td>\n",
       "      <td>NaN</td>\n",
       "      <td>NaN</td>\n",
       "      <td>-6250</td>\n",
       "      <td>NaN</td>\n",
       "      <td>NaN</td>\n",
       "      <td>-6250</td>\n",
       "      <td>NaN</td>\n",
       "      <td>NaN</td>\n",
       "      <td>-6250</td>\n",
       "      <td>NaN</td>\n",
       "      <td>NaN</td>\n",
       "    </tr>\n",
       "    <tr>\n",
       "      <th>31</th>\n",
       "      <td>KSA</td>\n",
       "      <td>Operating Cash Outflow</td>\n",
       "      <td>Government Exp</td>\n",
       "      <td>Gov Fees</td>\n",
       "      <td>NaN</td>\n",
       "      <td>-4000</td>\n",
       "      <td>-4000</td>\n",
       "      <td>-4000</td>\n",
       "      <td>-4000</td>\n",
       "      <td>-4000</td>\n",
       "      <td>-4000</td>\n",
       "      <td>-4000</td>\n",
       "      <td>-4000</td>\n",
       "      <td>-4000</td>\n",
       "      <td>-4000</td>\n",
       "    </tr>\n",
       "    <tr>\n",
       "      <th>32</th>\n",
       "      <td>KSA</td>\n",
       "      <td>Operating Cash Outflow</td>\n",
       "      <td>Bank Charges</td>\n",
       "      <td>Bank Charges &amp; Fees</td>\n",
       "      <td>NaN</td>\n",
       "      <td>-500</td>\n",
       "      <td>-500</td>\n",
       "      <td>-500</td>\n",
       "      <td>-500</td>\n",
       "      <td>-500</td>\n",
       "      <td>-500</td>\n",
       "      <td>-500</td>\n",
       "      <td>-500</td>\n",
       "      <td>-500</td>\n",
       "      <td>-500</td>\n",
       "    </tr>\n",
       "    <tr>\n",
       "      <th>33</th>\n",
       "      <td>KSA</td>\n",
       "      <td>Operating Cash Outflow</td>\n",
       "      <td>Zakat</td>\n",
       "      <td>Zakat 2024</td>\n",
       "      <td>NaN</td>\n",
       "      <td>NaN</td>\n",
       "      <td>NaN</td>\n",
       "      <td>NaN</td>\n",
       "      <td>NaN</td>\n",
       "      <td>NaN</td>\n",
       "      <td>NaN</td>\n",
       "      <td>NaN</td>\n",
       "      <td>-100000</td>\n",
       "      <td>NaN</td>\n",
       "      <td>NaN</td>\n",
       "    </tr>\n",
       "    <tr>\n",
       "      <th>34</th>\n",
       "      <td>KSA</td>\n",
       "      <td>Operating Cash Outflow</td>\n",
       "      <td>VAT and Taxes</td>\n",
       "      <td>VAT &amp; withholding tax</td>\n",
       "      <td>NaN</td>\n",
       "      <td>-300000</td>\n",
       "      <td>-600</td>\n",
       "      <td>-600</td>\n",
       "      <td>-600</td>\n",
       "      <td>-100000</td>\n",
       "      <td>-600</td>\n",
       "      <td>-600</td>\n",
       "      <td>-100000</td>\n",
       "      <td>-600</td>\n",
       "      <td>-600</td>\n",
       "    </tr>\n",
       "    <tr>\n",
       "      <th>35</th>\n",
       "      <td>KSA</td>\n",
       "      <td>Operating Cash Outflow</td>\n",
       "      <td>Audit Fees</td>\n",
       "      <td>KSA Accountant - auditor: Hammam Salama</td>\n",
       "      <td>NaN</td>\n",
       "      <td>NaN</td>\n",
       "      <td>NaN</td>\n",
       "      <td>NaN</td>\n",
       "      <td>-10000</td>\n",
       "      <td>NaN</td>\n",
       "      <td>NaN</td>\n",
       "      <td>NaN</td>\n",
       "      <td>-10000</td>\n",
       "      <td>NaN</td>\n",
       "      <td>NaN</td>\n",
       "    </tr>\n",
       "    <tr>\n",
       "      <th>36</th>\n",
       "      <td>KSA</td>\n",
       "      <td>Operating Cash Outflow</td>\n",
       "      <td>Lawyer Fees</td>\n",
       "      <td>KSA Lawyer: Sahel</td>\n",
       "      <td>NaN</td>\n",
       "      <td>-7820.0</td>\n",
       "      <td>-7820.0</td>\n",
       "      <td>-7820.0</td>\n",
       "      <td>-7820.0</td>\n",
       "      <td>-7820.0</td>\n",
       "      <td>-7820.0</td>\n",
       "      <td>-7820.0</td>\n",
       "      <td>-7820.0</td>\n",
       "      <td>-7820.0</td>\n",
       "      <td>-7820.0</td>\n",
       "    </tr>\n",
       "    <tr>\n",
       "      <th>37</th>\n",
       "      <td>KSA</td>\n",
       "      <td>Operating Cash Outflow</td>\n",
       "      <td>Contingency + Misc.</td>\n",
       "      <td>Contingency + Misc.</td>\n",
       "      <td>-2061.295703</td>\n",
       "      <td>-29995.718372</td>\n",
       "      <td>-20736.408372</td>\n",
       "      <td>-7029.371772</td>\n",
       "      <td>-8571.391772</td>\n",
       "      <td>-8048.795772</td>\n",
       "      <td>-31509.419372</td>\n",
       "      <td>-5841.795772</td>\n",
       "      <td>-10088.795772</td>\n",
       "      <td>-5967.795772</td>\n",
       "      <td>-5775.795772</td>\n",
       "    </tr>\n",
       "    <tr>\n",
       "      <th>38</th>\n",
       "      <td>NaN</td>\n",
       "      <td>NaN</td>\n",
       "      <td>NaN</td>\n",
       "      <td>Total Cash outflow For KSA</td>\n",
       "      <td>-89910.095703</td>\n",
       "      <td>-693625.103372</td>\n",
       "      <td>-347234.293372</td>\n",
       "      <td>-257660.426772</td>\n",
       "      <td>-336303.446772</td>\n",
       "      <td>-308331.050772</td>\n",
       "      <td>-226141.674372</td>\n",
       "      <td>-192474.050772</td>\n",
       "      <td>-412371.050772</td>\n",
       "      <td>-202200.050772</td>\n",
       "      <td>-192408.050772</td>\n",
       "    </tr>\n",
       "    <tr>\n",
       "      <th>39</th>\n",
       "      <td>Egypt</td>\n",
       "      <td>Operating Cash Outflow</td>\n",
       "      <td>Personnel</td>\n",
       "      <td>Salaries</td>\n",
       "      <td>NaN</td>\n",
       "      <td>-75734.408611</td>\n",
       "      <td>-75734.408611</td>\n",
       "      <td>-75734.408611</td>\n",
       "      <td>-75734.408611</td>\n",
       "      <td>-77054.408611</td>\n",
       "      <td>-77054.408611</td>\n",
       "      <td>-77054.408611</td>\n",
       "      <td>-77054.408611</td>\n",
       "      <td>-77054.408611</td>\n",
       "      <td>-77054.408611</td>\n",
       "    </tr>\n",
       "    <tr>\n",
       "      <th>40</th>\n",
       "      <td>Egypt</td>\n",
       "      <td>Operating Cash Outflow</td>\n",
       "      <td>Accounting Exp</td>\n",
       "      <td>EGY Accountant: Delta</td>\n",
       "      <td>-1500</td>\n",
       "      <td>-1500</td>\n",
       "      <td>-1500</td>\n",
       "      <td>-1500</td>\n",
       "      <td>-1500</td>\n",
       "      <td>-1500</td>\n",
       "      <td>-1500</td>\n",
       "      <td>-4800</td>\n",
       "      <td>-1500</td>\n",
       "      <td>-1500</td>\n",
       "      <td>-1500</td>\n",
       "    </tr>\n",
       "    <tr>\n",
       "      <th>41</th>\n",
       "      <td>Egypt</td>\n",
       "      <td>Operating Cash Outflow</td>\n",
       "      <td>Rent</td>\n",
       "      <td>Office Rent</td>\n",
       "      <td>NaN</td>\n",
       "      <td>-3828.125</td>\n",
       "      <td>-3828.125</td>\n",
       "      <td>-3828.125</td>\n",
       "      <td>-3828.125</td>\n",
       "      <td>-3828.125</td>\n",
       "      <td>-3828.125</td>\n",
       "      <td>-3828.125</td>\n",
       "      <td>-3828.125</td>\n",
       "      <td>-3828.125</td>\n",
       "      <td>-3828.125</td>\n",
       "    </tr>\n",
       "    <tr>\n",
       "      <th>42</th>\n",
       "      <td>Egypt</td>\n",
       "      <td>Operating Cash Outflow</td>\n",
       "      <td>Taxs &amp; Social insurance</td>\n",
       "      <td>Taxs &amp; Social insurance</td>\n",
       "      <td>-11840.985156</td>\n",
       "      <td>-13400</td>\n",
       "      <td>-13400</td>\n",
       "      <td>-13400</td>\n",
       "      <td>-13400</td>\n",
       "      <td>-13400</td>\n",
       "      <td>-13400</td>\n",
       "      <td>-13400</td>\n",
       "      <td>-13400</td>\n",
       "      <td>-13400</td>\n",
       "      <td>-13400</td>\n",
       "    </tr>\n",
       "    <tr>\n",
       "      <th>43</th>\n",
       "      <td>Egypt</td>\n",
       "      <td>Operating Cash Outflow</td>\n",
       "      <td>Legal Exp</td>\n",
       "      <td>EGY Lawyer: S&amp;P</td>\n",
       "      <td>-1875</td>\n",
       "      <td>-1875</td>\n",
       "      <td>-1875</td>\n",
       "      <td>-1875</td>\n",
       "      <td>-1875</td>\n",
       "      <td>-1875</td>\n",
       "      <td>-1875</td>\n",
       "      <td>-1875</td>\n",
       "      <td>-1875</td>\n",
       "      <td>-1875</td>\n",
       "      <td>-1875</td>\n",
       "    </tr>\n",
       "    <tr>\n",
       "      <th>44</th>\n",
       "      <td>Egypt</td>\n",
       "      <td>Operating Cash Outflow</td>\n",
       "      <td>Petty cash</td>\n",
       "      <td>Petty Cash</td>\n",
       "      <td>NaN</td>\n",
       "      <td>-1000</td>\n",
       "      <td>-1000</td>\n",
       "      <td>-1000</td>\n",
       "      <td>-1000</td>\n",
       "      <td>-1000</td>\n",
       "      <td>-1000</td>\n",
       "      <td>-1000</td>\n",
       "      <td>-1000</td>\n",
       "      <td>-1000</td>\n",
       "      <td>-1000</td>\n",
       "    </tr>\n",
       "    <tr>\n",
       "      <th>45</th>\n",
       "      <td>NaN</td>\n",
       "      <td>NaN</td>\n",
       "      <td>NaN</td>\n",
       "      <td>Total Cash outflow For Egypt</td>\n",
       "      <td>-15215.985156</td>\n",
       "      <td>-97337.533611</td>\n",
       "      <td>-97337.533611</td>\n",
       "      <td>-97337.533611</td>\n",
       "      <td>-97337.533611</td>\n",
       "      <td>-98657.533611</td>\n",
       "      <td>-98657.533611</td>\n",
       "      <td>-101957.533611</td>\n",
       "      <td>-98657.533611</td>\n",
       "      <td>-98657.533611</td>\n",
       "      <td>-98657.533611</td>\n",
       "    </tr>\n",
       "    <tr>\n",
       "      <th>46</th>\n",
       "      <td>NaN</td>\n",
       "      <td>NaN</td>\n",
       "      <td>NaN</td>\n",
       "      <td>Total Operating Cash Outflow</td>\n",
       "      <td>-105126.080859</td>\n",
       "      <td>-790962.636983</td>\n",
       "      <td>-444571.826983</td>\n",
       "      <td>-354997.960383</td>\n",
       "      <td>-433640.980383</td>\n",
       "      <td>-406988.584383</td>\n",
       "      <td>-324799.207983</td>\n",
       "      <td>-294431.584383</td>\n",
       "      <td>-511028.584383</td>\n",
       "      <td>-300857.584383</td>\n",
       "      <td>-291065.584383</td>\n",
       "    </tr>\n",
       "    <tr>\n",
       "      <th>47</th>\n",
       "      <td>NaN</td>\n",
       "      <td>NaN</td>\n",
       "      <td>NaN</td>\n",
       "      <td>Net Cash Provided by Operating Activities</td>\n",
       "      <td>105126.080859</td>\n",
       "      <td>885727.236983</td>\n",
       "      <td>1801010.826983</td>\n",
       "      <td>654997.960383</td>\n",
       "      <td>808640.980383</td>\n",
       "      <td>706988.584383</td>\n",
       "      <td>624799.207983</td>\n",
       "      <td>594431.584383</td>\n",
       "      <td>811028.584383</td>\n",
       "      <td>600857.584383</td>\n",
       "      <td>591065.584383</td>\n",
       "    </tr>\n",
       "    <tr>\n",
       "      <th>48</th>\n",
       "      <td>NaN</td>\n",
       "      <td>NaN</td>\n",
       "      <td>3</td>\n",
       "      <td>Investing Cash Outflow</td>\n",
       "      <td>NaN</td>\n",
       "      <td>NaN</td>\n",
       "      <td>NaN</td>\n",
       "      <td>NaN</td>\n",
       "      <td>NaN</td>\n",
       "      <td>NaN</td>\n",
       "      <td>NaN</td>\n",
       "      <td>NaN</td>\n",
       "      <td>NaN</td>\n",
       "      <td>NaN</td>\n",
       "      <td>NaN</td>\n",
       "    </tr>\n",
       "    <tr>\n",
       "      <th>49</th>\n",
       "      <td>Egypt</td>\n",
       "      <td>Investing Cash Outflow</td>\n",
       "      <td>Assets</td>\n",
       "      <td>Laptops &amp; other</td>\n",
       "      <td>NaN</td>\n",
       "      <td>-3500</td>\n",
       "      <td>-3500</td>\n",
       "      <td>-3500</td>\n",
       "      <td>-3500</td>\n",
       "      <td>-3500</td>\n",
       "      <td>-3500</td>\n",
       "      <td>-3500</td>\n",
       "      <td>-3500</td>\n",
       "      <td>-3500</td>\n",
       "      <td>-3500</td>\n",
       "    </tr>\n",
       "    <tr>\n",
       "      <th>50</th>\n",
       "      <td>NaN</td>\n",
       "      <td>NaN</td>\n",
       "      <td>NaN</td>\n",
       "      <td>Total Investing Cash Outflow</td>\n",
       "      <td>0</td>\n",
       "      <td>-3500</td>\n",
       "      <td>-3500</td>\n",
       "      <td>-3500</td>\n",
       "      <td>-3500</td>\n",
       "      <td>-3500</td>\n",
       "      <td>-3500</td>\n",
       "      <td>-3500</td>\n",
       "      <td>-3500</td>\n",
       "      <td>-3500</td>\n",
       "      <td>-3500</td>\n",
       "    </tr>\n",
       "    <tr>\n",
       "      <th>51</th>\n",
       "      <td>NaN</td>\n",
       "      <td>NaN</td>\n",
       "      <td>4</td>\n",
       "      <td>Financing Cashflow</td>\n",
       "      <td>NaN</td>\n",
       "      <td>NaN</td>\n",
       "      <td>NaN</td>\n",
       "      <td>NaN</td>\n",
       "      <td>NaN</td>\n",
       "      <td>NaN</td>\n",
       "      <td>NaN</td>\n",
       "      <td>NaN</td>\n",
       "      <td>NaN</td>\n",
       "      <td>NaN</td>\n",
       "      <td>NaN</td>\n",
       "    </tr>\n",
       "    <tr>\n",
       "      <th>52</th>\n",
       "      <td>KSA</td>\n",
       "      <td>Financing Cashflow</td>\n",
       "      <td>Loan</td>\n",
       "      <td>New Loan -Al anmaa Bank</td>\n",
       "      <td>1206303</td>\n",
       "      <td>NaN</td>\n",
       "      <td>NaN</td>\n",
       "      <td>NaN</td>\n",
       "      <td>NaN</td>\n",
       "      <td>NaN</td>\n",
       "      <td>NaN</td>\n",
       "      <td>NaN</td>\n",
       "      <td>NaN</td>\n",
       "      <td>NaN</td>\n",
       "      <td>NaN</td>\n",
       "    </tr>\n",
       "    <tr>\n",
       "      <th>53</th>\n",
       "      <td>KSA</td>\n",
       "      <td>Financing Cashflow</td>\n",
       "      <td>Loan</td>\n",
       "      <td>New Loan -Riyadh Bank</td>\n",
       "      <td>NaN</td>\n",
       "      <td>NaN</td>\n",
       "      <td>NaN</td>\n",
       "      <td>NaN</td>\n",
       "      <td>NaN</td>\n",
       "      <td>NaN</td>\n",
       "      <td>NaN</td>\n",
       "      <td>NaN</td>\n",
       "      <td>NaN</td>\n",
       "      <td>NaN</td>\n",
       "      <td>NaN</td>\n",
       "    </tr>\n",
       "    <tr>\n",
       "      <th>54</th>\n",
       "      <td>KSA</td>\n",
       "      <td>Financing Cashflow</td>\n",
       "      <td>Repayment</td>\n",
       "      <td>Repayment of loan -Al anmaa Bank</td>\n",
       "      <td>NaN</td>\n",
       "      <td>-735319</td>\n",
       "      <td>NaN</td>\n",
       "      <td>NaN</td>\n",
       "      <td>NaN</td>\n",
       "      <td>NaN</td>\n",
       "      <td>-1278681.18</td>\n",
       "      <td>NaN</td>\n",
       "      <td>NaN</td>\n",
       "      <td>NaN</td>\n",
       "      <td>NaN</td>\n",
       "    </tr>\n",
       "    <tr>\n",
       "      <th>55</th>\n",
       "      <td>KSA</td>\n",
       "      <td>Financing Cashflow</td>\n",
       "      <td>Repayment</td>\n",
       "      <td>Repayment of loan -Riyadh Bank</td>\n",
       "      <td>NaN</td>\n",
       "      <td>NaN</td>\n",
       "      <td>-609485</td>\n",
       "      <td>NaN</td>\n",
       "      <td>NaN</td>\n",
       "      <td>NaN</td>\n",
       "      <td>NaN</td>\n",
       "      <td>NaN</td>\n",
       "      <td>NaN</td>\n",
       "      <td>NaN</td>\n",
       "      <td>NaN</td>\n",
       "    </tr>\n",
       "    <tr>\n",
       "      <th>56</th>\n",
       "      <td>NaN</td>\n",
       "      <td>NaN</td>\n",
       "      <td>NaN</td>\n",
       "      <td>Total Cash outflow from Financing</td>\n",
       "      <td>1206303</td>\n",
       "      <td>-735319</td>\n",
       "      <td>-609485</td>\n",
       "      <td>0</td>\n",
       "      <td>0</td>\n",
       "      <td>0</td>\n",
       "      <td>-1278681.18</td>\n",
       "      <td>0</td>\n",
       "      <td>0</td>\n",
       "      <td>0</td>\n",
       "      <td>0</td>\n",
       "    </tr>\n",
       "    <tr>\n",
       "      <th>57</th>\n",
       "      <td>NaN</td>\n",
       "      <td>NaN</td>\n",
       "      <td>NaN</td>\n",
       "      <td>NaN</td>\n",
       "      <td>2025-08-01 00:00:00</td>\n",
       "      <td>2025-09-01 00:00:00</td>\n",
       "      <td>2025-10-01 00:00:00</td>\n",
       "      <td>2025-11-01 00:00:00</td>\n",
       "      <td>2025-12-01 00:00:00</td>\n",
       "      <td>2026-01-01 00:00:00</td>\n",
       "      <td>2026-02-01 00:00:00</td>\n",
       "      <td>2026-03-01 00:00:00</td>\n",
       "      <td>2026-04-01 00:00:00</td>\n",
       "      <td>2026-05-01 00:00:00</td>\n",
       "      <td>2026-06-01 00:00:00</td>\n",
       "    </tr>\n",
       "    <tr>\n",
       "      <th>58</th>\n",
       "      <td>NaN</td>\n",
       "      <td>NaN</td>\n",
       "      <td>NaN</td>\n",
       "      <td>Total Change in cash</td>\n",
       "      <td>1101176.919141</td>\n",
       "      <td>-1435017.036983</td>\n",
       "      <td>298882.173017</td>\n",
       "      <td>-58497.960383</td>\n",
       "      <td>-62140.980383</td>\n",
       "      <td>-110488.584383</td>\n",
       "      <td>-1306980.387983</td>\n",
       "      <td>2068.415617</td>\n",
       "      <td>-214528.584383</td>\n",
       "      <td>-4357.584383</td>\n",
       "      <td>5434.415617</td>\n",
       "    </tr>\n",
       "    <tr>\n",
       "      <th>59</th>\n",
       "      <td>NaN</td>\n",
       "      <td>NaN</td>\n",
       "      <td>NaN</td>\n",
       "      <td>Cash Beginning Balance</td>\n",
       "      <td>157802.15</td>\n",
       "      <td>1258979.069141</td>\n",
       "      <td>-176037.967843</td>\n",
       "      <td>122844.205174</td>\n",
       "      <td>64346.244791</td>\n",
       "      <td>2205.264407</td>\n",
       "      <td>-108283.319976</td>\n",
       "      <td>-1415263.707959</td>\n",
       "      <td>-1413195.292343</td>\n",
       "      <td>-1627723.876726</td>\n",
       "      <td>-1632081.461109</td>\n",
       "    </tr>\n",
       "    <tr>\n",
       "      <th>60</th>\n",
       "      <td>NaN</td>\n",
       "      <td>NaN</td>\n",
       "      <td>NaN</td>\n",
       "      <td>Cash Ending Balance</td>\n",
       "      <td>1258979.069141</td>\n",
       "      <td>-176037.967843</td>\n",
       "      <td>122844.205174</td>\n",
       "      <td>64346.244791</td>\n",
       "      <td>2205.264407</td>\n",
       "      <td>-108283.319976</td>\n",
       "      <td>-1415263.707959</td>\n",
       "      <td>-1413195.292343</td>\n",
       "      <td>-1627723.876726</td>\n",
       "      <td>-1632081.461109</td>\n",
       "      <td>-1626647.045493</td>\n",
       "    </tr>\n",
       "  </tbody>\n",
       "</table>\n",
       "</div>"
      ],
      "text/plain": [
       "   Country          Cash Flow Type                 Category  \\\n",
       "3      NaN                     NaN                        1   \n",
       "4      KSA   Operating Cash Inflow              NWC Project   \n",
       "5      KSA   Operating Cash Inflow              NWC Project   \n",
       "6      KSA   Operating Cash Inflow              NWC Project   \n",
       "7      KSA   Operating Cash Inflow            MWAN Project    \n",
       "8      KSA   Operating Cash Inflow            MWAN Project    \n",
       "9      NaN                     NaN                      NaN   \n",
       "10     NaN                     NaN                        2   \n",
       "11     KSA  Operating Cash Outflow               Personnel    \n",
       "12     KSA  Operating Cash Outflow               Personnel    \n",
       "13     KSA  Operating Cash Outflow               Personnel    \n",
       "14     KSA  Operating Cash Outflow               Personnel    \n",
       "15     KSA  Operating Cash Outflow               Personnel    \n",
       "16     KSA  Operating Cash Outflow               Personnel    \n",
       "17     KSA  Operating Cash Outflow               Personnel    \n",
       "18     KSA  Operating Cash Outflow              Recruitment   \n",
       "19     KSA  Operating Cash Outflow                   Vendor   \n",
       "20     KSA  Operating Cash Outflow                   Vendor   \n",
       "21     KSA  Operating Cash Outflow                   Vendor   \n",
       "22     KSA  Operating Cash Outflow                   Vendor   \n",
       "23     KSA  Operating Cash Outflow                   Vendor   \n",
       "24     KSA  Operating Cash Outflow           Subscriptions    \n",
       "25     KSA  Operating Cash Outflow           Subscriptions    \n",
       "26     KSA  Operating Cash Outflow           Subscriptions    \n",
       "27     KSA  Operating Cash Outflow              Travel Exp    \n",
       "28     KSA  Operating Cash Outflow              Travel Exp    \n",
       "29     KSA  Operating Cash Outflow               Marketing    \n",
       "30     KSA  Operating Cash Outflow                    Rent    \n",
       "31     KSA  Operating Cash Outflow          Government Exp    \n",
       "32     KSA  Operating Cash Outflow            Bank Charges    \n",
       "33     KSA  Operating Cash Outflow                   Zakat    \n",
       "34     KSA  Operating Cash Outflow           VAT and Taxes    \n",
       "35     KSA  Operating Cash Outflow              Audit Fees    \n",
       "36     KSA  Operating Cash Outflow             Lawyer Fees    \n",
       "37     KSA  Operating Cash Outflow      Contingency + Misc.   \n",
       "38     NaN                     NaN                      NaN   \n",
       "39   Egypt  Operating Cash Outflow               Personnel    \n",
       "40   Egypt  Operating Cash Outflow          Accounting Exp    \n",
       "41   Egypt  Operating Cash Outflow                    Rent    \n",
       "42   Egypt  Operating Cash Outflow  Taxs & Social insurance   \n",
       "43   Egypt  Operating Cash Outflow               Legal Exp    \n",
       "44   Egypt  Operating Cash Outflow              Petty cash    \n",
       "45     NaN                     NaN                      NaN   \n",
       "46     NaN                     NaN                      NaN   \n",
       "47     NaN                     NaN                      NaN   \n",
       "48     NaN                     NaN                        3   \n",
       "49   Egypt  Investing Cash Outflow                  Assets    \n",
       "50     NaN                     NaN                      NaN   \n",
       "51     NaN                     NaN                        4   \n",
       "52     KSA      Financing Cashflow                     Loan   \n",
       "53     KSA      Financing Cashflow                     Loan   \n",
       "54     KSA      Financing Cashflow                Repayment   \n",
       "55     KSA      Financing Cashflow                Repayment   \n",
       "56     NaN                     NaN                      NaN   \n",
       "57     NaN                     NaN                      NaN   \n",
       "58     NaN                     NaN                      NaN   \n",
       "59     NaN                     NaN                      NaN   \n",
       "60     NaN                     NaN                      NaN   \n",
       "\n",
       "                                           Item  2025-08-01 00:00:00  \\\n",
       "3                         Operating Cash Inflow                  NaN   \n",
       "4                     NWC Project - Consulting                   NaN   \n",
       "5                  NWC Project - Non-Consulting                  NaN   \n",
       "6   NWC Project - Consulting and Non-Consulting                  NaN   \n",
       "7                                 MWAN Project                   NaN   \n",
       "8                      MWAN Project - LG refund                  NaN   \n",
       "9                   Total Operating Cash Inflow                    0   \n",
       "10                       Operating Cash Outflow                  NaN   \n",
       "11                                    Salaries                   NaN   \n",
       "12                             End Of Services                   NaN   \n",
       "13                                        GOSI                   NaN   \n",
       "14                                Iqama renewal                  NaN   \n",
       "15                           Medical Insurance                   NaN   \n",
       "16           Ahmed Gharawy - Benefits -Tickets                   NaN   \n",
       "17                    KSA Accountant - general:                  NaN   \n",
       "18                                Linkedin Exp                   NaN   \n",
       "19                   La Aseer Project - Vendor              -18692.2   \n",
       "20                   La Aseer Project - Vendor               -8675.6   \n",
       "21         MWAN Project -Ata allah Photographer               -15000   \n",
       "22                     MWAN Project -Dar Nassah               -19481   \n",
       "23                                  NWC Vendor                -26000   \n",
       "24                                Microsoft 365                  NaN   \n",
       "25                                       PalmHR                  NaN   \n",
       "26                    Mix (ChatGPT, Antivirus…)                  NaN   \n",
       "27                                  Travel Exp                   NaN   \n",
       "28                           NWC Traveling Exp                   NaN   \n",
       "29                                    Marketing                  NaN   \n",
       "30                                 Office Rent                   NaN   \n",
       "31                                    Gov Fees                   NaN   \n",
       "32                          Bank Charges & Fees                  NaN   \n",
       "33                                   Zakat 2024                  NaN   \n",
       "34                        VAT & withholding tax                  NaN   \n",
       "35      KSA Accountant - auditor: Hammam Salama                  NaN   \n",
       "36                            KSA Lawyer: Sahel                  NaN   \n",
       "37                          Contingency + Misc.         -2061.295703   \n",
       "38                   Total Cash outflow For KSA        -89910.095703   \n",
       "39                                    Salaries                   NaN   \n",
       "40                        EGY Accountant: Delta                -1500   \n",
       "41                                 Office Rent                   NaN   \n",
       "42                      Taxs & Social insurance        -11840.985156   \n",
       "43                              EGY Lawyer: S&P                -1875   \n",
       "44                                  Petty Cash                   NaN   \n",
       "45                Total Cash outflow For Egypt         -15215.985156   \n",
       "46                 Total Operating Cash Outflow       -105126.080859   \n",
       "47    Net Cash Provided by Operating Activities        105126.080859   \n",
       "48                       Investing Cash Outflow                  NaN   \n",
       "49                              Laptops & other                  NaN   \n",
       "50                 Total Investing Cash Outflow                    0   \n",
       "51                           Financing Cashflow                  NaN   \n",
       "52                     New Loan -Al anmaa Bank               1206303   \n",
       "53                       New Loan -Riyadh Bank                   NaN   \n",
       "54            Repayment of loan -Al anmaa Bank                   NaN   \n",
       "55              Repayment of loan -Riyadh Bank                   NaN   \n",
       "56           Total Cash outflow from Financing               1206303   \n",
       "57                                          NaN  2025-08-01 00:00:00   \n",
       "58                         Total Change in cash       1101176.919141   \n",
       "59                       Cash Beginning Balance            157802.15   \n",
       "60                          Cash Ending Balance       1258979.069141   \n",
       "\n",
       "    2025-09-01 00:00:00  2025-10-01 00:00:00  2025-11-01 00:00:00  \\\n",
       "3                   NaN                  NaN                  NaN   \n",
       "4               94764.6              1000000               300000   \n",
       "5                   NaN                  NaN                  NaN   \n",
       "6                   NaN               161462                  NaN   \n",
       "7                   NaN               194977                  NaN   \n",
       "8                   NaN                  NaN                  NaN   \n",
       "9               94764.6              1356439               300000   \n",
       "10                  NaN                  NaN                  NaN   \n",
       "11              -191500              -136000              -136000   \n",
       "12            -47248.33            -63766.83                    0   \n",
       "13            -10036.63            -10036.63            -10036.63   \n",
       "14                  NaN                  NaN                -9150   \n",
       "15                  NaN                  NaN                  NaN   \n",
       "16                  NaN                  NaN                  NaN   \n",
       "17                -6000                -6000                -6000   \n",
       "18               -10000                -5000                -5000   \n",
       "19             -18692.2             -18692.2             -18692.2   \n",
       "20              -8675.6              -8675.6              -8675.6   \n",
       "21               -15000               -15000                  NaN   \n",
       "22               -19481               -19481               -19481   \n",
       "23                  NaN                  NaN                  NaN   \n",
       "24                -1000                -1000                -1000   \n",
       "25            -2975.625            -2975.625            -2975.625   \n",
       "26                 -700                 -700                 -700   \n",
       "27                -3000                -3000                -3000   \n",
       "28               -13000               -13000               -13000   \n",
       "29                -4000                -4000                -4000   \n",
       "30                  NaN                -6250                  NaN   \n",
       "31                -4000                -4000                -4000   \n",
       "32                 -500                 -500                 -500   \n",
       "33                  NaN                  NaN                  NaN   \n",
       "34              -300000                 -600                 -600   \n",
       "35                  NaN                  NaN                  NaN   \n",
       "36              -7820.0              -7820.0              -7820.0   \n",
       "37        -29995.718372        -20736.408372         -7029.371772   \n",
       "38       -693625.103372       -347234.293372       -257660.426772   \n",
       "39        -75734.408611        -75734.408611        -75734.408611   \n",
       "40                -1500                -1500                -1500   \n",
       "41            -3828.125            -3828.125            -3828.125   \n",
       "42               -13400               -13400               -13400   \n",
       "43                -1875                -1875                -1875   \n",
       "44                -1000                -1000                -1000   \n",
       "45        -97337.533611        -97337.533611        -97337.533611   \n",
       "46       -790962.636983       -444571.826983       -354997.960383   \n",
       "47        885727.236983       1801010.826983        654997.960383   \n",
       "48                  NaN                  NaN                  NaN   \n",
       "49                -3500                -3500                -3500   \n",
       "50                -3500                -3500                -3500   \n",
       "51                  NaN                  NaN                  NaN   \n",
       "52                  NaN                  NaN                  NaN   \n",
       "53                  NaN                  NaN                  NaN   \n",
       "54              -735319                  NaN                  NaN   \n",
       "55                  NaN              -609485                  NaN   \n",
       "56              -735319              -609485                    0   \n",
       "57  2025-09-01 00:00:00  2025-10-01 00:00:00  2025-11-01 00:00:00   \n",
       "58      -1435017.036983        298882.173017        -58497.960383   \n",
       "59       1258979.069141       -176037.967843        122844.205174   \n",
       "60       -176037.967843        122844.205174         64346.244791   \n",
       "\n",
       "    2025-12-01 00:00:00  2026-01-01 00:00:00  2026-02-01 00:00:00  \\\n",
       "3                   NaN                  NaN                  NaN   \n",
       "4                300000               300000               300000   \n",
       "5                   NaN                  NaN                  NaN   \n",
       "6                   NaN                  NaN                  NaN   \n",
       "7                   NaN                  NaN                  NaN   \n",
       "8                 75000                  NaN                  NaN   \n",
       "9                375000               300000               300000   \n",
       "10                  NaN                  NaN                  NaN   \n",
       "11              -136000              -136000              -136000   \n",
       "12                    0                    0                    0   \n",
       "13            -10036.63            -10036.63            -10036.63   \n",
       "14                -9150                  NaN                  NaN   \n",
       "15               -67101                  NaN                  NaN   \n",
       "16                  NaN                  NaN                  NaN   \n",
       "17                -6000                -6000                -6000   \n",
       "18                -5000                -5000                -5000   \n",
       "19             -18692.2                  NaN                  NaN   \n",
       "20              -8675.6                  NaN                  NaN   \n",
       "21                  NaN                  NaN                  NaN   \n",
       "22               -19481                  NaN                  NaN   \n",
       "23                  NaN                  NaN                  NaN   \n",
       "24                -1000                -1000                -1000   \n",
       "25            -2975.625            -2975.625            -2975.625   \n",
       "26                 -700                 -700                 -700   \n",
       "27                -3000                -3000                -3000   \n",
       "28               -13000               -13000               -13000   \n",
       "29                -4000                -4000                -4000   \n",
       "30                  NaN                -6250                  NaN   \n",
       "31                -4000                -4000                -4000   \n",
       "32                 -500                 -500                 -500   \n",
       "33                  NaN                  NaN                  NaN   \n",
       "34                 -600              -100000                 -600   \n",
       "35               -10000                  NaN                  NaN   \n",
       "36              -7820.0              -7820.0              -7820.0   \n",
       "37         -8571.391772         -8048.795772        -31509.419372   \n",
       "38       -336303.446772       -308331.050772       -226141.674372   \n",
       "39        -75734.408611        -77054.408611        -77054.408611   \n",
       "40                -1500                -1500                -1500   \n",
       "41            -3828.125            -3828.125            -3828.125   \n",
       "42               -13400               -13400               -13400   \n",
       "43                -1875                -1875                -1875   \n",
       "44                -1000                -1000                -1000   \n",
       "45        -97337.533611        -98657.533611        -98657.533611   \n",
       "46       -433640.980383       -406988.584383       -324799.207983   \n",
       "47        808640.980383        706988.584383        624799.207983   \n",
       "48                  NaN                  NaN                  NaN   \n",
       "49                -3500                -3500                -3500   \n",
       "50                -3500                -3500                -3500   \n",
       "51                  NaN                  NaN                  NaN   \n",
       "52                  NaN                  NaN                  NaN   \n",
       "53                  NaN                  NaN                  NaN   \n",
       "54                  NaN                  NaN          -1278681.18   \n",
       "55                  NaN                  NaN                  NaN   \n",
       "56                    0                    0          -1278681.18   \n",
       "57  2025-12-01 00:00:00  2026-01-01 00:00:00  2026-02-01 00:00:00   \n",
       "58        -62140.980383       -110488.584383      -1306980.387983   \n",
       "59         64346.244791          2205.264407       -108283.319976   \n",
       "60          2205.264407       -108283.319976      -1415263.707959   \n",
       "\n",
       "    2026-03-01 00:00:00  2026-04-01 00:00:00  2026-05-01 00:00:00  \\\n",
       "3                   NaN                  NaN                  NaN   \n",
       "4                300000               300000               300000   \n",
       "5                   NaN                  NaN                  NaN   \n",
       "6                   NaN                  NaN                  NaN   \n",
       "7                   NaN                  NaN                  NaN   \n",
       "8                   NaN                  NaN                  NaN   \n",
       "9                300000               300000               300000   \n",
       "10                  NaN                  NaN                  NaN   \n",
       "11              -128000              -128000              -128000   \n",
       "12                    0                    0                    0   \n",
       "13            -10036.63            -10036.63            -10036.63   \n",
       "14                  NaN                  NaN                  NaN   \n",
       "15                  NaN                  NaN                  NaN   \n",
       "16                  NaN                  NaN                -9600   \n",
       "17                -6000                -6000                -6000   \n",
       "18                -5000                -5000                -5000   \n",
       "19                  NaN                  NaN                  NaN   \n",
       "20                  NaN                  NaN                  NaN   \n",
       "21                  NaN                  NaN                  NaN   \n",
       "22                  NaN                  NaN                  NaN   \n",
       "23                  NaN                  NaN                  NaN   \n",
       "24                -1000                -1000                -1000   \n",
       "25            -2975.625            -2975.625            -2975.625   \n",
       "26                 -700                 -700                 -700   \n",
       "27                -3000                -3000                -3000   \n",
       "28               -13000               -13000               -13000   \n",
       "29                -4000                -4000                -4000   \n",
       "30                  NaN                -6250                  NaN   \n",
       "31                -4000                -4000                -4000   \n",
       "32                 -500                 -500                 -500   \n",
       "33                  NaN              -100000                  NaN   \n",
       "34                 -600              -100000                 -600   \n",
       "35                  NaN               -10000                  NaN   \n",
       "36              -7820.0              -7820.0              -7820.0   \n",
       "37         -5841.795772        -10088.795772         -5967.795772   \n",
       "38       -192474.050772       -412371.050772       -202200.050772   \n",
       "39        -77054.408611        -77054.408611        -77054.408611   \n",
       "40                -4800                -1500                -1500   \n",
       "41            -3828.125            -3828.125            -3828.125   \n",
       "42               -13400               -13400               -13400   \n",
       "43                -1875                -1875                -1875   \n",
       "44                -1000                -1000                -1000   \n",
       "45       -101957.533611        -98657.533611        -98657.533611   \n",
       "46       -294431.584383       -511028.584383       -300857.584383   \n",
       "47        594431.584383        811028.584383        600857.584383   \n",
       "48                  NaN                  NaN                  NaN   \n",
       "49                -3500                -3500                -3500   \n",
       "50                -3500                -3500                -3500   \n",
       "51                  NaN                  NaN                  NaN   \n",
       "52                  NaN                  NaN                  NaN   \n",
       "53                  NaN                  NaN                  NaN   \n",
       "54                  NaN                  NaN                  NaN   \n",
       "55                  NaN                  NaN                  NaN   \n",
       "56                    0                    0                    0   \n",
       "57  2026-03-01 00:00:00  2026-04-01 00:00:00  2026-05-01 00:00:00   \n",
       "58          2068.415617       -214528.584383         -4357.584383   \n",
       "59      -1415263.707959      -1413195.292343      -1627723.876726   \n",
       "60      -1413195.292343      -1627723.876726      -1632081.461109   \n",
       "\n",
       "    2026-06-01 00:00:00  \n",
       "3                   NaN  \n",
       "4                300000  \n",
       "5                   NaN  \n",
       "6                   NaN  \n",
       "7                   NaN  \n",
       "8                   NaN  \n",
       "9                300000  \n",
       "10                  NaN  \n",
       "11              -128000  \n",
       "12                    0  \n",
       "13            -10036.63  \n",
       "14                  NaN  \n",
       "15                  NaN  \n",
       "16                  NaN  \n",
       "17                -6000  \n",
       "18                -5000  \n",
       "19                  NaN  \n",
       "20                  NaN  \n",
       "21                  NaN  \n",
       "22                  NaN  \n",
       "23                  NaN  \n",
       "24                -1000  \n",
       "25            -2975.625  \n",
       "26                 -700  \n",
       "27                -3000  \n",
       "28               -13000  \n",
       "29                -4000  \n",
       "30                  NaN  \n",
       "31                -4000  \n",
       "32                 -500  \n",
       "33                  NaN  \n",
       "34                 -600  \n",
       "35                  NaN  \n",
       "36              -7820.0  \n",
       "37         -5775.795772  \n",
       "38       -192408.050772  \n",
       "39        -77054.408611  \n",
       "40                -1500  \n",
       "41            -3828.125  \n",
       "42               -13400  \n",
       "43                -1875  \n",
       "44                -1000  \n",
       "45        -98657.533611  \n",
       "46       -291065.584383  \n",
       "47        591065.584383  \n",
       "48                  NaN  \n",
       "49                -3500  \n",
       "50                -3500  \n",
       "51                  NaN  \n",
       "52                  NaN  \n",
       "53                  NaN  \n",
       "54                  NaN  \n",
       "55                  NaN  \n",
       "56                    0  \n",
       "57  2026-06-01 00:00:00  \n",
       "58          5434.415617  \n",
       "59      -1632081.461109  \n",
       "60      -1626647.045493  "
      ]
     },
     "execution_count": 3,
     "metadata": {},
     "output_type": "execute_result"
    }
   ],
   "source": [
    "Data.CashFlow"
   ]
  },
  {
   "cell_type": "code",
   "execution_count": 4,
   "id": "33fc1ca2",
   "metadata": {},
   "outputs": [
    {
     "data": {
      "text/html": [
       "<div>\n",
       "<style scoped>\n",
       "    .dataframe tbody tr th:only-of-type {\n",
       "        vertical-align: middle;\n",
       "    }\n",
       "\n",
       "    .dataframe tbody tr th {\n",
       "        vertical-align: top;\n",
       "    }\n",
       "\n",
       "    .dataframe thead th {\n",
       "        text-align: right;\n",
       "    }\n",
       "</style>\n",
       "<table border=\"1\" class=\"dataframe\">\n",
       "  <thead>\n",
       "    <tr style=\"text-align: right;\">\n",
       "      <th></th>\n",
       "      <th>Category</th>\n",
       "      <th>2025-08-01 00:00:00</th>\n",
       "      <th>2025-09-01 00:00:00</th>\n",
       "      <th>2025-10-01 00:00:00</th>\n",
       "      <th>2025-11-01 00:00:00</th>\n",
       "      <th>2025-12-01 00:00:00</th>\n",
       "      <th>2026-01-01 00:00:00</th>\n",
       "      <th>2026-02-01 00:00:00</th>\n",
       "      <th>2026-03-01 00:00:00</th>\n",
       "      <th>2026-04-01 00:00:00</th>\n",
       "      <th>2026-05-01 00:00:00</th>\n",
       "      <th>2026-06-01 00:00:00</th>\n",
       "    </tr>\n",
       "  </thead>\n",
       "  <tbody>\n",
       "    <tr>\n",
       "      <th>0</th>\n",
       "      <td>Accounting Exp</td>\n",
       "      <td>1500.0</td>\n",
       "      <td>1500.0</td>\n",
       "      <td>1500.0</td>\n",
       "      <td>1500.0</td>\n",
       "      <td>1500.0</td>\n",
       "      <td>1500.0</td>\n",
       "      <td>1500.0</td>\n",
       "      <td>4800.0</td>\n",
       "      <td>1500.0</td>\n",
       "      <td>1500.0</td>\n",
       "      <td>1500.0</td>\n",
       "    </tr>\n",
       "    <tr>\n",
       "      <th>1</th>\n",
       "      <td>Audit Fees</td>\n",
       "      <td>0.0</td>\n",
       "      <td>0.0</td>\n",
       "      <td>0.0</td>\n",
       "      <td>0.0</td>\n",
       "      <td>10000.0</td>\n",
       "      <td>0.0</td>\n",
       "      <td>0.0</td>\n",
       "      <td>0.0</td>\n",
       "      <td>10000.0</td>\n",
       "      <td>0.0</td>\n",
       "      <td>0.0</td>\n",
       "    </tr>\n",
       "    <tr>\n",
       "      <th>2</th>\n",
       "      <td>Bank Charges</td>\n",
       "      <td>0.0</td>\n",
       "      <td>500.0</td>\n",
       "      <td>500.0</td>\n",
       "      <td>500.0</td>\n",
       "      <td>500.0</td>\n",
       "      <td>500.0</td>\n",
       "      <td>500.0</td>\n",
       "      <td>500.0</td>\n",
       "      <td>500.0</td>\n",
       "      <td>500.0</td>\n",
       "      <td>500.0</td>\n",
       "    </tr>\n",
       "    <tr>\n",
       "      <th>3</th>\n",
       "      <td>Contingency + Misc.</td>\n",
       "      <td>2061.295703</td>\n",
       "      <td>29995.718372</td>\n",
       "      <td>20736.408372</td>\n",
       "      <td>7029.371772</td>\n",
       "      <td>8571.391772</td>\n",
       "      <td>8048.795772</td>\n",
       "      <td>31509.419372</td>\n",
       "      <td>5841.795772</td>\n",
       "      <td>10088.795772</td>\n",
       "      <td>5967.795772</td>\n",
       "      <td>5775.795772</td>\n",
       "    </tr>\n",
       "    <tr>\n",
       "      <th>4</th>\n",
       "      <td>Government Exp</td>\n",
       "      <td>0.0</td>\n",
       "      <td>4000.0</td>\n",
       "      <td>4000.0</td>\n",
       "      <td>4000.0</td>\n",
       "      <td>4000.0</td>\n",
       "      <td>4000.0</td>\n",
       "      <td>4000.0</td>\n",
       "      <td>4000.0</td>\n",
       "      <td>4000.0</td>\n",
       "      <td>4000.0</td>\n",
       "      <td>4000.0</td>\n",
       "    </tr>\n",
       "    <tr>\n",
       "      <th>5</th>\n",
       "      <td>Lawyer Fees</td>\n",
       "      <td>0.0</td>\n",
       "      <td>7820.0</td>\n",
       "      <td>7820.0</td>\n",
       "      <td>7820.0</td>\n",
       "      <td>7820.0</td>\n",
       "      <td>7820.0</td>\n",
       "      <td>7820.0</td>\n",
       "      <td>7820.0</td>\n",
       "      <td>7820.0</td>\n",
       "      <td>7820.0</td>\n",
       "      <td>7820.0</td>\n",
       "    </tr>\n",
       "    <tr>\n",
       "      <th>6</th>\n",
       "      <td>Legal Exp</td>\n",
       "      <td>1875.0</td>\n",
       "      <td>1875.0</td>\n",
       "      <td>1875.0</td>\n",
       "      <td>1875.0</td>\n",
       "      <td>1875.0</td>\n",
       "      <td>1875.0</td>\n",
       "      <td>1875.0</td>\n",
       "      <td>1875.0</td>\n",
       "      <td>1875.0</td>\n",
       "      <td>1875.0</td>\n",
       "      <td>1875.0</td>\n",
       "    </tr>\n",
       "    <tr>\n",
       "      <th>7</th>\n",
       "      <td>Marketing</td>\n",
       "      <td>0.0</td>\n",
       "      <td>4000.0</td>\n",
       "      <td>4000.0</td>\n",
       "      <td>4000.0</td>\n",
       "      <td>4000.0</td>\n",
       "      <td>4000.0</td>\n",
       "      <td>4000.0</td>\n",
       "      <td>4000.0</td>\n",
       "      <td>4000.0</td>\n",
       "      <td>4000.0</td>\n",
       "      <td>4000.0</td>\n",
       "    </tr>\n",
       "    <tr>\n",
       "      <th>8</th>\n",
       "      <td>Personnel</td>\n",
       "      <td>0.0</td>\n",
       "      <td>330519.368611</td>\n",
       "      <td>291537.868611</td>\n",
       "      <td>236921.038611</td>\n",
       "      <td>304022.038611</td>\n",
       "      <td>229091.038611</td>\n",
       "      <td>229091.038611</td>\n",
       "      <td>221091.038611</td>\n",
       "      <td>221091.038611</td>\n",
       "      <td>230691.038611</td>\n",
       "      <td>221091.038611</td>\n",
       "    </tr>\n",
       "    <tr>\n",
       "      <th>9</th>\n",
       "      <td>Petty cash</td>\n",
       "      <td>0.0</td>\n",
       "      <td>1000.0</td>\n",
       "      <td>1000.0</td>\n",
       "      <td>1000.0</td>\n",
       "      <td>1000.0</td>\n",
       "      <td>1000.0</td>\n",
       "      <td>1000.0</td>\n",
       "      <td>1000.0</td>\n",
       "      <td>1000.0</td>\n",
       "      <td>1000.0</td>\n",
       "      <td>1000.0</td>\n",
       "    </tr>\n",
       "    <tr>\n",
       "      <th>10</th>\n",
       "      <td>Recruitment</td>\n",
       "      <td>0.0</td>\n",
       "      <td>10000.0</td>\n",
       "      <td>5000.0</td>\n",
       "      <td>5000.0</td>\n",
       "      <td>5000.0</td>\n",
       "      <td>5000.0</td>\n",
       "      <td>5000.0</td>\n",
       "      <td>5000.0</td>\n",
       "      <td>5000.0</td>\n",
       "      <td>5000.0</td>\n",
       "      <td>5000.0</td>\n",
       "    </tr>\n",
       "    <tr>\n",
       "      <th>11</th>\n",
       "      <td>Rent</td>\n",
       "      <td>0.0</td>\n",
       "      <td>3828.125</td>\n",
       "      <td>10078.125</td>\n",
       "      <td>3828.125</td>\n",
       "      <td>3828.125</td>\n",
       "      <td>10078.125</td>\n",
       "      <td>3828.125</td>\n",
       "      <td>3828.125</td>\n",
       "      <td>10078.125</td>\n",
       "      <td>3828.125</td>\n",
       "      <td>3828.125</td>\n",
       "    </tr>\n",
       "    <tr>\n",
       "      <th>12</th>\n",
       "      <td>Subscriptions</td>\n",
       "      <td>0.0</td>\n",
       "      <td>4675.625</td>\n",
       "      <td>4675.625</td>\n",
       "      <td>4675.625</td>\n",
       "      <td>4675.625</td>\n",
       "      <td>4675.625</td>\n",
       "      <td>4675.625</td>\n",
       "      <td>4675.625</td>\n",
       "      <td>4675.625</td>\n",
       "      <td>4675.625</td>\n",
       "      <td>4675.625</td>\n",
       "    </tr>\n",
       "    <tr>\n",
       "      <th>13</th>\n",
       "      <td>Taxs &amp; Social insurance</td>\n",
       "      <td>11840.985156</td>\n",
       "      <td>13400.0</td>\n",
       "      <td>13400.0</td>\n",
       "      <td>13400.0</td>\n",
       "      <td>13400.0</td>\n",
       "      <td>13400.0</td>\n",
       "      <td>13400.0</td>\n",
       "      <td>13400.0</td>\n",
       "      <td>13400.0</td>\n",
       "      <td>13400.0</td>\n",
       "      <td>13400.0</td>\n",
       "    </tr>\n",
       "    <tr>\n",
       "      <th>14</th>\n",
       "      <td>Travel Exp</td>\n",
       "      <td>0.0</td>\n",
       "      <td>16000.0</td>\n",
       "      <td>16000.0</td>\n",
       "      <td>16000.0</td>\n",
       "      <td>16000.0</td>\n",
       "      <td>16000.0</td>\n",
       "      <td>16000.0</td>\n",
       "      <td>16000.0</td>\n",
       "      <td>16000.0</td>\n",
       "      <td>16000.0</td>\n",
       "      <td>16000.0</td>\n",
       "    </tr>\n",
       "    <tr>\n",
       "      <th>15</th>\n",
       "      <td>VAT and Taxes</td>\n",
       "      <td>0.0</td>\n",
       "      <td>300000.0</td>\n",
       "      <td>600.0</td>\n",
       "      <td>600.0</td>\n",
       "      <td>600.0</td>\n",
       "      <td>100000.0</td>\n",
       "      <td>600.0</td>\n",
       "      <td>600.0</td>\n",
       "      <td>100000.0</td>\n",
       "      <td>600.0</td>\n",
       "      <td>600.0</td>\n",
       "    </tr>\n",
       "    <tr>\n",
       "      <th>16</th>\n",
       "      <td>Vendor</td>\n",
       "      <td>87848.8</td>\n",
       "      <td>61848.8</td>\n",
       "      <td>61848.8</td>\n",
       "      <td>46848.8</td>\n",
       "      <td>46848.8</td>\n",
       "      <td>0.0</td>\n",
       "      <td>0.0</td>\n",
       "      <td>0.0</td>\n",
       "      <td>0.0</td>\n",
       "      <td>0.0</td>\n",
       "      <td>0.0</td>\n",
       "    </tr>\n",
       "    <tr>\n",
       "      <th>17</th>\n",
       "      <td>Zakat</td>\n",
       "      <td>0.0</td>\n",
       "      <td>0.0</td>\n",
       "      <td>0.0</td>\n",
       "      <td>0.0</td>\n",
       "      <td>0.0</td>\n",
       "      <td>0.0</td>\n",
       "      <td>0.0</td>\n",
       "      <td>0.0</td>\n",
       "      <td>100000.0</td>\n",
       "      <td>0.0</td>\n",
       "      <td>0.0</td>\n",
       "    </tr>\n",
       "    <tr>\n",
       "      <th>18</th>\n",
       "      <td>Total Operating Cash Outflow</td>\n",
       "      <td>105126.080859</td>\n",
       "      <td>790962.636983</td>\n",
       "      <td>444571.826983</td>\n",
       "      <td>354997.960383</td>\n",
       "      <td>433640.980383</td>\n",
       "      <td>406988.584383</td>\n",
       "      <td>324799.207983</td>\n",
       "      <td>294431.584383</td>\n",
       "      <td>511028.584383</td>\n",
       "      <td>300857.584383</td>\n",
       "      <td>291065.584383</td>\n",
       "    </tr>\n",
       "  </tbody>\n",
       "</table>\n",
       "</div>"
      ],
      "text/plain": [
       "                        Category 2025-08-01 00:00:00 2025-09-01 00:00:00  \\\n",
       "0                Accounting Exp               1500.0              1500.0   \n",
       "1                    Audit Fees                  0.0                 0.0   \n",
       "2                  Bank Charges                  0.0               500.0   \n",
       "3            Contingency + Misc.         2061.295703        29995.718372   \n",
       "4                Government Exp                  0.0              4000.0   \n",
       "5                   Lawyer Fees                  0.0              7820.0   \n",
       "6                     Legal Exp               1875.0              1875.0   \n",
       "7                     Marketing                  0.0              4000.0   \n",
       "8                     Personnel                  0.0       330519.368611   \n",
       "9                    Petty cash                  0.0              1000.0   \n",
       "10                   Recruitment                 0.0             10000.0   \n",
       "11                         Rent                  0.0            3828.125   \n",
       "12                Subscriptions                  0.0            4675.625   \n",
       "13       Taxs & Social insurance        11840.985156             13400.0   \n",
       "14                   Travel Exp                  0.0             16000.0   \n",
       "15                VAT and Taxes                  0.0            300000.0   \n",
       "16                        Vendor             87848.8             61848.8   \n",
       "17                        Zakat                  0.0                 0.0   \n",
       "18  Total Operating Cash Outflow       105126.080859       790962.636983   \n",
       "\n",
       "   2025-10-01 00:00:00 2025-11-01 00:00:00 2025-12-01 00:00:00  \\\n",
       "0               1500.0              1500.0              1500.0   \n",
       "1                  0.0                 0.0             10000.0   \n",
       "2                500.0               500.0               500.0   \n",
       "3         20736.408372         7029.371772         8571.391772   \n",
       "4               4000.0              4000.0              4000.0   \n",
       "5               7820.0              7820.0              7820.0   \n",
       "6               1875.0              1875.0              1875.0   \n",
       "7               4000.0              4000.0              4000.0   \n",
       "8        291537.868611       236921.038611       304022.038611   \n",
       "9               1000.0              1000.0              1000.0   \n",
       "10              5000.0              5000.0              5000.0   \n",
       "11           10078.125            3828.125            3828.125   \n",
       "12            4675.625            4675.625            4675.625   \n",
       "13             13400.0             13400.0             13400.0   \n",
       "14             16000.0             16000.0             16000.0   \n",
       "15               600.0               600.0               600.0   \n",
       "16             61848.8             46848.8             46848.8   \n",
       "17                 0.0                 0.0                 0.0   \n",
       "18       444571.826983       354997.960383       433640.980383   \n",
       "\n",
       "   2026-01-01 00:00:00 2026-02-01 00:00:00 2026-03-01 00:00:00  \\\n",
       "0               1500.0              1500.0              4800.0   \n",
       "1                  0.0                 0.0                 0.0   \n",
       "2                500.0               500.0               500.0   \n",
       "3          8048.795772        31509.419372         5841.795772   \n",
       "4               4000.0              4000.0              4000.0   \n",
       "5               7820.0              7820.0              7820.0   \n",
       "6               1875.0              1875.0              1875.0   \n",
       "7               4000.0              4000.0              4000.0   \n",
       "8        229091.038611       229091.038611       221091.038611   \n",
       "9               1000.0              1000.0              1000.0   \n",
       "10              5000.0              5000.0              5000.0   \n",
       "11           10078.125            3828.125            3828.125   \n",
       "12            4675.625            4675.625            4675.625   \n",
       "13             13400.0             13400.0             13400.0   \n",
       "14             16000.0             16000.0             16000.0   \n",
       "15            100000.0               600.0               600.0   \n",
       "16                 0.0                 0.0                 0.0   \n",
       "17                 0.0                 0.0                 0.0   \n",
       "18       406988.584383       324799.207983       294431.584383   \n",
       "\n",
       "   2026-04-01 00:00:00 2026-05-01 00:00:00 2026-06-01 00:00:00  \n",
       "0               1500.0              1500.0              1500.0  \n",
       "1              10000.0                 0.0                 0.0  \n",
       "2                500.0               500.0               500.0  \n",
       "3         10088.795772         5967.795772         5775.795772  \n",
       "4               4000.0              4000.0              4000.0  \n",
       "5               7820.0              7820.0              7820.0  \n",
       "6               1875.0              1875.0              1875.0  \n",
       "7               4000.0              4000.0              4000.0  \n",
       "8        221091.038611       230691.038611       221091.038611  \n",
       "9               1000.0              1000.0              1000.0  \n",
       "10              5000.0              5000.0              5000.0  \n",
       "11           10078.125            3828.125            3828.125  \n",
       "12            4675.625            4675.625            4675.625  \n",
       "13             13400.0             13400.0             13400.0  \n",
       "14             16000.0             16000.0             16000.0  \n",
       "15            100000.0               600.0               600.0  \n",
       "16                 0.0                 0.0                 0.0  \n",
       "17            100000.0                 0.0                 0.0  \n",
       "18       511028.584383       300857.584383       291065.584383  "
      ]
     },
     "execution_count": 4,
     "metadata": {},
     "output_type": "execute_result"
    }
   ],
   "source": [
    "Data.Cash_Flow_Forecast_Both"
   ]
  },
  {
   "cell_type": "code",
   "execution_count": 5,
   "id": "86893971",
   "metadata": {},
   "outputs": [
    {
     "data": {
      "text/plain": [
       "{'Cash Beginning Balance': 157802.15,\n",
       " 'Total Operating Cash Inflow': 3926203.6,\n",
       " 'Total Cash outflow For KSA': -3258659.2942253477,\n",
       " 'Total Cash outflow For Egypt ': -999811.321267361,\n",
       " 'Total Investing Cash Outflow': -35000,\n",
       " 'Total Cash outflow from Financing ': -1417182.18,\n",
       " 'Cash Ending Balance': -1626647.0454927087}"
      ]
     },
     "execution_count": 5,
     "metadata": {},
     "output_type": "execute_result"
    }
   ],
   "source": [
    "Data.calculations_dict"
   ]
  },
  {
   "cell_type": "code",
   "execution_count": 6,
   "id": "999b744f",
   "metadata": {},
   "outputs": [],
   "source": [
    "plots = plot_diagrams()\n"
   ]
  },
  {
   "cell_type": "code",
   "execution_count": 7,
   "id": "ba8e5482",
   "metadata": {},
   "outputs": [
    {
     "data": {
      "application/vnd.plotly.v1+json": {
       "config": {
        "plotlyServerURL": "https://plot.ly"
       },
       "data": [
        {
         "connector": {
          "line": {
           "color": "rgb(63, 63, 63)"
          }
         },
         "decreasing": {
          "marker": {
           "color": "#dc3545"
          }
         },
         "increasing": {
          "marker": {
           "color": "#28a745"
          }
         },
         "totals": {
          "marker": {
           "color": "#0066cc"
          }
         },
         "type": "waterfall",
         "x": [
          "Cash Beginning Balance",
          "Total Operating Cash Inflow",
          "Total Cash outflow For KSA",
          "Total Cash outflow For Egypt ",
          "Total Investing Cash Outflow",
          "Total Cash outflow from Financing ",
          "Cash Ending Balance"
         ],
         "y": [
          157802.15,
          3926203.6,
          -3258659.2942253477,
          -999811.321267361,
          -35000,
          -1417182.18,
          -1626647.0454927087
         ]
        }
       ],
       "layout": {
        "autosize": true,
        "margin": {
         "b": 40,
         "l": 40,
         "r": 40,
         "t": 60
        },
        "template": {
         "data": {
          "bar": [
           {
            "error_x": {
             "color": "#2a3f5f"
            },
            "error_y": {
             "color": "#2a3f5f"
            },
            "marker": {
             "line": {
              "color": "#E5ECF6",
              "width": 0.5
             },
             "pattern": {
              "fillmode": "overlay",
              "size": 10,
              "solidity": 0.2
             }
            },
            "type": "bar"
           }
          ],
          "barpolar": [
           {
            "marker": {
             "line": {
              "color": "#E5ECF6",
              "width": 0.5
             },
             "pattern": {
              "fillmode": "overlay",
              "size": 10,
              "solidity": 0.2
             }
            },
            "type": "barpolar"
           }
          ],
          "carpet": [
           {
            "aaxis": {
             "endlinecolor": "#2a3f5f",
             "gridcolor": "white",
             "linecolor": "white",
             "minorgridcolor": "white",
             "startlinecolor": "#2a3f5f"
            },
            "baxis": {
             "endlinecolor": "#2a3f5f",
             "gridcolor": "white",
             "linecolor": "white",
             "minorgridcolor": "white",
             "startlinecolor": "#2a3f5f"
            },
            "type": "carpet"
           }
          ],
          "choropleth": [
           {
            "colorbar": {
             "outlinewidth": 0,
             "ticks": ""
            },
            "type": "choropleth"
           }
          ],
          "contour": [
           {
            "colorbar": {
             "outlinewidth": 0,
             "ticks": ""
            },
            "colorscale": [
             [
              0,
              "#0d0887"
             ],
             [
              0.1111111111111111,
              "#46039f"
             ],
             [
              0.2222222222222222,
              "#7201a8"
             ],
             [
              0.3333333333333333,
              "#9c179e"
             ],
             [
              0.4444444444444444,
              "#bd3786"
             ],
             [
              0.5555555555555556,
              "#d8576b"
             ],
             [
              0.6666666666666666,
              "#ed7953"
             ],
             [
              0.7777777777777778,
              "#fb9f3a"
             ],
             [
              0.8888888888888888,
              "#fdca26"
             ],
             [
              1,
              "#f0f921"
             ]
            ],
            "type": "contour"
           }
          ],
          "contourcarpet": [
           {
            "colorbar": {
             "outlinewidth": 0,
             "ticks": ""
            },
            "type": "contourcarpet"
           }
          ],
          "heatmap": [
           {
            "colorbar": {
             "outlinewidth": 0,
             "ticks": ""
            },
            "colorscale": [
             [
              0,
              "#0d0887"
             ],
             [
              0.1111111111111111,
              "#46039f"
             ],
             [
              0.2222222222222222,
              "#7201a8"
             ],
             [
              0.3333333333333333,
              "#9c179e"
             ],
             [
              0.4444444444444444,
              "#bd3786"
             ],
             [
              0.5555555555555556,
              "#d8576b"
             ],
             [
              0.6666666666666666,
              "#ed7953"
             ],
             [
              0.7777777777777778,
              "#fb9f3a"
             ],
             [
              0.8888888888888888,
              "#fdca26"
             ],
             [
              1,
              "#f0f921"
             ]
            ],
            "type": "heatmap"
           }
          ],
          "heatmapgl": [
           {
            "colorbar": {
             "outlinewidth": 0,
             "ticks": ""
            },
            "colorscale": [
             [
              0,
              "#0d0887"
             ],
             [
              0.1111111111111111,
              "#46039f"
             ],
             [
              0.2222222222222222,
              "#7201a8"
             ],
             [
              0.3333333333333333,
              "#9c179e"
             ],
             [
              0.4444444444444444,
              "#bd3786"
             ],
             [
              0.5555555555555556,
              "#d8576b"
             ],
             [
              0.6666666666666666,
              "#ed7953"
             ],
             [
              0.7777777777777778,
              "#fb9f3a"
             ],
             [
              0.8888888888888888,
              "#fdca26"
             ],
             [
              1,
              "#f0f921"
             ]
            ],
            "type": "heatmapgl"
           }
          ],
          "histogram": [
           {
            "marker": {
             "pattern": {
              "fillmode": "overlay",
              "size": 10,
              "solidity": 0.2
             }
            },
            "type": "histogram"
           }
          ],
          "histogram2d": [
           {
            "colorbar": {
             "outlinewidth": 0,
             "ticks": ""
            },
            "colorscale": [
             [
              0,
              "#0d0887"
             ],
             [
              0.1111111111111111,
              "#46039f"
             ],
             [
              0.2222222222222222,
              "#7201a8"
             ],
             [
              0.3333333333333333,
              "#9c179e"
             ],
             [
              0.4444444444444444,
              "#bd3786"
             ],
             [
              0.5555555555555556,
              "#d8576b"
             ],
             [
              0.6666666666666666,
              "#ed7953"
             ],
             [
              0.7777777777777778,
              "#fb9f3a"
             ],
             [
              0.8888888888888888,
              "#fdca26"
             ],
             [
              1,
              "#f0f921"
             ]
            ],
            "type": "histogram2d"
           }
          ],
          "histogram2dcontour": [
           {
            "colorbar": {
             "outlinewidth": 0,
             "ticks": ""
            },
            "colorscale": [
             [
              0,
              "#0d0887"
             ],
             [
              0.1111111111111111,
              "#46039f"
             ],
             [
              0.2222222222222222,
              "#7201a8"
             ],
             [
              0.3333333333333333,
              "#9c179e"
             ],
             [
              0.4444444444444444,
              "#bd3786"
             ],
             [
              0.5555555555555556,
              "#d8576b"
             ],
             [
              0.6666666666666666,
              "#ed7953"
             ],
             [
              0.7777777777777778,
              "#fb9f3a"
             ],
             [
              0.8888888888888888,
              "#fdca26"
             ],
             [
              1,
              "#f0f921"
             ]
            ],
            "type": "histogram2dcontour"
           }
          ],
          "mesh3d": [
           {
            "colorbar": {
             "outlinewidth": 0,
             "ticks": ""
            },
            "type": "mesh3d"
           }
          ],
          "parcoords": [
           {
            "line": {
             "colorbar": {
              "outlinewidth": 0,
              "ticks": ""
             }
            },
            "type": "parcoords"
           }
          ],
          "pie": [
           {
            "automargin": true,
            "type": "pie"
           }
          ],
          "scatter": [
           {
            "fillpattern": {
             "fillmode": "overlay",
             "size": 10,
             "solidity": 0.2
            },
            "type": "scatter"
           }
          ],
          "scatter3d": [
           {
            "line": {
             "colorbar": {
              "outlinewidth": 0,
              "ticks": ""
             }
            },
            "marker": {
             "colorbar": {
              "outlinewidth": 0,
              "ticks": ""
             }
            },
            "type": "scatter3d"
           }
          ],
          "scattercarpet": [
           {
            "marker": {
             "colorbar": {
              "outlinewidth": 0,
              "ticks": ""
             }
            },
            "type": "scattercarpet"
           }
          ],
          "scattergeo": [
           {
            "marker": {
             "colorbar": {
              "outlinewidth": 0,
              "ticks": ""
             }
            },
            "type": "scattergeo"
           }
          ],
          "scattergl": [
           {
            "marker": {
             "colorbar": {
              "outlinewidth": 0,
              "ticks": ""
             }
            },
            "type": "scattergl"
           }
          ],
          "scattermapbox": [
           {
            "marker": {
             "colorbar": {
              "outlinewidth": 0,
              "ticks": ""
             }
            },
            "type": "scattermapbox"
           }
          ],
          "scatterpolar": [
           {
            "marker": {
             "colorbar": {
              "outlinewidth": 0,
              "ticks": ""
             }
            },
            "type": "scatterpolar"
           }
          ],
          "scatterpolargl": [
           {
            "marker": {
             "colorbar": {
              "outlinewidth": 0,
              "ticks": ""
             }
            },
            "type": "scatterpolargl"
           }
          ],
          "scatterternary": [
           {
            "marker": {
             "colorbar": {
              "outlinewidth": 0,
              "ticks": ""
             }
            },
            "type": "scatterternary"
           }
          ],
          "surface": [
           {
            "colorbar": {
             "outlinewidth": 0,
             "ticks": ""
            },
            "colorscale": [
             [
              0,
              "#0d0887"
             ],
             [
              0.1111111111111111,
              "#46039f"
             ],
             [
              0.2222222222222222,
              "#7201a8"
             ],
             [
              0.3333333333333333,
              "#9c179e"
             ],
             [
              0.4444444444444444,
              "#bd3786"
             ],
             [
              0.5555555555555556,
              "#d8576b"
             ],
             [
              0.6666666666666666,
              "#ed7953"
             ],
             [
              0.7777777777777778,
              "#fb9f3a"
             ],
             [
              0.8888888888888888,
              "#fdca26"
             ],
             [
              1,
              "#f0f921"
             ]
            ],
            "type": "surface"
           }
          ],
          "table": [
           {
            "cells": {
             "fill": {
              "color": "#EBF0F8"
             },
             "line": {
              "color": "white"
             }
            },
            "header": {
             "fill": {
              "color": "#C8D4E3"
             },
             "line": {
              "color": "white"
             }
            },
            "type": "table"
           }
          ]
         },
         "layout": {
          "annotationdefaults": {
           "arrowcolor": "#2a3f5f",
           "arrowhead": 0,
           "arrowwidth": 1
          },
          "autotypenumbers": "strict",
          "coloraxis": {
           "colorbar": {
            "outlinewidth": 0,
            "ticks": ""
           }
          },
          "colorscale": {
           "diverging": [
            [
             0,
             "#8e0152"
            ],
            [
             0.1,
             "#c51b7d"
            ],
            [
             0.2,
             "#de77ae"
            ],
            [
             0.3,
             "#f1b6da"
            ],
            [
             0.4,
             "#fde0ef"
            ],
            [
             0.5,
             "#f7f7f7"
            ],
            [
             0.6,
             "#e6f5d0"
            ],
            [
             0.7,
             "#b8e186"
            ],
            [
             0.8,
             "#7fbc41"
            ],
            [
             0.9,
             "#4d9221"
            ],
            [
             1,
             "#276419"
            ]
           ],
           "sequential": [
            [
             0,
             "#0d0887"
            ],
            [
             0.1111111111111111,
             "#46039f"
            ],
            [
             0.2222222222222222,
             "#7201a8"
            ],
            [
             0.3333333333333333,
             "#9c179e"
            ],
            [
             0.4444444444444444,
             "#bd3786"
            ],
            [
             0.5555555555555556,
             "#d8576b"
            ],
            [
             0.6666666666666666,
             "#ed7953"
            ],
            [
             0.7777777777777778,
             "#fb9f3a"
            ],
            [
             0.8888888888888888,
             "#fdca26"
            ],
            [
             1,
             "#f0f921"
            ]
           ],
           "sequentialminus": [
            [
             0,
             "#0d0887"
            ],
            [
             0.1111111111111111,
             "#46039f"
            ],
            [
             0.2222222222222222,
             "#7201a8"
            ],
            [
             0.3333333333333333,
             "#9c179e"
            ],
            [
             0.4444444444444444,
             "#bd3786"
            ],
            [
             0.5555555555555556,
             "#d8576b"
            ],
            [
             0.6666666666666666,
             "#ed7953"
            ],
            [
             0.7777777777777778,
             "#fb9f3a"
            ],
            [
             0.8888888888888888,
             "#fdca26"
            ],
            [
             1,
             "#f0f921"
            ]
           ]
          },
          "colorway": [
           "#636efa",
           "#EF553B",
           "#00cc96",
           "#ab63fa",
           "#FFA15A",
           "#19d3f3",
           "#FF6692",
           "#B6E880",
           "#FF97FF",
           "#FECB52"
          ],
          "font": {
           "color": "#2a3f5f"
          },
          "geo": {
           "bgcolor": "white",
           "lakecolor": "white",
           "landcolor": "#E5ECF6",
           "showlakes": true,
           "showland": true,
           "subunitcolor": "white"
          },
          "hoverlabel": {
           "align": "left"
          },
          "hovermode": "closest",
          "mapbox": {
           "style": "light"
          },
          "paper_bgcolor": "white",
          "plot_bgcolor": "#E5ECF6",
          "polar": {
           "angularaxis": {
            "gridcolor": "white",
            "linecolor": "white",
            "ticks": ""
           },
           "bgcolor": "#E5ECF6",
           "radialaxis": {
            "gridcolor": "white",
            "linecolor": "white",
            "ticks": ""
           }
          },
          "scene": {
           "xaxis": {
            "backgroundcolor": "#E5ECF6",
            "gridcolor": "white",
            "gridwidth": 2,
            "linecolor": "white",
            "showbackground": true,
            "ticks": "",
            "zerolinecolor": "white"
           },
           "yaxis": {
            "backgroundcolor": "#E5ECF6",
            "gridcolor": "white",
            "gridwidth": 2,
            "linecolor": "white",
            "showbackground": true,
            "ticks": "",
            "zerolinecolor": "white"
           },
           "zaxis": {
            "backgroundcolor": "#E5ECF6",
            "gridcolor": "white",
            "gridwidth": 2,
            "linecolor": "white",
            "showbackground": true,
            "ticks": "",
            "zerolinecolor": "white"
           }
          },
          "shapedefaults": {
           "line": {
            "color": "#2a3f5f"
           }
          },
          "ternary": {
           "aaxis": {
            "gridcolor": "white",
            "linecolor": "white",
            "ticks": ""
           },
           "baxis": {
            "gridcolor": "white",
            "linecolor": "white",
            "ticks": ""
           },
           "bgcolor": "#E5ECF6",
           "caxis": {
            "gridcolor": "white",
            "linecolor": "white",
            "ticks": ""
           }
          },
          "title": {
           "x": 0.05
          },
          "xaxis": {
           "automargin": true,
           "gridcolor": "white",
           "linecolor": "white",
           "ticks": "",
           "title": {
            "standoff": 15
           },
           "zerolinecolor": "white",
           "zerolinewidth": 2
          },
          "yaxis": {
           "automargin": true,
           "gridcolor": "white",
           "linecolor": "white",
           "ticks": "",
           "title": {
            "standoff": 15
           },
           "zerolinecolor": "white",
           "zerolinewidth": 2
          }
         }
        },
        "title": {
         "text": "Cash Movement Summary Water Fall (000s SAR)"
        },
        "xaxis": {
         "title": {
          "text": "Category"
         }
        },
        "yaxis": {
         "title": {
          "text": "Amount (000s SAR)"
         }
        }
       }
      }
     },
     "metadata": {},
     "output_type": "display_data"
    }
   ],
   "source": [
    "plots.waterfall_cash_movement_fig"
   ]
  },
  {
   "cell_type": "code",
   "execution_count": 9,
   "id": "2757e52b",
   "metadata": {},
   "outputs": [
    {
     "data": {
      "application/vnd.jupyter.widget-view+json": {
       "model_id": "1e8dcd0005d14507bb2b7fe381e901a4",
       "version_major": 2,
       "version_minor": 0
      },
      "text/plain": [
       "VBox(children=(SelectionRangeSlider(continuous_update=False, description='Period:', index=(0, 10), layout=Layo…"
      ]
     },
     "metadata": {},
     "output_type": "display_data"
    }
   ],
   "source": [
    "plots.create_pie_and_bar_with_interactive_slider_fig"
   ]
  },
  {
   "cell_type": "code",
   "execution_count": null,
   "id": "a45ae260",
   "metadata": {},
   "outputs": [],
   "source": []
  }
 ],
 "metadata": {
  "kernelspec": {
   "display_name": "base",
   "language": "python",
   "name": "python3"
  },
  "language_info": {
   "codemirror_mode": {
    "name": "ipython",
    "version": 3
   },
   "file_extension": ".py",
   "mimetype": "text/x-python",
   "name": "python",
   "nbconvert_exporter": "python",
   "pygments_lexer": "ipython3",
   "version": "3.9.19"
  }
 },
 "nbformat": 4,
 "nbformat_minor": 5
}
